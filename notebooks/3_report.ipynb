{
 "cells": [
  {
   "cell_type": "code",
   "execution_count": null,
   "id": "1c42b760",
   "metadata": {},
   "outputs": [],
   "source": [
    "# Installing required packages\n",
    "!pip install pyspark\n",
    "!pip install findspark"
   ]
  },
  {
   "cell_type": "code",
   "execution_count": null,
   "id": "aa3445b8",
   "metadata": {},
   "outputs": [],
   "source": [
    "# starting spark\n",
    "import findspark\n",
    "findspark.init()"
   ]
  },
  {
   "cell_type": "code",
   "execution_count": null,
   "id": "1493b8e4",
   "metadata": {},
   "outputs": [],
   "source": [
    "# PySpark is the Spark API for Python. In this lab, we use PySpark to initialize the spark context. \n",
    "from pyspark import SparkContext, SparkConf\n",
    "from pyspark.sql import SparkSession\n",
    "from pyspark.sql.functions import when, col, lit, udf, length, substring, expr, regexp_replace, sum_distinct\n",
    "from pyspark.sql.types import StructType,StructField, StringType, IntegerType, FloatType\n",
    "from pyspark.sql import functions as F"
   ]
  },
  {
   "cell_type": "code",
   "execution_count": null,
   "id": "03816cbd",
   "metadata": {},
   "outputs": [],
   "source": [
    "# Creating a spark context class\n",
    "sc = SparkContext()\n",
    "\n",
    "# Creating a spark session\n",
    "spark = (SparkSession.builder\n",
    "                     .master(\"local[7]\")\n",
    "                     .appName(\"Aceleração PySpark - Capgemini\"))"
   ]
  },
  {
   "cell_type": "code",
   "execution_count": null,
   "id": "7dca16bd",
   "metadata": {},
   "outputs": [],
   "source": [
    "path = 'C:/Users/coskata/Downloads/Datasets/parquet/airports.parquet'\n",
    "df_airports = spark.read.parquet(path)\n",
    "\n",
    "path = 'C:/Users/coskata/Downloads/Datasets/parquet/flights.parquet'\n",
    "df_flights = spark.read.parquet(path)\n",
    "\n",
    "path = 'C:/Users/coskata/Downloads/Datasets/parquet/planes.parquet'\n",
    "df_planes = spark.read.parquet(path)"
   ]
  },
  {
   "cell_type": "markdown",
   "id": "367d1cd1",
   "metadata": {},
   "source": [
    "# Qualidade"
   ]
  },
  {
   "cell_type": "markdown",
   "id": "6241d613",
   "metadata": {},
   "source": [
    "# Pergunta 1"
   ]
  },
  {
   "cell_type": "code",
   "execution_count": null,
   "id": "08393b19",
   "metadata": {},
   "outputs": [],
   "source": [
    "df_planes = df_planes.withColumnRenamed(\"tailnum\", \"tailnum_planes\")\\\n",
    ".withColumnRenamed(\"qa_tailnum\", \"qa_tailnum_planes\")"
   ]
  },
  {
   "cell_type": "code",
   "execution_count": null,
   "id": "7ce194b5",
   "metadata": {},
   "outputs": [],
   "source": [
    "df_flights = df_flights.withColumnRenamed(\"tailnum\", \"tailnum_flights\")\\\n",
    ".withColumnRenamed(\"qa_tailnum\", \"qa_tailnum_flights\")"
   ]
  },
  {
   "cell_type": "code",
   "execution_count": null,
   "id": "70270eab",
   "metadata": {},
   "outputs": [],
   "source": [
    "cond = [\n",
    "    df_flights.tailnum_flights == df_planes.tailnum_planes, \n",
    "]\n",
    "\n",
    "df_j1 = df_flights.join(df_planes, cond, 'left')"
   ]
  },
  {
   "cell_type": "code",
   "execution_count": null,
   "id": "832750df",
   "metadata": {},
   "outputs": [],
   "source": [
    "cond = [\n",
    "    df_j1.origin == df_airports.faa\n",
    "]\n",
    "\n",
    "df_j2 = df_j1.join(df_airports, cond, 'left')"
   ]
  },
  {
   "cell_type": "code",
   "execution_count": null,
   "id": "118c590e",
   "metadata": {},
   "outputs": [],
   "source": [
    "df_airports2 = df_airports.withColumnRenamed(\"faa\", \"faa_a\")\\\n",
    ".withColumnRenamed(\"name\", \"name_a\")\\\n",
    ".withColumnRenamed(\"qa_faa\", \"qa_faa_a\")\\\n",
    ".withColumnRenamed(\"qa_name\", \"qa_name_a\")\\\n",
    ".withColumnRenamed(\"qa_lat\", \"qa_lat_a\")\\\n",
    ".withColumnRenamed(\"qa_lon\", \"qa_lon_a\")\\\n",
    ".withColumnRenamed(\"qa_alt\", \"qa_alt_a\")\\\n",
    ".withColumnRenamed(\"qa_tz\", \"qa_tz_a\")\\\n",
    ".withColumnRenamed(\"qa_dst\", \"qa_dst_a\")"
   ]
  },
  {
   "cell_type": "code",
   "execution_count": null,
   "id": "47465f8c",
   "metadata": {},
   "outputs": [],
   "source": [
    "cond = [\n",
    "    df_j2.dest == df_airports2.faa_a\n",
    "]\n",
    "df_j3 = df_j2.join(df_airports2, cond, 'left')"
   ]
  },
  {
   "cell_type": "markdown",
   "id": "0fe6140b",
   "metadata": {},
   "source": [
    "# Teste do resultado"
   ]
  },
  {
   "cell_type": "code",
   "execution_count": null,
   "id": "9bb2ccde",
   "metadata": {},
   "outputs": [],
   "source": [
    "df_j3.show()"
   ]
  },
  {
   "cell_type": "markdown",
   "id": "9d26ae41",
   "metadata": {},
   "source": [
    "# Pergunta 2"
   ]
  },
  {
   "cell_type": "code",
   "execution_count": null,
   "id": "fa8235cc",
   "metadata": {},
   "outputs": [],
   "source": [
    "df_qa = df_j3.select(df_j3.colRegex(\"`^qa_.*`\"))"
   ]
  },
  {
   "cell_type": "code",
   "execution_count": null,
   "id": "58943ba3",
   "metadata": {},
   "outputs": [],
   "source": [
    "for c in df_qa.columns:\n",
    "#     print(c)\n",
    "    df_qa.filter(F.col(c) == 'M').groupBy(F.substring(c, 1, 1).alias(c)).count().show()"
   ]
  },
  {
   "cell_type": "code",
   "execution_count": null,
   "id": "a042b31c",
   "metadata": {},
   "outputs": [],
   "source": [
    "for c in df_qa.columns:\n",
    "#     print(c)\n",
    "    df_qa.filter(F.col(c) == 'F').groupBy(F.substring(c, 1, 1).alias(c)).count().show()"
   ]
  },
  {
   "cell_type": "code",
   "execution_count": null,
   "id": "d5729634",
   "metadata": {},
   "outputs": [],
   "source": [
    "for c in df_qa.columns:\n",
    "#     print(c)\n",
    "    df_qa.filter(F.col(c) == 'I').groupBy(F.substring(c, 1, 1).alias(c)).count().show()"
   ]
  },
  {
   "cell_type": "code",
   "execution_count": null,
   "id": "673afe7d",
   "metadata": {},
   "outputs": [],
   "source": [
    "for c in df_qa.columns:\n",
    "#     print(c)\n",
    "    df_qa.filter(F.col(c) == 'S').groupBy(F.substring(c, 1, 1).alias(c)).count().show()"
   ]
  },
  {
   "cell_type": "code",
   "execution_count": null,
   "id": "e9a06475",
   "metadata": {},
   "outputs": [],
   "source": [
    "for c in df_qa.columns:\n",
    "#     print(c)\n",
    "    df_qa.filter(F.col(c) == 'T').groupBy(F.substring(c, 1, 1).alias(c)).count().show()"
   ]
  },
  {
   "cell_type": "markdown",
   "id": "0924dbf2",
   "metadata": {},
   "source": [
    "# Pergunta 3"
   ]
  },
  {
   "cell_type": "code",
   "execution_count": null,
   "id": "509b78c7",
   "metadata": {},
   "outputs": [],
   "source": [
    "for c in df_qa.columns:\n",
    "#     print(c)\n",
    "    df_qa.filter(F.col(c) == 'M').groupBy(F.substring(c, 1, 1).alias(c)).count().show()\n",
    "    \n"
   ]
  },
  {
   "cell_type": "markdown",
   "id": "6832c7c7",
   "metadata": {},
   "source": [
    "# Pergunta 4"
   ]
  },
  {
   "cell_type": "code",
   "execution_count": null,
   "id": "7b10134b",
   "metadata": {},
   "outputs": [],
   "source": [
    "for c in df_qa.columns:\n",
    "#     print(c)\n",
    "    df_qa.filter(F.col(c) == 'F').groupBy(F.substring(c, 1, 1).alias(c)).count().show()"
   ]
  },
  {
   "cell_type": "markdown",
   "id": "371dda67",
   "metadata": {},
   "source": [
    "# Pergunta 5"
   ]
  },
  {
   "cell_type": "code",
   "execution_count": null,
   "id": "d00b3a54",
   "metadata": {},
   "outputs": [],
   "source": [
    "for c in df_qa.columns:\n",
    "#     print(c)\n",
    "    df_qa.filter(F.col(c) == 'I').groupBy(F.substring(c, 1, 1).alias(c)).count().show()"
   ]
  },
  {
   "cell_type": "markdown",
   "id": "fc1716f2",
   "metadata": {},
   "source": [
    "# Negócio"
   ]
  },
  {
   "cell_type": "markdown",
   "id": "fd98d87f",
   "metadata": {},
   "source": [
    "# Pergunta 1"
   ]
  },
  {
   "cell_type": "code",
   "execution_count": null,
   "id": "e22f683a",
   "metadata": {},
   "outputs": [],
   "source": [
    "path = 'C:/Users/coskata/Downloads/Datasets/parquet/airports3.parquet'\n",
    "df_airports = spark.read.parquet(path)\n",
    "\n",
    "path = 'C:/Users/coskata/Downloads/Datasets/parquet/flights3.parquet'\n",
    "df_flights = spark.read.parquet(path)\n",
    "\n",
    "path = 'C:/Users/coskata/Downloads/Datasets/parquet/planes3.parquet'\n",
    "df_planes = spark.read.parquet(path)"
   ]
  },
  {
   "cell_type": "code",
   "execution_count": null,
   "id": "54535956",
   "metadata": {},
   "outputs": [],
   "source": [
    "df_planes = df_planes.withColumnRenamed(\"tailnum\", \"tailnum_p\")"
   ]
  },
  {
   "cell_type": "code",
   "execution_count": null,
   "id": "afcb0c14",
   "metadata": {},
   "outputs": [],
   "source": [
    "cond = [\n",
    "    df_flights.tailnum == df_planes.tailnum_p, \n",
    "]\n",
    "\n",
    "df_j1 = df_flights.join(df_planes, cond, 'left')"
   ]
  },
  {
   "cell_type": "code",
   "execution_count": null,
   "id": "d1c5ba7b",
   "metadata": {},
   "outputs": [],
   "source": [
    "cond = [\n",
    "    df_j1.origin == df_airports.faa\n",
    "]\n",
    "\n",
    "df_j2 = df_j1.join(df_airports, cond, 'left')"
   ]
  },
  {
   "cell_type": "code",
   "execution_count": null,
   "id": "b32917fb",
   "metadata": {},
   "outputs": [],
   "source": [
    "df_airports2 = df_airports.withColumnRenamed(\"faa\", \"faa_a\")\\\n",
    ".withColumnRenamed(\"name\", \"name_a\")\\\n",
    ".withColumnRenamed(\"lat\", \"lat_a\")\\\n",
    ".withColumnRenamed(\"lon\", \"lon_a\")\\\n",
    ".withColumnRenamed(\"alt\", \"alt_a\")\\\n",
    ".withColumnRenamed(\"tz\", \"tz_a\")\\\n",
    ".withColumnRenamed(\"dst\", \"dst_a\")\\\n",
    ".withColumnRenamed(\"region\", \"region_a\")\\\n",
    ".withColumnRenamed(\"type\", \"type_a\")\\\n",
    ".withColumnRenamed(\"military\", \"military_a\")\\\n",
    ".withColumnRenamed(\"administration\", \"administration_a\")"
   ]
  },
  {
   "cell_type": "code",
   "execution_count": null,
   "id": "c6b2a28a",
   "metadata": {},
   "outputs": [],
   "source": [
    "cond = [\n",
    "    df_j2.dest == df_airports2.faa_a\n",
    "]\n",
    "df_j3 = df_j2.join(df_airports2, cond, 'left')"
   ]
  },
  {
   "cell_type": "markdown",
   "id": "c808983a",
   "metadata": {},
   "source": [
    "# Pergunta 2"
   ]
  },
  {
   "cell_type": "code",
   "execution_count": null,
   "id": "09828629",
   "metadata": {},
   "outputs": [],
   "source": [
    "df_j3.groupBy('name').count().show()"
   ]
  },
  {
   "cell_type": "markdown",
   "id": "18a81ba3",
   "metadata": {},
   "source": [
    "# Pergunta 3"
   ]
  },
  {
   "cell_type": "code",
   "execution_count": null,
   "id": "318affbc",
   "metadata": {},
   "outputs": [],
   "source": [
    "df3_1 = df_j3.withColumn(\n",
    "    'dif_alt',\n",
    "    F.abs(expr('alt - alt_a'))\n",
    "    )"
   ]
  },
  {
   "cell_type": "code",
   "execution_count": null,
   "id": "0898dd46",
   "metadata": {},
   "outputs": [],
   "source": [
    "df3_1.groupBy('dif_alt').count().distinct().orderBy(\"count\", ascending=False).show()"
   ]
  },
  {
   "cell_type": "code",
   "execution_count": null,
   "id": "e372735a",
   "metadata": {},
   "outputs": [],
   "source": [
    "# Pergunta 4 "
   ]
  },
  {
   "cell_type": "code",
   "execution_count": null,
   "id": "c6064b0b",
   "metadata": {},
   "outputs": [],
   "source": [
    "df4_1 = df_j3.groupBy('origin', 'dest').avg('dep_delay')\n",
    "df4_1.show()"
   ]
  },
  {
   "cell_type": "code",
   "execution_count": null,
   "id": "b19d9bd9",
   "metadata": {},
   "outputs": [],
   "source": [
    "df4_2 = df_j3.groupBy('origin', 'dest').avg('arr_delay')\n",
    "df4_2.show()"
   ]
  },
  {
   "cell_type": "code",
   "execution_count": null,
   "id": "58bd5b6f",
   "metadata": {},
   "outputs": [],
   "source": [
    "# Pergunta 5"
   ]
  },
  {
   "cell_type": "code",
   "execution_count": null,
   "id": "43a47af2",
   "metadata": {},
   "outputs": [],
   "source": [
    "df5_1 = df_j3.groupBy('region').avg('dep_delay')\n",
    "df5_1.show()"
   ]
  },
  {
   "cell_type": "code",
   "execution_count": null,
   "id": "56e82d65",
   "metadata": {},
   "outputs": [],
   "source": [
    "df5_2 = df_j3.groupBy('region').avg('arr_delay')\n",
    "df5_2.show()"
   ]
  },
  {
   "cell_type": "code",
   "execution_count": null,
   "id": "ed5e4647",
   "metadata": {},
   "outputs": [],
   "source": [
    "df5_3 = df_j3.groupBy('region_a').avg('dep_delay')\n",
    "df5_3.show()"
   ]
  },
  {
   "cell_type": "code",
   "execution_count": null,
   "id": "a8645374",
   "metadata": {},
   "outputs": [],
   "source": [
    "df5_4 = df_j3.groupBy('region_a').avg('arr_delay')\n",
    "df5_4.show()"
   ]
  },
  {
   "cell_type": "code",
   "execution_count": null,
   "id": "4c9b4032",
   "metadata": {},
   "outputs": [],
   "source": [
    "# Pergunta 6"
   ]
  },
  {
   "cell_type": "code",
   "execution_count": null,
   "id": "a9616126",
   "metadata": {},
   "outputs": [],
   "source": [
    "df6_1 = df_j3.groupBy().sum('dep_delay')\n",
    "df6_1.show()"
   ]
  },
  {
   "cell_type": "code",
   "execution_count": null,
   "id": "0df55c65",
   "metadata": {},
   "outputs": [],
   "source": [
    "df6_2 = df_j3.groupBy().sum('arr_delay')\n",
    "df6_2.show()"
   ]
  },
  {
   "cell_type": "code",
   "execution_count": null,
   "id": "7574ef09",
   "metadata": {},
   "outputs": [],
   "source": [
    "# Pergunta 7"
   ]
  },
  {
   "cell_type": "code",
   "execution_count": null,
   "id": "e0d20084",
   "metadata": {},
   "outputs": [],
   "source": [
    "df7_1 = df_j3.groupBy('region').sum('dep_delay')\n",
    "df7_1.show()"
   ]
  },
  {
   "cell_type": "code",
   "execution_count": null,
   "id": "0611ca5f",
   "metadata": {},
   "outputs": [],
   "source": [
    "df7_2 = df_j3.groupBy('region').sum('arr_delay')\n",
    "df7_2.show()"
   ]
  },
  {
   "cell_type": "code",
   "execution_count": null,
   "id": "ffbc101e",
   "metadata": {},
   "outputs": [],
   "source": [
    "df7_3 = df_j3.groupBy('region_a').sum('dep_delay')\n",
    "df7_3.show()"
   ]
  },
  {
   "cell_type": "code",
   "execution_count": null,
   "id": "b9a91882",
   "metadata": {},
   "outputs": [],
   "source": [
    "df7_4 = df_j3.groupBy('region_a').sum('arr_delay')\n",
    "df7_4.show()"
   ]
  },
  {
   "cell_type": "code",
   "execution_count": null,
   "id": "6a052348",
   "metadata": {},
   "outputs": [],
   "source": [
    "# Pergunta 8"
   ]
  },
  {
   "cell_type": "code",
   "execution_count": null,
   "id": "bfa69289",
   "metadata": {},
   "outputs": [],
   "source": [
    "df8 = df_j3.groupBy().avg('air_time')\n",
    "df8.show()"
   ]
  },
  {
   "cell_type": "code",
   "execution_count": null,
   "id": "0fb6640a",
   "metadata": {},
   "outputs": [],
   "source": [
    "# Pergunta 9"
   ]
  },
  {
   "cell_type": "code",
   "execution_count": null,
   "id": "2a48905c",
   "metadata": {},
   "outputs": [],
   "source": [
    "df9_1 = df_j3.groupBy('region').avg('air_time')\n",
    "df9_1.show()"
   ]
  },
  {
   "cell_type": "code",
   "execution_count": null,
   "id": "053f3b19",
   "metadata": {},
   "outputs": [],
   "source": [
    "df9_2 = df_j3.groupBy('region_a').avg('air_time')\n",
    "df9_2.show()"
   ]
  },
  {
   "cell_type": "code",
   "execution_count": null,
   "id": "2ccd69f4",
   "metadata": {},
   "outputs": [],
   "source": [
    "# Pergunta 10"
   ]
  },
  {
   "cell_type": "code",
   "execution_count": null,
   "id": "0b5bb15c",
   "metadata": {},
   "outputs": [],
   "source": [
    "df10 = df_j3.groupBy('origin', 'dest').avg('air_time')\n",
    "df10.show()"
   ]
  },
  {
   "cell_type": "code",
   "execution_count": null,
   "id": "4a3f596f",
   "metadata": {},
   "outputs": [],
   "source": [
    "# Pergunta 11"
   ]
  },
  {
   "cell_type": "code",
   "execution_count": null,
   "id": "910c693e",
   "metadata": {},
   "outputs": [],
   "source": [
    "df11 = df_j3.groupBy().sum('air_time')\n",
    "df11.show()"
   ]
  },
  {
   "cell_type": "code",
   "execution_count": null,
   "id": "2fc73c61",
   "metadata": {},
   "outputs": [],
   "source": [
    "# Pergunta 12"
   ]
  },
  {
   "cell_type": "code",
   "execution_count": null,
   "id": "cce014b0",
   "metadata": {},
   "outputs": [],
   "source": [
    "df12_1 = df_j3.groupBy('region').sum('air_time')\n",
    "df12_1.show()"
   ]
  },
  {
   "cell_type": "code",
   "execution_count": null,
   "id": "f5bb8da9",
   "metadata": {},
   "outputs": [],
   "source": [
    "df12_2 = df_j3.groupBy('region_a').sum('air_time')\n",
    "df12_2.show()"
   ]
  },
  {
   "cell_type": "code",
   "execution_count": null,
   "id": "c051a5ef",
   "metadata": {},
   "outputs": [],
   "source": [
    "# Pergunta 13"
   ]
  },
  {
   "cell_type": "code",
   "execution_count": null,
   "id": "2a58f2d2",
   "metadata": {},
   "outputs": [],
   "source": [
    "df13 = df_j3.groupBy().avg('distance')\n",
    "df13.show()"
   ]
  },
  {
   "cell_type": "code",
   "execution_count": null,
   "id": "55edee52",
   "metadata": {},
   "outputs": [],
   "source": [
    "# Pergunta 14"
   ]
  },
  {
   "cell_type": "code",
   "execution_count": null,
   "id": "26965a02",
   "metadata": {},
   "outputs": [],
   "source": [
    "df14_1 = df_j3.groupBy('region').avg('air_time')\n",
    "df14_1.show()"
   ]
  },
  {
   "cell_type": "code",
   "execution_count": null,
   "id": "5c135e8c",
   "metadata": {},
   "outputs": [],
   "source": [
    "df14_2 = df_j3.groupBy('region_a').avg('air_time')\n",
    "df14_2.show()"
   ]
  },
  {
   "cell_type": "code",
   "execution_count": null,
   "id": "265a8a45",
   "metadata": {},
   "outputs": [],
   "source": [
    "# Pergunta 15"
   ]
  },
  {
   "cell_type": "code",
   "execution_count": null,
   "id": "011d221a",
   "metadata": {},
   "outputs": [],
   "source": [
    "df15 = df_j3.groupBy('origin', 'dest').avg('distance')\n",
    "df15.show()"
   ]
  },
  {
   "cell_type": "code",
   "execution_count": null,
   "id": "2a5377f8",
   "metadata": {},
   "outputs": [],
   "source": [
    "# Pergunta 16"
   ]
  },
  {
   "cell_type": "code",
   "execution_count": null,
   "id": "44a16866",
   "metadata": {},
   "outputs": [],
   "source": [
    "df16 = df_j3.groupBy().sum('distance')\n",
    "df16.show()"
   ]
  },
  {
   "cell_type": "code",
   "execution_count": null,
   "id": "e98772a7",
   "metadata": {},
   "outputs": [],
   "source": [
    "# Pergunta 17"
   ]
  },
  {
   "cell_type": "code",
   "execution_count": null,
   "id": "a3c21ca5",
   "metadata": {},
   "outputs": [],
   "source": [
    "df17_1 = df_j3.groupBy('region').sum('distance')\n",
    "df17_1.show()"
   ]
  },
  {
   "cell_type": "code",
   "execution_count": null,
   "id": "1d1acec3",
   "metadata": {},
   "outputs": [],
   "source": [
    "df17_2 = df_j3.groupBy('region_a').sum('distance')\n",
    "df17_2.show()"
   ]
  },
  {
   "cell_type": "code",
   "execution_count": null,
   "id": "915eae5d",
   "metadata": {},
   "outputs": [],
   "source": [
    "# Pergunta 18"
   ]
  },
  {
   "cell_type": "code",
   "execution_count": null,
   "id": "f303bb25",
   "metadata": {},
   "outputs": [],
   "source": [
    "df18 = df_j3.groupBy('origin', 'dest').avg('seats')\n",
    "df18.show()"
   ]
  },
  {
   "cell_type": "code",
   "execution_count": null,
   "id": "b0e51780",
   "metadata": {},
   "outputs": [],
   "source": [
    "# Pergunta 19"
   ]
  },
  {
   "cell_type": "code",
   "execution_count": null,
   "id": "ff79da8b",
   "metadata": {},
   "outputs": [],
   "source": [
    "df19 = df_j3.groupBy(F.year('dep_datetime').alias('ano')).sum('seats')\n",
    "df19.show()"
   ]
  },
  {
   "cell_type": "code",
   "execution_count": null,
   "id": "f70f61e3",
   "metadata": {},
   "outputs": [],
   "source": [
    "# Pergunta 20"
   ]
  },
  {
   "cell_type": "code",
   "execution_count": null,
   "id": "1435b485",
   "metadata": {},
   "outputs": [],
   "source": [
    "df20 = df_j3.groupBy('dest', 'name_a').count().distinct().orderBy('count',ascending=False)\n",
    "df20.show()"
   ]
  },
  {
   "cell_type": "code",
   "execution_count": null,
   "id": "db46297b",
   "metadata": {},
   "outputs": [],
   "source": [
    "# Pergunta 21"
   ]
  },
  {
   "cell_type": "code",
   "execution_count": null,
   "id": "5206057b",
   "metadata": {},
   "outputs": [],
   "source": [
    "df20 = df_j3.groupBy('dest', 'name_a').count().distinct().orderBy('count',ascending=False)\n",
    "df20.show()"
   ]
  },
  {
   "cell_type": "code",
   "execution_count": null,
   "id": "1b8c3d87",
   "metadata": {},
   "outputs": [],
   "source": [
    "df21 = df_j3.groupBy('dest', 'name_a').sum('seats').orderBy('sum(seats)',ascending=False)\n",
    "df21.show()"
   ]
  },
  {
   "cell_type": "code",
   "execution_count": null,
   "id": "b9d5df3f",
   "metadata": {},
   "outputs": [],
   "source": [
    "# Pergunta 22"
   ]
  },
  {
   "cell_type": "code",
   "execution_count": null,
   "id": "c9d9ee57",
   "metadata": {},
   "outputs": [],
   "source": [
    "df22 = df_j3.groupBy('faa', 'faa_a','distance').count().distinct().orderBy('distance', ascending=False)"
   ]
  },
  {
   "cell_type": "code",
   "execution_count": null,
   "id": "b3e73f4e",
   "metadata": {},
   "outputs": [],
   "source": [
    "df22.where((col('faa') == 'PDX')).show()"
   ]
  },
  {
   "cell_type": "code",
   "execution_count": null,
   "id": "566f8a26",
   "metadata": {},
   "outputs": [],
   "source": [
    "df22.where(col('faa_a') == 'PDX').show()"
   ]
  },
  {
   "cell_type": "code",
   "execution_count": null,
   "id": "34037ef5",
   "metadata": {},
   "outputs": [],
   "source": [
    "# Pergunta 23"
   ]
  },
  {
   "cell_type": "code",
   "execution_count": null,
   "id": "6a393aa9",
   "metadata": {},
   "outputs": [],
   "source": [
    "df23 = df_j3.groupBy('dest', F.month('dep_datetime').alias('mes')).count().distinct()\n",
    "df23.orderBy('mes').show()"
   ]
  },
  {
   "cell_type": "code",
   "execution_count": null,
   "id": "9740c728",
   "metadata": {},
   "outputs": [],
   "source": [
    "# Pergunta 24"
   ]
  },
  {
   "cell_type": "code",
   "execution_count": null,
   "id": "9d4d431a",
   "metadata": {},
   "outputs": [],
   "source": [
    "df24 = df_j3.groupBy('model').count().distinct().orderBy('count', ascending=False)\n",
    "df24.show()"
   ]
  },
  {
   "cell_type": "code",
   "execution_count": null,
   "id": "bbd056ee",
   "metadata": {},
   "outputs": [],
   "source": [
    "# Pergunta 25"
   ]
  },
  {
   "cell_type": "code",
   "execution_count": null,
   "id": "622c3db1",
   "metadata": {},
   "outputs": [],
   "source": [
    "df25 = df_j3.groupBy('dest', 'model').count().distinct()\n",
    "df25.orderBy('count', ascending=False).show()"
   ]
  },
  {
   "cell_type": "code",
   "execution_count": null,
   "id": "41b90b1a",
   "metadata": {},
   "outputs": [],
   "source": [
    "# Pergunta 26"
   ]
  },
  {
   "cell_type": "code",
   "execution_count": null,
   "id": "02869bd0",
   "metadata": {},
   "outputs": [],
   "source": [
    "df26 = df_j3.groupBy('haul_duration').avg('engines')\n",
    "df26.orderBy('avg(engines)', ascending=False).show()"
   ]
  },
  {
   "cell_type": "code",
   "execution_count": null,
   "id": "7eb53997",
   "metadata": {},
   "outputs": [],
   "source": [
    "# Pergunta 27"
   ]
  },
  {
   "cell_type": "code",
   "execution_count": null,
   "id": "5571d826",
   "metadata": {},
   "outputs": [],
   "source": [
    "df27 = df_j3.groupBy('dep_season').count().distinct()\n",
    "df27.orderBy('count', ascending=False).show()"
   ]
  },
  {
   "cell_type": "code",
   "execution_count": null,
   "id": "e795f40e",
   "metadata": {},
   "outputs": [],
   "source": [
    "# Pergunta 28"
   ]
  },
  {
   "cell_type": "code",
   "execution_count": null,
   "id": "7989f60b",
   "metadata": {},
   "outputs": [],
   "source": [
    "df28 = df_j3.groupBy('dest', 'dep_season').count().distinct()\n",
    "df28.orderBy('count', ascending=False).show()"
   ]
  },
  {
   "cell_type": "code",
   "execution_count": null,
   "id": "1be8074e",
   "metadata": {},
   "outputs": [],
   "source": [
    "# Pergunta 29"
   ]
  },
  {
   "cell_type": "code",
   "execution_count": null,
   "id": "d42913da",
   "metadata": {},
   "outputs": [],
   "source": [
    "df29 = df_j3.groupBy('dep_delay_category').count().distinct()\n",
    "df29.orderBy('count',ascending=False).show()"
   ]
  },
  {
   "cell_type": "code",
   "execution_count": null,
   "id": "f0d3d271",
   "metadata": {},
   "outputs": [],
   "source": [
    "# Pergunta 30"
   ]
  },
  {
   "cell_type": "code",
   "execution_count": null,
   "id": "fc6efe10",
   "metadata": {},
   "outputs": [],
   "source": [
    "df30 = df_j3.groupBy('origin','dest','dep_delay_category').count().distinct()\n",
    "df30.orderBy('count',ascending=False).show()"
   ]
  }
 ],
 "metadata": {
  "kernelspec": {
   "display_name": "Python 3 (ipykernel)",
   "language": "python",
   "name": "python3"
  },
  "language_info": {
   "codemirror_mode": {
    "name": "ipython",
    "version": 3
   },
   "file_extension": ".py",
   "mimetype": "text/x-python",
   "name": "python",
   "nbconvert_exporter": "python",
   "pygments_lexer": "ipython3",
   "version": "3.9.7"
  }
 },
 "nbformat": 4,
 "nbformat_minor": 5
}
