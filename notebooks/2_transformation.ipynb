{
 "cells": [
  {
   "cell_type": "code",
   "execution_count": null,
   "id": "d47eef4f",
   "metadata": {},
   "outputs": [],
   "source": [
    "# Installing required packages\n",
    "!pip install pyspark\n",
    "!pip install findspark"
   ]
  },
  {
   "cell_type": "code",
   "execution_count": null,
   "id": "bdf14332",
   "metadata": {},
   "outputs": [],
   "source": [
    "# starting spark\n",
    "import findspark\n",
    "findspark.init()"
   ]
  },
  {
   "cell_type": "code",
   "execution_count": null,
   "id": "4e627c3a",
   "metadata": {},
   "outputs": [],
   "source": [
    "# PySpark is the Spark API for Python. In this lab, we use PySpark to initialize the spark context. \n",
    "from pyspark import SparkContext, SparkConf\n",
    "from pyspark.sql import SparkSession\n",
    "from pyspark.sql.functions import when, col, lit, udf, length, substring, expr, regexp_replace, sum_distinct\n",
    "from pyspark.sql.types import StructType,StructField, StringType, IntegerType, FloatType\n",
    "from pyspark.sql import functions as F"
   ]
  },
  {
   "cell_type": "code",
   "execution_count": null,
   "id": "b714de44",
   "metadata": {},
   "outputs": [],
   "source": [
    "# Creating a spark context class\n",
    "sc = SparkContext()\n",
    "\n",
    "# Creating a spark session\n",
    "spark = (SparkSession.builder\n",
    "                     .master(\"local[7]\")\n",
    "                     .appName(\"Aceleração PySpark - Capgemini\"))"
   ]
  },
  {
   "cell_type": "code",
   "execution_count": null,
   "id": "620947a5",
   "metadata": {},
   "outputs": [],
   "source": [
    "schema_airports = StructType([\n",
    "    StructField(\"faa\",  StringType(),  True),\n",
    "    StructField(\"name\", StringType(),  True),\n",
    "    StructField(\"lat\",  FloatType(),   True),\n",
    "    StructField(\"lon\",  FloatType(),   True),\n",
    "    StructField(\"alt\",  IntegerType(), True),\n",
    "    StructField(\"tz\",   IntegerType(), True),\n",
    "    StructField(\"dst\",  StringType(),  True)\n",
    "])\n",
    "\n",
    "schema_planes = StructType([\n",
    "    StructField(\"tailnum\",      StringType(),  True),\n",
    "    StructField(\"year\",         IntegerType(), True),\n",
    "    StructField(\"type\",         StringType(),  True),\n",
    "    StructField(\"manufacturer\", StringType(),  True),\n",
    "    StructField(\"model\",        StringType(),  True),\n",
    "    StructField(\"engines\",      IntegerType(), True),\n",
    "    StructField(\"seats\",        IntegerType(), True),\n",
    "    StructField(\"speed\",        IntegerType(), True),\n",
    "    StructField(\"engine\",       StringType(),  True)\n",
    "])\n",
    "\n",
    "schema_flights = StructType([\n",
    "    StructField(\"year\",      IntegerType(), True),\n",
    "    StructField(\"month\",     IntegerType(), True),\n",
    "    StructField(\"day\",       IntegerType(), True),\n",
    "    StructField(\"dep_time\",  StringType(),  True),\n",
    "    StructField(\"dep_delay\", IntegerType(), True),\n",
    "    StructField(\"arr_time\",  StringType(),  True),\n",
    "    StructField(\"arr_delay\", IntegerType(), True),\n",
    "    StructField(\"carrier\",   StringType(),  True),\n",
    "    StructField(\"tailnum\",   StringType(),  True),\n",
    "    StructField(\"flight\",    StringType(),  True),\n",
    "    StructField(\"origin\",    StringType(),  True),\n",
    "    StructField(\"dest\",      StringType(),  True),\n",
    "    StructField(\"air_time\",  IntegerType(), True),\n",
    "    StructField(\"distance\",  IntegerType(), True),\n",
    "    StructField(\"hour\",      IntegerType(), True),\n",
    "    StructField(\"minute\",    IntegerType(), True),\n",
    "])"
   ]
  },
  {
   "cell_type": "code",
   "execution_count": null,
   "id": "d1c9a3ca",
   "metadata": {},
   "outputs": [],
   "source": [
    "df_airports = (spark.getOrCreate().read\n",
    "                  .format(\"csv\")\n",
    "                  .option(\"header\", \"true\")\n",
    "                  .schema(schema_airports)\n",
    "                  .load(\"../Datasets/airports.csv\"))\n",
    "\n",
    "df_planes = (spark.getOrCreate().read\n",
    "                  .format(\"csv\")\n",
    "                  .option(\"header\", \"true\")\n",
    "                  .schema(schema_planes)\n",
    "                  .load(\"../Datasets/planes.csv\"))\n",
    "\n",
    "df_flights = (spark.getOrCreate().read\n",
    "                  .format(\"csv\")\n",
    "                  .option(\"header\", \"true\")\n",
    "                  .schema(schema_flights)\n",
    "                  .load(\"../Datasets/flights.csv\"))"
   ]
  },
  {
   "cell_type": "code",
   "execution_count": null,
   "id": "d5bbd8aa",
   "metadata": {},
   "outputs": [],
   "source": [
    "# Expressoes regulares comuns\n",
    "REGEX_ALPHA    = r'[a-zA-Z]+'\n",
    "REGEX_INTEGER  = r'[0-9]+'\n",
    "REGEX_FLOAT    = r'[0-9]+\\.[0-9]+'\n",
    "REGEX_ALPHANUM = r'[0-9a-zA-Z]+'\n",
    "REGEX_EMPTY_STR= r'[\\t ]+$'\n",
    "REGEX_SPECIAL  = r'[!@#$%&*\\(\\)_]+'\n",
    "REGEX_NNUMBER  = r'^N[1-9][0-9]{2,3}([ABCDEFGHJKLMNOPQRSTUVXWYZ]{1,2})'\n",
    "REGEX_NNUMBER_INVALID = r'(N0.*$)|(.*[IO].*)'\n",
    "REGEX_TIME_FMT = r'^(([0-1]?[0-9])|(2[0-3]))([0-5][0-9])$'"
   ]
  },
  {
   "cell_type": "code",
   "execution_count": null,
   "id": "6727dd42",
   "metadata": {},
   "outputs": [],
   "source": [
    "# Funcoes auxiiliares\n",
    "def split_csv(line):\n",
    "    return tuple(map(lambda x: x.replace('\"',''), line.split(\",\")))\n",
    "\n",
    "def check_empty_column(col):\n",
    "    return (F.col(col).isNull() | (F.col(col) == '') | F.col(col).rlike(REGEX_EMPTY_STR))"
   ]
  },
  {
   "cell_type": "markdown",
   "id": "da4ccc63",
   "metadata": {},
   "source": [
    "# Airports"
   ]
  },
  {
   "cell_type": "markdown",
   "id": "1adbdac0",
   "metadata": {},
   "source": [
    "# Pergunta 1"
   ]
  },
  {
   "cell_type": "code",
   "execution_count": null,
   "id": "2e5e0626",
   "metadata": {},
   "outputs": [],
   "source": [
    "df1 = df_airports.withColumn('alt', \n",
    "    (when(col('alt') < 0 ,0)).otherwise(col('alt')))"
   ]
  },
  {
   "cell_type": "markdown",
   "id": "744d5cc0",
   "metadata": {},
   "source": [
    "# Teste do resultado"
   ]
  },
  {
   "cell_type": "code",
   "execution_count": null,
   "id": "a9683be1",
   "metadata": {},
   "outputs": [],
   "source": [
    "df1.groupBy(\"alt\").count().distinct().orderBy(\"alt\", ascending=True).show()"
   ]
  },
  {
   "cell_type": "markdown",
   "id": "c0746bc4",
   "metadata": {},
   "source": [
    "# Pergunta 2"
   ]
  },
  {
   "cell_type": "code",
   "execution_count": null,
   "id": "a49b17f8",
   "metadata": {},
   "outputs": [],
   "source": [
    "df2 = df1.withColumn('dst', \n",
    "    (when(col('tz').between(-7, -5) ,\"A\")).otherwise(col('dst')))"
   ]
  },
  {
   "cell_type": "markdown",
   "id": "070926f8",
   "metadata": {},
   "source": [
    "# Teste do resultado"
   ]
  },
  {
   "cell_type": "code",
   "execution_count": null,
   "id": "0c0429ce",
   "metadata": {},
   "outputs": [],
   "source": [
    "df2.groupBy('dst').count().show()"
   ]
  },
  {
   "cell_type": "markdown",
   "id": "992874df",
   "metadata": {},
   "source": [
    "# Pergunta 3"
   ]
  },
  {
   "cell_type": "code",
   "execution_count": null,
   "id": "665c72c8",
   "metadata": {},
   "outputs": [],
   "source": [
    "df3 = df2.withColumn('dst', \n",
    "    (when(col('dst') == \"U\" ,\"A\")).otherwise(col('dst')))"
   ]
  },
  {
   "cell_type": "markdown",
   "id": "75311f28",
   "metadata": {},
   "source": [
    "# Teste do resultado"
   ]
  },
  {
   "cell_type": "code",
   "execution_count": null,
   "id": "b476257d",
   "metadata": {},
   "outputs": [],
   "source": [
    "df3.groupBy('dst').count().show()"
   ]
  },
  {
   "cell_type": "markdown",
   "id": "20fe10b0",
   "metadata": {},
   "source": [
    "# Pergunta 4"
   ]
  },
  {
   "cell_type": "code",
   "execution_count": null,
   "id": "070b75bd",
   "metadata": {},
   "outputs": [],
   "source": [
    "df4 = df3.withColumn(\n",
    "    \"region\",\n",
    "    (\n",
    "        when(col('lon') < -124, \"Alaska\")\n",
    "        .when(\n",
    "                (\n",
    "                    (col('lon') > -50) | \n",
    "                    (col('lat') < 24)\n",
    "                ), \"OFFSHORE\"\n",
    "            )\n",
    "        .when(\n",
    "                (\n",
    "                    (col('lon') <= -95) &\n",
    "                    (col('lon').between(-124, -50))\n",
    "                ), 'MAINLAND-WEST'\n",
    "\n",
    "            )\n",
    "        .when(\n",
    "                (\n",
    "                    (col('lon') > -95) &\n",
    "                    (col('lon').between(-124, -50))\n",
    "                ), 'MAINLAND-EAST'\n",
    "            )\n",
    "    ).otherwise('NaN')\n",
    "    \n",
    "    )"
   ]
  },
  {
   "cell_type": "markdown",
   "id": "9b5e2c4b",
   "metadata": {},
   "source": [
    "# Teste do resultado"
   ]
  },
  {
   "cell_type": "code",
   "execution_count": null,
   "id": "9caee88b",
   "metadata": {},
   "outputs": [],
   "source": [
    "df4.createOrReplaceTempView(\"REGION\")\n",
    "spark.sql(\"select region, Count(*) from REGION Group by REGION Order by REGION\").show()"
   ]
  },
  {
   "cell_type": "markdown",
   "id": "539ef218",
   "metadata": {},
   "source": [
    "# Pergunta 5"
   ]
  },
  {
   "cell_type": "code",
   "execution_count": null,
   "id": "ecbbc1fe",
   "metadata": {},
   "outputs": [],
   "source": [
    "df5 = df4.withColumn(\n",
    "    \"type\",\n",
    "    (\n",
    "        when(\n",
    "                (\n",
    "                    (col('name').rlike(\"Airport\"))|\n",
    "                    (col('name').rlike(\"Tradeport\"))|\n",
    "                    (col('name').rlike(\"Heliport\"))|\n",
    "                    (col('name').rlike(\"Airpor\"))|\n",
    "                    (col('name').rlike(\"Arpt\"))\n",
    "                )\n",
    "            , \"AP\"\n",
    "            )\n",
    "        \n",
    "        .when(\n",
    "            col('name').rlike(\"Aerodrome\")\n",
    "            , \"AD\"\n",
    "            )\n",
    "        \n",
    "        .when(\n",
    "                (\n",
    "                    (col('name').rlike(\"Airpark\")) |\n",
    "                    (col('name').rlike(\"Aero Park\"))\n",
    "                ), \"AK\"\n",
    "            )\n",
    "        \n",
    "        .when(\n",
    "            col('name').rlike(\"Station\")\n",
    "            , \"AS\"\n",
    "            )\n",
    "        \n",
    "        .when(\n",
    "                (\n",
    "                    (col('name').rlike(\"Field\")) |\n",
    "                    (col('name').rlike(\"Fld\"))\n",
    "                )\n",
    "            , \"FL\"\n",
    "            )\n",
    "        \n",
    "    ).otherwise(\"NaN\")\n",
    "\n",
    "    )"
   ]
  },
  {
   "cell_type": "markdown",
   "id": "bade8939",
   "metadata": {},
   "source": [
    "# Teste do resultado"
   ]
  },
  {
   "cell_type": "code",
   "execution_count": null,
   "id": "d760b776",
   "metadata": {},
   "outputs": [],
   "source": [
    "df5.groupBy('type').count().show()"
   ]
  },
  {
   "cell_type": "markdown",
   "id": "82e0dc13",
   "metadata": {},
   "source": [
    "# Pergunta 6"
   ]
  },
  {
   "cell_type": "code",
   "execution_count": null,
   "id": "da1ca5d1",
   "metadata": {},
   "outputs": [],
   "source": [
    "LIST_MILITARY  = ['Base', 'Aaf', 'Afs', 'Ahp', 'Afb', 'LRRS', 'Lrrs', 'Arb', 'Naf', 'NAS', 'Nas', 'Jrb', 'Ns', 'As', 'Cgas', 'Angb']\n",
    "REGEX_MILITARY = r'|'.join(map(lambda x : f'^{x} | {x} | {x}$', LIST_MILITARY))\n",
    "\n",
    "df6 = df5.withColumn('military',\n",
    "              when(col('name').rlike(REGEX_MILITARY), True)\n",
    "               .otherwise(False))"
   ]
  },
  {
   "cell_type": "markdown",
   "id": "71a290dc",
   "metadata": {},
   "source": [
    "# Teste do resultado"
   ]
  },
  {
   "cell_type": "code",
   "execution_count": null,
   "id": "5ad788f2",
   "metadata": {},
   "outputs": [],
   "source": [
    "df6.groupBy('military').count().show()"
   ]
  },
  {
   "cell_type": "markdown",
   "id": "755d3be8",
   "metadata": {},
   "source": [
    "# Pergunta 7"
   ]
  },
  {
   "cell_type": "code",
   "execution_count": null,
   "id": "87c58e59",
   "metadata": {},
   "outputs": [],
   "source": [
    "LIST_I  = ['International', 'Intl', 'Intercontinental']\n",
    "REGEX_I = r'|'.join(map(lambda x : f'.*({x}).*', LIST_I))\n",
    "\n",
    "LIST_N  = ['National', 'Natl']\n",
    "REGEX_N = r'|'.join(map(lambda x : f'.*({x}).*', LIST_N))\n",
    "\n",
    "LIST_R  = ['Regional', \"Reigonal\", 'Rgnl', 'County', 'Metro', 'Metropolitan']\n",
    "REGEX_R = r'|'.join(map(lambda x : f'.*({x}).*', LIST_R))\n",
    "\n",
    "LIST_M  = ['Municipal', 'Muni', 'City']\n",
    "REGEX_M = r'|'.join(map(lambda x : f'.*({x}).*', LIST_M))"
   ]
  },
  {
   "cell_type": "code",
   "execution_count": null,
   "id": "d9fd75fc",
   "metadata": {},
   "outputs": [],
   "source": [
    "df7 = df6.withColumn('administration',\n",
    "              F.when(F.col('name').rlike(REGEX_I), 'I')\n",
    "               .when(F.col('name').rlike(REGEX_N), 'N')\n",
    "               .when(F.col('name').rlike(REGEX_R), 'R')\n",
    "               .when(F.col('name').rlike(REGEX_M), 'M')\n",
    "               .otherwise('NaN'))"
   ]
  },
  {
   "cell_type": "markdown",
   "id": "db03fd8d",
   "metadata": {},
   "source": [
    "# Teste do resultado"
   ]
  },
  {
   "cell_type": "code",
   "execution_count": null,
   "id": "95bc57a1",
   "metadata": {},
   "outputs": [],
   "source": [
    "df7.groupBy('administration').count().show()"
   ]
  },
  {
   "cell_type": "markdown",
   "id": "c163e349",
   "metadata": {},
   "source": [
    "# Salvando o arquivo em parquet"
   ]
  },
  {
   "cell_type": "code",
   "execution_count": null,
   "id": "156ecb17",
   "metadata": {},
   "outputs": [],
   "source": [
    "df7.write.parquet(\n",
    "path = 'C:/Users/coskata/Downloads/Datasets/parquet/airports3.parquet',\n",
    "mode = 'overwrite'\n",
    ")"
   ]
  },
  {
   "cell_type": "markdown",
   "id": "011f0805",
   "metadata": {},
   "source": [
    "# Teste do resultado"
   ]
  },
  {
   "cell_type": "code",
   "execution_count": null,
   "id": "ba27b0fb",
   "metadata": {},
   "outputs": [],
   "source": [
    "path = 'C:/Users/coskata/Downloads/Datasets/parquet/airports3.parquet'\n",
    "airports_parquet = spark.read.parquet(path)"
   ]
  },
  {
   "cell_type": "code",
   "execution_count": null,
   "id": "877ace75",
   "metadata": {},
   "outputs": [],
   "source": [
    "airports_parquet.toPandas()"
   ]
  },
  {
   "cell_type": "markdown",
   "id": "d26722bf",
   "metadata": {},
   "source": [
    "# Planes"
   ]
  },
  {
   "cell_type": "markdown",
   "id": "245c46d5",
   "metadata": {},
   "source": [
    "# Pergunta 1"
   ]
  },
  {
   "cell_type": "code",
   "execution_count": null,
   "id": "235b8c2d",
   "metadata": {},
   "outputs": [],
   "source": [
    "df1 = df_planes.withColumn(\n",
    "    \"tailchar\", \n",
    "    regexp_replace(col('tailnum'), \"[0-9]|^N\", \"\")\n",
    "    )"
   ]
  },
  {
   "cell_type": "markdown",
   "id": "987c0fee",
   "metadata": {},
   "source": [
    "# Teste do resultado"
   ]
  },
  {
   "cell_type": "code",
   "execution_count": null,
   "id": "df8422de",
   "metadata": {},
   "outputs": [],
   "source": [
    "df1.groupBy('tailchar').count().show()"
   ]
  },
  {
   "cell_type": "markdown",
   "id": "1de015b6",
   "metadata": {},
   "source": [
    "# Pergunta 2"
   ]
  },
  {
   "cell_type": "code",
   "execution_count": null,
   "id": "be2a6a62",
   "metadata": {},
   "outputs": [],
   "source": [
    "df2 = df1.withColumn(\n",
    "    'year',\n",
    "    (when(col('year') == 0, 1996)).otherwise(col('year'))\n",
    "    )"
   ]
  },
  {
   "cell_type": "markdown",
   "id": "9d5e61d0",
   "metadata": {},
   "source": [
    "# Teste do resultado"
   ]
  },
  {
   "cell_type": "code",
   "execution_count": null,
   "id": "fa5c3d40",
   "metadata": {},
   "outputs": [],
   "source": [
    "df2.groupBy(\"year\").count().distinct().orderBy(\"year\", ascending=True).show()"
   ]
  },
  {
   "cell_type": "markdown",
   "id": "56ab33bd",
   "metadata": {},
   "source": [
    "# Pergunta 3"
   ]
  },
  {
   "cell_type": "code",
   "execution_count": null,
   "id": "caedf982",
   "metadata": {},
   "outputs": [],
   "source": [
    "df3 = df.withColumn(\n",
    "    'manufacturer',\n",
    "    when(col(\"manufacturer\").rlike(\"AIRBUS\"), regexp_replace(col('manufacturer'), 'AIRBUS INDUSTRIE', 'AIRBUS'))\n",
    "    .when(col(\"manufacturer\").rlike(\"BOEING\"), regexp_replace(col('manufacturer'), 'BOEING', 'BOEING'))\n",
    "    .when(col(\"manufacturer\").rlike(\"BOMBARDIER\"), regexp_replace(col('manufacturer'), 'BOMBARDIER INC', 'BOMBARDIER'))\n",
    "    .when(col(\"manufacturer\").rlike(\"CESSNA\"), regexp_replace(col('manufacturer'), 'CESSNA', 'CESSNA'))\n",
    "    .when(col(\"manufacturer\").rlike(\"EMBRAER\"), regexp_replace(col('manufacturer'), 'EMBRAER', 'EMBRAER'))\n",
    "    .when(col(\"manufacturer\").rlike(\"SIKORSKY\"), regexp_replace(col('manufacturer'), 'SIKORSKY', 'SIKORSKY'))\n",
    "    .when(col(\"manufacturer\").rlike(\"CANADAIR\"), regexp_replace(col('manufacturer'), 'CANADAIR', 'CANADAIR'))\n",
    "    .when(col(\"manufacturer\").rlike(\"PIPER\"), regexp_replace(col('manufacturer'), 'PIPER', 'PIPER'))\n",
    "    .when(col(\"manufacturer\").rlike(\"MCDONNELL DOUGLAS\"), regexp_replace(col('manufacturer'), 'MCDONNELL DOUGLAS AIRCRAFT CO', 'MCDONNELL DOUGLAS'))\n",
    "    .when(col(\"manufacturer\").rlike(\"CIRRUS\"), regexp_replace(col('manufacturer'), 'CIRRUS DESIGN CORP', 'CIRRUS'))\n",
    "    .when(col(\"manufacturer\").rlike(\"BELL\"), regexp_replace(col('manufacturer'), 'BELL', 'BELL'))\n",
    "    .when(col(\"manufacturer\").rlike(\"KILDALL GARY\"), regexp_replace(col('manufacturer'), 'KILDALL GARY', 'KILDALL GARY'))\n",
    "    .when(col(\"manufacturer\").rlike(\"LAMBERT RICHARD\"), regexp_replace(col('manufacturer'), 'LAMBERT RICHARD', 'LAMBERT RICHARD'))\n",
    "    .when(col(\"manufacturer\").rlike(\"BARKER JACK\"), regexp_replace(col('manufacturer'), 'BARKER JACK L', 'BARKER JACK'))\n",
    "    .when(col(\"manufacturer\").rlike(\"ROBINSON HELICOPTER\"), regexp_replace(col('manufacturer'), 'ROBINSON HELICOPTER CO', 'ROBINSON HELICOPTER'))\n",
    "    .when(col(\"manufacturer\").rlike(\"GULFSTREAM\"), regexp_replace(col('manufacturer'), 'GULFSTREAM AEROSPACE', 'GULFSTREAM'))\n",
    "    .when(col(\"manufacturer\").rlike(\"MARZ BARRY\"), regexp_replace(col('manufacturer'), 'MARZ BARRY', 'MARZ BARRY'))\n",
    "    )"
   ]
  },
  {
   "cell_type": "markdown",
   "id": "05dda2e5",
   "metadata": {},
   "source": [
    "# Teste do resultado"
   ]
  },
  {
   "cell_type": "code",
   "execution_count": null,
   "id": "b93ec76e",
   "metadata": {},
   "outputs": [],
   "source": [
    "df6.groupBy(\"manufacturer\").count().distinct().orderBy(\"count\", ascending=True).show()"
   ]
  },
  {
   "cell_type": "markdown",
   "id": "1b9fd48a",
   "metadata": {},
   "source": [
    "# Pergunta 4"
   ]
  },
  {
   "cell_type": "code",
   "execution_count": null,
   "id": "afbd928e",
   "metadata": {},
   "outputs": [],
   "source": [
    "df4_aux = df3.groupBy('manufacturer','model').min('year').orderBy(col('manufacturer'), col('model'))"
   ]
  },
  {
   "cell_type": "code",
   "execution_count": null,
   "id": "c7f686f5",
   "metadata": {},
   "outputs": [],
   "source": [
    "df4_aux = df4_aux.withColumnRenamed(\n",
    "  \"manufacturer\", \"manufacturer_aux\").withColumnRenamed(\"model\", \"model_aux\")"
   ]
  },
  {
   "cell_type": "code",
   "execution_count": null,
   "id": "e9829c60",
   "metadata": {},
   "outputs": [],
   "source": [
    "cond = [df3.manufacturer == df4_aux.manufacturer_aux, df3.model == df4_aux.model_aux]\n",
    "df4 = df3.join(df4_aux, cond, 'left')"
   ]
  },
  {
   "cell_type": "code",
   "execution_count": null,
   "id": "92ddfb2c",
   "metadata": {},
   "outputs": [],
   "source": [
    "df4_aux2 = df3.groupBy('manufacturer').min('year').orderBy(col('manufacturer'), col('model'))"
   ]
  },
  {
   "cell_type": "code",
   "execution_count": null,
   "id": "eed1dceb",
   "metadata": {},
   "outputs": [],
   "source": [
    "df4_aux2 = df4_aux2.withColumnRenamed(\n",
    "  \"manufacturer\", \"manufacturer_aux2\")"
   ]
  },
  {
   "cell_type": "code",
   "execution_count": null,
   "id": "5f5efa50",
   "metadata": {},
   "outputs": [],
   "source": [
    "cond = [df3.manufacturer == df4_aux.manufacturer_aux]\n",
    "df42 = df4.join(df4_aux, cond, 'left')"
   ]
  },
  {
   "cell_type": "code",
   "execution_count": null,
   "id": "63c3c73c",
   "metadata": {},
   "outputs": [],
   "source": [
    "df4_final = df42.withColumn(\n",
    "    'year',\n",
    "    (when(col('year').isNull(), col('min(year)')).otherwise(col('year')))\n",
    "              )"
   ]
  },
  {
   "cell_type": "markdown",
   "id": "05d47550",
   "metadata": {},
   "source": [
    "# Teste do resultado"
   ]
  },
  {
   "cell_type": "code",
   "execution_count": null,
   "id": "241ba86f",
   "metadata": {},
   "outputs": [],
   "source": [
    "df4_final.groupBy(\"year\").count().distinct().orderBy(\"count\", ascending=True).show()"
   ]
  },
  {
   "cell_type": "markdown",
   "id": "6c94d1cb",
   "metadata": {},
   "source": [
    "# Pergunta 5"
   ]
  },
  {
   "cell_type": "code",
   "execution_count": null,
   "id": "ef8744a8",
   "metadata": {},
   "outputs": [],
   "source": [
    "df5 = df4_final.withColumn(\n",
    "    \"age\",\n",
    "    expr(\"2022 - year\")\n",
    "    )"
   ]
  },
  {
   "cell_type": "markdown",
   "id": "8693bae7",
   "metadata": {},
   "source": [
    "# Teste do resultado"
   ]
  },
  {
   "cell_type": "code",
   "execution_count": null,
   "id": "61003bd0",
   "metadata": {},
   "outputs": [],
   "source": [
    "df5.groupBy(\"age\").count().distinct().orderBy(\"age\", ascending=True).show()"
   ]
  },
  {
   "cell_type": "markdown",
   "id": "e64b1922",
   "metadata": {},
   "source": [
    "# Pergunta 6"
   ]
  },
  {
   "cell_type": "code",
   "execution_count": null,
   "id": "df89793a",
   "metadata": {},
   "outputs": [],
   "source": [
    "df6 = df5.withColumn(\n",
    "    \"type\",\n",
    "    when(col('type').contains(\"Fixed wing multi engine\"),regexp_replace(col('type'), 'Fixed wing multi engine', 'MULTI_ENG'))\n",
    "    .when(col('type').contains(\"Fixed wing single engine\"),regexp_replace(col('type'), 'Fixed wing single engine', 'SINGLE_ENG'))\n",
    "    .when(col('type').contains(\"Rotorcraft\"),regexp_replace(col('type'), 'Rotorcraft', 'ROTORCRAFT'))\n",
    "    \n",
    ")"
   ]
  },
  {
   "cell_type": "markdown",
   "id": "27e2f854",
   "metadata": {},
   "source": [
    "# Teste do resultado"
   ]
  },
  {
   "cell_type": "code",
   "execution_count": null,
   "id": "5b666585",
   "metadata": {},
   "outputs": [],
   "source": [
    "df.groupBy('type').count().show()"
   ]
  },
  {
   "cell_type": "markdown",
   "id": "793214d6",
   "metadata": {},
   "source": [
    "# Pergunta 7 "
   ]
  },
  {
   "cell_type": "code",
   "execution_count": null,
   "id": "c1858c40",
   "metadata": {},
   "outputs": [],
   "source": [
    "df7 = df6.withColumn(\"model\",\n",
    "              regexp_replace(col('model'), '\\s*\\([^()]*\\)\\s*', \"\"))"
   ]
  },
  {
   "cell_type": "markdown",
   "id": "100760d1",
   "metadata": {},
   "source": [
    "# Teste do resultado"
   ]
  },
  {
   "cell_type": "code",
   "execution_count": null,
   "id": "2830f7c3",
   "metadata": {},
   "outputs": [],
   "source": [
    "df7.groupBy(col('model')).count().show(999)"
   ]
  },
  {
   "cell_type": "markdown",
   "id": "4a119229",
   "metadata": {},
   "source": [
    "# Pergunta 8"
   ]
  },
  {
   "cell_type": "code",
   "execution_count": null,
   "id": "ce4cd826",
   "metadata": {},
   "outputs": [],
   "source": [
    "df8 = df7.withColumn(\n",
    "    'speed',\n",
    "    (when(\n",
    "            (\n",
    "                (col('speed').isNull()) |\n",
    "                (col('speed') == '') |\n",
    "                (col('speed') == \"NA\") |\n",
    "                (col('speed') == \" \") |\n",
    "                (col('speed') == \"null\") &\n",
    "                (col('seats').isNotNull())\n",
    "            ),F.ceil( col('seats')/ 0.36))\n",
    "    ).otherwise(col('speed'))\n",
    ")"
   ]
  },
  {
   "cell_type": "code",
   "execution_count": null,
   "id": "0aa60644",
   "metadata": {},
   "outputs": [],
   "source": [
    "df8 = df8.withColumn(\n",
    "    \"speed\",\n",
    "    (when(~col('speed').between(50, 150), 0)).otherwise(col('speed'))\n",
    ")"
   ]
  },
  {
   "cell_type": "markdown",
   "id": "02cdaafe",
   "metadata": {},
   "source": [
    "# Teste do resultado"
   ]
  },
  {
   "cell_type": "code",
   "execution_count": null,
   "id": "747c5337",
   "metadata": {},
   "outputs": [],
   "source": [
    "df8.groupBy(col('speed')).count().show()"
   ]
  },
  {
   "cell_type": "markdown",
   "id": "2d12ee2d",
   "metadata": {},
   "source": [
    "# Pergunta 9"
   ]
  },
  {
   "cell_type": "code",
   "execution_count": null,
   "id": "00bc035f",
   "metadata": {},
   "outputs": [],
   "source": [
    "df9 = df8.withColumn(\n",
    "    'engine_type',\n",
    "    when(col('engine').rlike('Turbo-fan'), \"FAN\")\n",
    "    .when(col('engine').rlike('Turbo-jet'), \"JET\")\n",
    "    .when(col('engine').rlike('Turbo-prop'), \"PROP\")\n",
    "    .when(col('engine').rlike('Turbo-shaft'), \"SHAFT\")\n",
    "    .when(col('engine').rlike('4 Cycle'), \"CYCLE\")\n",
    "    )"
   ]
  },
  {
   "cell_type": "markdown",
   "id": "bf6f2222",
   "metadata": {},
   "source": [
    "# Teste do resultado"
   ]
  },
  {
   "cell_type": "code",
   "execution_count": null,
   "id": "e215737e",
   "metadata": {},
   "outputs": [],
   "source": [
    "df9.groupBy(col('engine_type')).count().show()"
   ]
  },
  {
   "cell_type": "code",
   "execution_count": null,
   "id": "7c3b8ab2",
   "metadata": {},
   "outputs": [],
   "source": [
    "df9.select(col('engine_type'), col('engine')).where(col('engine_type').isNull()).show()"
   ]
  },
  {
   "cell_type": "markdown",
   "id": "fa81eaa8",
   "metadata": {},
   "source": [
    "# Salvando o arquivo em parquet"
   ]
  },
  {
   "cell_type": "code",
   "execution_count": null,
   "id": "e954c7fe",
   "metadata": {},
   "outputs": [],
   "source": [
    "df9.write.parquet(\n",
    "path = 'C:/Users/coskata/Downloads/Datasets/parquet/planes3.parquet',\n",
    "mode = 'overwrite'\n",
    ")"
   ]
  },
  {
   "cell_type": "markdown",
   "id": "86edcc16",
   "metadata": {},
   "source": [
    "# Teste do resultado"
   ]
  },
  {
   "cell_type": "code",
   "execution_count": null,
   "id": "ab1572ba",
   "metadata": {},
   "outputs": [],
   "source": [
    "path = 'C:/Users/coskata/Downloads/Datasets/parquet/planes3.parquet'\n",
    "planes_parquet = spark.read.parquet(path)"
   ]
  },
  {
   "cell_type": "code",
   "execution_count": null,
   "id": "4225d8ba",
   "metadata": {},
   "outputs": [],
   "source": [
    "planes_parquet.toPandas()"
   ]
  },
  {
   "cell_type": "markdown",
   "id": "3d227089",
   "metadata": {},
   "source": [
    "# Flights"
   ]
  },
  {
   "cell_type": "markdown",
   "id": "8f30f5d1",
   "metadata": {},
   "source": [
    "# Pergunta 1"
   ]
  },
  {
   "cell_type": "code",
   "execution_count": null,
   "id": "66eeca67",
   "metadata": {},
   "outputs": [],
   "source": [
    "df1 = df_flights.withColumn(\n",
    "    'hour', \n",
    "    (when(col('hour').isNull(), 0)).otherwise(col('hour'))\n",
    "    \n",
    "    )\n",
    "df1 = df1.withColumn(\n",
    "    'minute', \n",
    "    (when(col('minute').isNull(), 0)).otherwise(col('minute'))\n",
    "    \n",
    "    )"
   ]
  },
  {
   "cell_type": "markdown",
   "id": "628d3581",
   "metadata": {},
   "source": [
    "# Teste do resultado"
   ]
  },
  {
   "cell_type": "code",
   "execution_count": null,
   "id": "9d966a43",
   "metadata": {},
   "outputs": [],
   "source": [
    "df1.groupBy(\"hour\").count().distinct().orderBy(\"hour\", ascending=True).show(25)"
   ]
  },
  {
   "cell_type": "code",
   "execution_count": null,
   "id": "372056d6",
   "metadata": {},
   "outputs": [],
   "source": [
    "df1.groupBy(\"minute\").count().distinct().orderBy(\"minute\", ascending=True).show(25)"
   ]
  },
  {
   "cell_type": "markdown",
   "id": "774b91ae",
   "metadata": {},
   "source": [
    "# Pergunta 2"
   ]
  },
  {
   "cell_type": "code",
   "execution_count": null,
   "id": "d086da83",
   "metadata": {},
   "outputs": [],
   "source": [
    "df2 = df1.withColumn(\n",
    "    'hour', \n",
    "    (when(col('hour') == 24, 0)).otherwise(col('hour'))\n",
    "    )"
   ]
  },
  {
   "cell_type": "markdown",
   "id": "c4f76e72",
   "metadata": {},
   "source": [
    "# Teste do resultado"
   ]
  },
  {
   "cell_type": "code",
   "execution_count": null,
   "id": "8cab5348",
   "metadata": {},
   "outputs": [],
   "source": [
    "df2.groupBy(\"hour\").count().distinct().orderBy(\"hour\", ascending=True).show(25)"
   ]
  },
  {
   "cell_type": "markdown",
   "id": "6ab2cefb",
   "metadata": {},
   "source": [
    "# Pergunta 3"
   ]
  },
  {
   "cell_type": "code",
   "execution_count": null,
   "id": "f46c495e",
   "metadata": {},
   "outputs": [],
   "source": [
    "df3 = df2.withColumn('dep_datetime',\n",
    "                    expr(\"make_timestamp(year, month, day, hour, minute, 00)\"))"
   ]
  },
  {
   "cell_type": "markdown",
   "id": "dca8641e",
   "metadata": {},
   "source": [
    "# Teste do resultado"
   ]
  },
  {
   "cell_type": "code",
   "execution_count": null,
   "id": "175cb199",
   "metadata": {},
   "outputs": [],
   "source": [
    "df3.groupBy(\"dep_datetime\").count().distinct().orderBy(\"dep_datetime\", ascending=True).show(25)"
   ]
  },
  {
   "cell_type": "markdown",
   "id": "518fe6ba",
   "metadata": {},
   "source": [
    "# Pergunta 4"
   ]
  },
  {
   "cell_type": "code",
   "execution_count": null,
   "id": "32f50915",
   "metadata": {},
   "outputs": [],
   "source": [
    "df4 = df3.withColumn(\n",
    "    'dep_time',\n",
    "    (when(\n",
    "            (\n",
    "                (col('dep_time').isNull())|\n",
    "                (col('dep_time') == \"\") |\n",
    "                (col('dep_time') == \"NA\")\n",
    "            ), concat(col('hour'), lpad(col('minute'), 2, '0'))\n",
    "        )).otherwise(col('dep_time'))\n",
    "                    )"
   ]
  },
  {
   "cell_type": "markdown",
   "id": "b1361a47",
   "metadata": {},
   "source": [
    "# Teste do resultado"
   ]
  },
  {
   "cell_type": "code",
   "execution_count": null,
   "id": "5f201416",
   "metadata": {},
   "outputs": [],
   "source": [
    "df4.groupBy(\"dep_time\").count().distinct().orderBy(\"dep_time\", ascending=True).show(25)"
   ]
  },
  {
   "cell_type": "markdown",
   "id": "c1a09020",
   "metadata": {},
   "source": [
    "# Pergunta 5"
   ]
  },
  {
   "cell_type": "code",
   "execution_count": null,
   "id": "7bbea648",
   "metadata": {},
   "outputs": [],
   "source": [
    "df5 = df4.withColumn(\n",
    "    'dep_delay',\n",
    "    (when(col('dep_delay').isNull(), 0)).otherwise(col('dep_delay'))\n",
    "    )"
   ]
  },
  {
   "cell_type": "markdown",
   "id": "7bcca0b5",
   "metadata": {},
   "source": [
    "# Teste do resultado"
   ]
  },
  {
   "cell_type": "code",
   "execution_count": null,
   "id": "62485f2d",
   "metadata": {},
   "outputs": [],
   "source": [
    "df5.groupBy(\"dep_delay\").count().distinct().orderBy(\"dep_delay\", ascending=True).show(25)"
   ]
  },
  {
   "cell_type": "markdown",
   "id": "0a0b42e4",
   "metadata": {},
   "source": [
    "# Pergunta 6"
   ]
  },
  {
   "cell_type": "code",
   "execution_count": null,
   "id": "68f47186",
   "metadata": {},
   "outputs": [],
   "source": [
    "df6 = df5.withColumn(\n",
    "    'arr_delay',\n",
    "    (when(col('arr_delay').isNull(), 0)).otherwise(col('arr_delay'))\n",
    "    )"
   ]
  },
  {
   "cell_type": "markdown",
   "id": "479d2e0d",
   "metadata": {},
   "source": [
    "# Teste do resultado"
   ]
  },
  {
   "cell_type": "code",
   "execution_count": null,
   "id": "aaf981df",
   "metadata": {},
   "outputs": [],
   "source": [
    "df6.groupBy(col('arr_delay') == 0).count().show(50)"
   ]
  },
  {
   "cell_type": "markdown",
   "id": "83b0e352",
   "metadata": {},
   "source": [
    "# Pergunta 7"
   ]
  },
  {
   "cell_type": "code",
   "execution_count": null,
   "id": "8dfb9c92",
   "metadata": {},
   "outputs": [],
   "source": [
    "df7 = df6.drop(\"year\")\\\n",
    "        .drop(\"month\")\\\n",
    "        .drop(\"day\")\\\n",
    "        .drop(\"hour\")\\\n",
    "        .drop('minute')"
   ]
  },
  {
   "cell_type": "markdown",
   "id": "9a7eeb61",
   "metadata": {},
   "source": [
    "# Teste do resultado"
   ]
  },
  {
   "cell_type": "code",
   "execution_count": null,
   "id": "077ec82f",
   "metadata": {},
   "outputs": [],
   "source": [
    "df7.show()"
   ]
  },
  {
   "cell_type": "markdown",
   "id": "5a02a88d",
   "metadata": {},
   "source": [
    "# Pergunta 8"
   ]
  },
  {
   "cell_type": "code",
   "execution_count": null,
   "id": "9434efdd",
   "metadata": {},
   "outputs": [],
   "source": [
    "df8 = df7.withColumn(\n",
    "    \"air_time_projected\",\n",
    "    F.ceil(expr('distance *0.1 + 20'))\n",
    "    )"
   ]
  },
  {
   "cell_type": "markdown",
   "id": "4761ef13",
   "metadata": {},
   "source": [
    "# Teste do resultado"
   ]
  },
  {
   "cell_type": "code",
   "execution_count": null,
   "id": "46558000",
   "metadata": {},
   "outputs": [],
   "source": [
    "df8.groupBy(\"air_time_projected\").count().distinct().orderBy(\"air_time_projected\", ascending=True).show(25)"
   ]
  },
  {
   "cell_type": "markdown",
   "id": "4b51aab5",
   "metadata": {},
   "source": [
    "# Pergunta 9"
   ]
  },
  {
   "cell_type": "code",
   "execution_count": null,
   "id": "be9acb79",
   "metadata": {},
   "outputs": [],
   "source": [
    "df9_aux = df8.groupBy('origin', 'dest').avg('air_time')\n",
    "\n",
    "df9_aux = df9_aux.withColumnRenamed(\n",
    "  \"origin\", \"origin_aux\").withColumnRenamed(\"dest\", \"dest_aux\")\n",
    "\n",
    "cond = [df2.origin == df9_aux.origin_aux, df2.dest == df9_aux.dest_aux]\n",
    "df9 = df8.join(df9_aux, cond, 'left')\n",
    "\n",
    "df9 = df9.withColumnRenamed(\"avg(air_time)\", \"air_time_expected\")\n",
    "\n",
    "df9 = df9.drop(\"origin_aux\")\\\n",
    "        .drop(\"dest_aux\")\n",
    "\n",
    "df9 = df9.withColumn('air_time_expected', F.ceil(col('air_time_expected')))"
   ]
  },
  {
   "cell_type": "markdown",
   "id": "093195f6",
   "metadata": {},
   "source": [
    "# Teste do resultado"
   ]
  },
  {
   "cell_type": "code",
   "execution_count": null,
   "id": "95a45e06",
   "metadata": {},
   "outputs": [],
   "source": [
    "df9.select(col('origin'), col('dest'), col('air_time_expected')).show()"
   ]
  },
  {
   "cell_type": "markdown",
   "id": "a90acea6",
   "metadata": {},
   "source": [
    "# Pergunta 10"
   ]
  },
  {
   "cell_type": "code",
   "execution_count": null,
   "id": "ae64ac7c",
   "metadata": {},
   "outputs": [],
   "source": [
    "df10 = df9.withColumn(\n",
    "    'air_time',\n",
    "    (when(\n",
    "            col('air_time').isNull(), F.greatest(col('air_time_expected'), col('air_time_projected'))\n",
    "        )).otherwise(col('air_time'))\n",
    "    )"
   ]
  },
  {
   "cell_type": "markdown",
   "id": "4efe2c73",
   "metadata": {},
   "source": [
    "# Teste do resultado"
   ]
  },
  {
   "cell_type": "code",
   "execution_count": null,
   "id": "f03a0bc8",
   "metadata": {},
   "outputs": [],
   "source": [
    "df10.groupBy(\"air_time\").count().distinct().orderBy(\"air_time\", ascending=True).show(25)"
   ]
  },
  {
   "cell_type": "markdown",
   "id": "b4935c24",
   "metadata": {},
   "source": [
    "# Pergunta 11"
   ]
  },
  {
   "cell_type": "code",
   "execution_count": null,
   "id": "1b5ee2b2",
   "metadata": {},
   "outputs": [],
   "source": [
    "df10aux1 = df10.withColumn('dep_time', col('dep_time').cast(IntegerType()))"
   ]
  },
  {
   "cell_type": "code",
   "execution_count": null,
   "id": "a9e5dc7c",
   "metadata": {},
   "outputs": [],
   "source": [
    "df10_aux = df10aux1.groupBy('origin','dest', 'arr_time', 'air_time').min('dep_time')"
   ]
  },
  {
   "cell_type": "code",
   "execution_count": null,
   "id": "f9b10da5",
   "metadata": {},
   "outputs": [],
   "source": [
    "df11aux = df10_aux.withColumn('min(dep_time)', col('min(dep_time)').cast(StringType()))"
   ]
  },
  {
   "cell_type": "code",
   "execution_count": null,
   "id": "1f4f482c",
   "metadata": {},
   "outputs": [],
   "source": [
    "REGEX_HOUR_MIN_LEN4 = r\"(^{4}[0-1][0-9]|^2[0-4])[0-5][0-9]$\"\n",
    "REGEX_HOUR_MIN_LEN3 = r\"^{3}[0-9][0-5][0-9]$\""
   ]
  },
  {
   "cell_type": "code",
   "execution_count": null,
   "id": "781e1aaf",
   "metadata": {},
   "outputs": [],
   "source": [
    "df11_aux = df11aux.withColumn(\n",
    "    'dep_hour3',\n",
    "    (when(\n",
    "            (\n",
    "                (col('arr_time') == \"NA\") &\n",
    "                (col('min(dep_time)').rlike(REGEX_HOUR_MIN_LEN3))\n",
    "            ), substring(col('min(dep_time)'), 1, 1)\n",
    "        )).otherwise(0)\n",
    "    )\n",
    "df11_aux = df11_aux.withColumn(\n",
    "    'dep_minute3',\n",
    "    (when(\n",
    "            (\n",
    "                (col('arr_time') == \"NA\") &\n",
    "                (col('min(dep_time)').rlike(REGEX_HOUR_MIN_LEN3))\n",
    "            ), substring(col('min(dep_time)'), 2, 2)\n",
    "        )).otherwise(0)\n",
    "    )"
   ]
  },
  {
   "cell_type": "code",
   "execution_count": null,
   "id": "538f185f",
   "metadata": {},
   "outputs": [],
   "source": [
    "df11_aux = df11_aux.withColumn(\n",
    "    'dep_hour4',\n",
    "    (when(\n",
    "            (\n",
    "                (col('arr_time') == \"NA\") &\n",
    "                (col('min(dep_time)').rlike(REGEX_HOUR_MIN_LEN4))\n",
    "            ), substring(col('min(dep_time)'), 1, 2)\n",
    "        )).otherwise(0)\n",
    "    )\n",
    "df11_aux = df11_aux.withColumn(\n",
    "    'dep_minute4',\n",
    "    (when(\n",
    "            (\n",
    "                (col('arr_time') == \"NA\") &\n",
    "                (col('min(dep_time)').rlike(REGEX_HOUR_MIN_LEN4))\n",
    "            ), substring(col('min(dep_time)'), 3, 2)\n",
    "        )).otherwise(0)\n",
    "    )"
   ]
  },
  {
   "cell_type": "code",
   "execution_count": null,
   "id": "0fe8a1bd",
   "metadata": {},
   "outputs": [],
   "source": [
    "df11_aux1 = df11_aux.withColumn(\n",
    "    'air_hour',\n",
    "    (when(length(col('air_time'))==3, F.floor(expr('air_time/60')))).otherwise(0)\n",
    "    )\n",
    "df11_aux1 = df11_aux1.withColumn(\n",
    "    'air_minute',\n",
    "    F.ceil(expr('air_time%60'))\n",
    "    )"
   ]
  },
  {
   "cell_type": "code",
   "execution_count": null,
   "id": "3aa7c876",
   "metadata": {},
   "outputs": [],
   "source": [
    "df11_aux1 = df11_aux1.withColumn(\n",
    "    'dep_hour4',\n",
    "    (when(\n",
    "            (\n",
    "                (col('arr_time') == \"NA\") &\n",
    "                (col('min(dep_time)').rlike(REGEX_HOUR_MIN_LEN3))\n",
    "            ), col('dep_hour3')\n",
    "        )).otherwise(col('dep_hour4'))\n",
    ")\n",
    "df11_aux1 = df11_aux1.withColumn(\n",
    "    'dep_minute4',\n",
    "    (when(\n",
    "            (\n",
    "                (col('arr_time') == \"NA\") &\n",
    "                (col('min(dep_time)').rlike(REGEX_HOUR_MIN_LEN3))\n",
    "            ), col('dep_minute3')\n",
    "        )).otherwise(col('dep_minute4'))\n",
    ")"
   ]
  },
  {
   "cell_type": "code",
   "execution_count": null,
   "id": "a16ad57a",
   "metadata": {},
   "outputs": [],
   "source": [
    "df11_aux1 = df11_aux1.drop(\"dep_hour3\")\\\n",
    "    .drop('dep_minute3')"
   ]
  },
  {
   "cell_type": "code",
   "execution_count": null,
   "id": "dc7f58cf",
   "metadata": {},
   "outputs": [],
   "source": [
    "df11_aux1 = df11_aux1.withColumnRenamed(\"origin\", \"origin_aux\")\\\n",
    ".withColumnRenamed(\"dest\", \"dest_aux\")\\\n",
    ".withColumnRenamed(\"arr_time\", \"arr_time_aux\")\\\n",
    ".withColumnRenamed(\"air_time\", \"air_time_aux\")\\\n",
    ".withColumnRenamed(\"dep_hour4\", \"dep_hour\")\\\n",
    ".withColumnRenamed(\"dep_minute4\", \"dep_minute\")"
   ]
  },
  {
   "cell_type": "code",
   "execution_count": null,
   "id": "6cdafe88",
   "metadata": {},
   "outputs": [],
   "source": [
    "df11_aux1 = df11_aux1.withColumn(\n",
    "    'arr_hour',\n",
    "    when((col('arr_time_aux')==\"NA\"), F.floor(expr('dep_hour + air_hour')))\n",
    ")\n",
    "df11_aux1 = df11_aux1.withColumn(\n",
    "    'arr_minute',\n",
    "    when((col('arr_time_aux')==\"NA\"), F.floor(expr('dep_minute + air_minute')))\n",
    ")"
   ]
  },
  {
   "cell_type": "code",
   "execution_count": null,
   "id": "e0d46333",
   "metadata": {},
   "outputs": [],
   "source": [
    "df11_aux1 = df11_aux1.withColumn(\n",
    "    \"arr_minute_f\",\n",
    "    (when(col('arr_minute') > 60, F.ceil(expr('arr_minute - 60')))).otherwise(col('arr_minute'))\n",
    ")\n",
    "df11_aux1 = df11_aux1.withColumn(\n",
    "    \"arr_hour_f\",\n",
    "    (when(col('arr_minute') > 60, F.ceil(expr('arr_hour + 1')))).otherwise(col('arr_hour'))\n",
    ")"
   ]
  },
  {
   "cell_type": "code",
   "execution_count": null,
   "id": "85118321",
   "metadata": {},
   "outputs": [],
   "source": [
    "df11_aux1 = df11_aux1.drop(\"min(dep_time)\")\\\n",
    "    .drop('dep_hour')\\\n",
    "    .drop('dep_minute')\\\n",
    "    .drop('air_hour')\\\n",
    "    .drop('air_minute')\\\n",
    "    .drop('arr_hour')\\\n",
    "    .drop('arr_minute')"
   ]
  },
  {
   "cell_type": "code",
   "execution_count": null,
   "id": "8d6f82b6",
   "metadata": {},
   "outputs": [],
   "source": [
    "df11_aux1.select('*').where(col('arr_time_aux')==\"NA\").show()"
   ]
  },
  {
   "cell_type": "code",
   "execution_count": null,
   "id": "6f081a47",
   "metadata": {},
   "outputs": [],
   "source": [
    "cond = [\n",
    "    df10.origin == df11_aux1.origin_aux, \n",
    "    df10.dest == df11_aux1.dest_aux, \n",
    "    df10.arr_time == df11_aux1.arr_time_aux, \n",
    "    df10.air_time == df11_aux1.air_time_aux\n",
    "]\n",
    "\n",
    "df11_f = df10.join(df11_aux1, cond, 'left')"
   ]
  },
  {
   "cell_type": "code",
   "execution_count": null,
   "id": "2bb59877",
   "metadata": {},
   "outputs": [],
   "source": [
    "df11_f = df11_f.withColumn(\n",
    "    'arr_time',\n",
    "    (when((col('arr_time')==\"NA\"), F.concat(col('arr_hour_f'), col('arr_minute_f')))).otherwise(col('arr_time'))\n",
    ")"
   ]
  },
  {
   "cell_type": "markdown",
   "id": "3bd9e7b8",
   "metadata": {},
   "source": [
    "# Teste do resultado"
   ]
  },
  {
   "cell_type": "code",
   "execution_count": null,
   "id": "55e664b5",
   "metadata": {},
   "outputs": [],
   "source": [
    "df11_f.select(\n",
    "    col('origin'), \n",
    "    col('dest'),\n",
    "    col('arr_time'),\n",
    "    col('dep_time'),\n",
    "    col('air_time'),\n",
    "    col('arr_hour_f'),\n",
    "    col('arr_minute_f')\n",
    "    ).where(col('arr_time')==\"NA\").show()"
   ]
  },
  {
   "cell_type": "markdown",
   "id": "16dc874c",
   "metadata": {},
   "source": [
    "# Pergunta 12"
   ]
  },
  {
   "cell_type": "code",
   "execution_count": null,
   "id": "b19d8a4d",
   "metadata": {},
   "outputs": [],
   "source": [
    "df12 = df10.withColumn(\n",
    "    \"haul_duration\",\n",
    "    when(col('air_time').between(20, 180), 'SHORT-HAUL')\n",
    "    .when(col('air_time').between(181, 360), 'MEDIUM-HAUL')\n",
    "    .when(col('air_time') > 360, 'LONG-HAUL')\n",
    "    )"
   ]
  },
  {
   "cell_type": "markdown",
   "id": "a020218b",
   "metadata": {},
   "source": [
    "# Teste do resultado"
   ]
  },
  {
   "cell_type": "code",
   "execution_count": null,
   "id": "d2750267",
   "metadata": {},
   "outputs": [],
   "source": [
    "df12.groupBy('haul_duration').count().show()"
   ]
  },
  {
   "cell_type": "markdown",
   "id": "3c442c8f",
   "metadata": {},
   "source": [
    "# Pergunta 13"
   ]
  },
  {
   "cell_type": "code",
   "execution_count": null,
   "id": "7bd6a467",
   "metadata": {},
   "outputs": [],
   "source": [
    "df13 = df12.withColumn(\n",
    "    \"dep_season\",\n",
    "    when(\n",
    "            (\n",
    "                (col('dep_datetime').between('2013-12-21 21:49:00','2014-03-20 15:33:00')) |\n",
    "                (col('dep_datetime').between('2014-12-21 21:49:00','2015-03-20 15:33:00'))\n",
    "            )\n",
    "        , 'WINTER')\n",
    "    .when(col('dep_datetime').between('2014-03-20 15:34:00','2014-06-21 10:14:00'), 'SPRING')\n",
    "    .when(col('dep_datetime').between('2014-06-21 10:15:00','2014-09-23 02:04:00'), 'SUMMER')\n",
    "    .when(col('dep_datetime').between('2014-09-23 02:05:00','2014-12-21 21:48:00'), 'FALL')\n",
    "    )"
   ]
  },
  {
   "cell_type": "markdown",
   "id": "d9df367d",
   "metadata": {},
   "source": [
    "# Teste do resultado"
   ]
  },
  {
   "cell_type": "code",
   "execution_count": null,
   "id": "c588f89a",
   "metadata": {},
   "outputs": [],
   "source": [
    "df13.groupBy('dep_season').count().show()"
   ]
  },
  {
   "cell_type": "markdown",
   "id": "fd0ba661",
   "metadata": {},
   "source": [
    "# Pergunta 14"
   ]
  },
  {
   "cell_type": "code",
   "execution_count": null,
   "id": "0271b8d3",
   "metadata": {},
   "outputs": [],
   "source": [
    "df14 = df13.withColumn(\n",
    "    'dep_delay_category',\n",
    "    when(col('dep_delay') < 0, \"ANTECIPATED\")\n",
    "    .when(col('dep_delay') == 0, \"INTIME\")\n",
    "    .when(col('dep_delay').between(1, 59), \"MINOR\")\n",
    "    .when(col('dep_delay') >= 60, \"MAJOR\")\n",
    "    )"
   ]
  },
  {
   "cell_type": "markdown",
   "id": "c0547432",
   "metadata": {},
   "source": [
    "# Teste do resultado"
   ]
  },
  {
   "cell_type": "code",
   "execution_count": null,
   "id": "49e4bb0f",
   "metadata": {},
   "outputs": [],
   "source": [
    "df14.groupBy('dep_delay_category').count().show()"
   ]
  },
  {
   "cell_type": "markdown",
   "id": "8266c997",
   "metadata": {},
   "source": [
    "# Salvando o arquivo em parquet"
   ]
  },
  {
   "cell_type": "code",
   "execution_count": null,
   "id": "1dbe664a",
   "metadata": {},
   "outputs": [],
   "source": [
    "df14.write.parquet(\n",
    "path = 'C:/Users/coskata/Downloads/Datasets/parquet/flights3.parquet',\n",
    "mode = 'overwrite'\n",
    ")"
   ]
  },
  {
   "cell_type": "markdown",
   "id": "4521aafe",
   "metadata": {},
   "source": [
    "# Teste do resultado"
   ]
  },
  {
   "cell_type": "code",
   "execution_count": null,
   "id": "dbc7816a",
   "metadata": {},
   "outputs": [],
   "source": [
    "path = 'C:/Users/coskata/Downloads/Datasets/parquet/flights3.parquet'\n",
    "flights_parquet = spark.read.parquet(path)"
   ]
  },
  {
   "cell_type": "code",
   "execution_count": null,
   "id": "d884417b",
   "metadata": {},
   "outputs": [],
   "source": [
    "flights_parquet.toPandas()"
   ]
  }
 ],
 "metadata": {
  "kernelspec": {
   "display_name": "Python 3 (ipykernel)",
   "language": "python",
   "name": "python3"
  },
  "language_info": {
   "codemirror_mode": {
    "name": "ipython",
    "version": 3
   },
   "file_extension": ".py",
   "mimetype": "text/x-python",
   "name": "python",
   "nbconvert_exporter": "python",
   "pygments_lexer": "ipython3",
   "version": "3.9.7"
  }
 },
 "nbformat": 4,
 "nbformat_minor": 5
}
