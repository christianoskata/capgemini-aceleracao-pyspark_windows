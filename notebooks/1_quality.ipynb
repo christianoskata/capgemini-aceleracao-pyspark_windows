{
 "cells": [
  {
   "cell_type": "code",
   "execution_count": null,
   "id": "b0a1c352",
   "metadata": {},
   "outputs": [],
   "source": [
    "# Installing required packages\n",
    "!pip install pyspark\n",
    "!pip install findspark"
   ]
  },
  {
   "cell_type": "code",
   "execution_count": 2,
   "id": "21b7d315",
   "metadata": {},
   "outputs": [],
   "source": [
    "# starting spark\n",
    "import findspark\n",
    "findspark.init()"
   ]
  },
  {
   "cell_type": "code",
   "execution_count": 6,
   "id": "35aeb0eb",
   "metadata": {},
   "outputs": [],
   "source": [
    "# PySpark is the Spark API for Python. In this lab, we use PySpark to initialize the spark context. \n",
    "from pyspark import SparkContext, SparkConf\n",
    "from pyspark.sql import SparkSession\n",
    "from pyspark.sql.functions import when, col, lit, udf, length, substring, expr, regexp_replace, sum_distinct\n",
    "from pyspark.sql.types import StructType,StructField, StringType, IntegerType, FloatType\n",
    "from pyspark.sql import functions as F"
   ]
  },
  {
   "cell_type": "code",
   "execution_count": 4,
   "id": "0ff8c1a5",
   "metadata": {},
   "outputs": [],
   "source": [
    "# Creating a spark context class\n",
    "sc = SparkContext()\n",
    "\n",
    "# Creating a spark session\n",
    "spark = (SparkSession.builder\n",
    "                     .master(\"local[7]\")\n",
    "                     .appName(\"Aceleração PySpark - Capgemini\"))"
   ]
  },
  {
   "cell_type": "code",
   "execution_count": 7,
   "id": "964c084c",
   "metadata": {},
   "outputs": [],
   "source": [
    "schema_airports = StructType([\n",
    "    StructField(\"faa\",  StringType(),  True),\n",
    "    StructField(\"name\", StringType(),  True),\n",
    "    StructField(\"lat\",  FloatType(),   True),\n",
    "    StructField(\"lon\",  FloatType(),   True),\n",
    "    StructField(\"alt\",  IntegerType(), True),\n",
    "    StructField(\"tz\",   IntegerType(), True),\n",
    "    StructField(\"dst\",  StringType(),  True)\n",
    "])\n",
    "\n",
    "schema_planes = StructType([\n",
    "    StructField(\"tailnum\",      StringType(),  True),\n",
    "    StructField(\"year\",         IntegerType(), True),\n",
    "    StructField(\"type\",         StringType(),  True),\n",
    "    StructField(\"manufacturer\", StringType(),  True),\n",
    "    StructField(\"model\",        StringType(),  True),\n",
    "    StructField(\"engines\",      IntegerType(), True),\n",
    "    StructField(\"seats\",        IntegerType(), True),\n",
    "    StructField(\"speed\",        IntegerType(), True),\n",
    "    StructField(\"engine\",       StringType(),  True)\n",
    "])\n",
    "\n",
    "schema_flights = StructType([\n",
    "    StructField(\"year\",      IntegerType(), True),\n",
    "    StructField(\"month\",     IntegerType(), True),\n",
    "    StructField(\"day\",       IntegerType(), True),\n",
    "    StructField(\"dep_time\",  StringType(),  True),\n",
    "    StructField(\"dep_delay\", IntegerType(), True),\n",
    "    StructField(\"arr_time\",  StringType(),  True),\n",
    "    StructField(\"arr_delay\", IntegerType(), True),\n",
    "    StructField(\"carrier\",   StringType(),  True),\n",
    "    StructField(\"tailnum\",   StringType(),  True),\n",
    "    StructField(\"flight\",    StringType(),  True),\n",
    "    StructField(\"origin\",    StringType(),  True),\n",
    "    StructField(\"dest\",      StringType(),  True),\n",
    "    StructField(\"air_time\",  IntegerType(), True),\n",
    "    StructField(\"distance\",  IntegerType(), True),\n",
    "    StructField(\"hour\",      IntegerType(), True),\n",
    "    StructField(\"minute\",    IntegerType(), True),\n",
    "])"
   ]
  },
  {
   "cell_type": "code",
   "execution_count": 9,
   "id": "e1f89948",
   "metadata": {},
   "outputs": [],
   "source": [
    "df_airports = (spark.getOrCreate().read\n",
    "                  .format(\"csv\")\n",
    "                  .option(\"header\", \"true\")\n",
    "                  .schema(schema_airports)\n",
    "                  .load(\"../Datasets/airports.csv\"))\n",
    "\n",
    "df_planes = (spark.getOrCreate().read\n",
    "                  .format(\"csv\")\n",
    "                  .option(\"header\", \"true\")\n",
    "                  .schema(schema_planes)\n",
    "                  .load(\"../Datasets/planes.csv\"))\n",
    "\n",
    "df_flights = (spark.getOrCreate().read\n",
    "                  .format(\"csv\")\n",
    "                  .option(\"header\", \"true\")\n",
    "                  .schema(schema_flights)\n",
    "                  .load(\"../Datasets/flights.csv\"))"
   ]
  },
  {
   "cell_type": "code",
   "execution_count": 10,
   "id": "9739297f",
   "metadata": {},
   "outputs": [],
   "source": [
    "# Expressoes regulares comuns\n",
    "REGEX_ALPHA    = r'[a-zA-Z]+'\n",
    "REGEX_INTEGER  = r'[0-9]+'\n",
    "REGEX_FLOAT    = r'[0-9]+\\.[0-9]+'\n",
    "REGEX_ALPHANUM = r'[0-9a-zA-Z]+'\n",
    "REGEX_EMPTY_STR= r'[\\t ]+$'\n",
    "REGEX_SPECIAL  = r'[!@#$%&*\\(\\)_]+'\n",
    "REGEX_NNUMBER  = r'^N[1-9][0-9]{2,3}([ABCDEFGHJKLMNOPQRSTUVXWYZ]{1,2})'\n",
    "REGEX_NNUMBER_INVALID = r'(N0.*$)|(.*[IO].*)'\n",
    "REGEX_TIME_FMT = r'^(([0-1]?[0-9])|(2[0-3]))([0-5][0-9])$'"
   ]
  },
  {
   "cell_type": "code",
   "execution_count": 13,
   "id": "49d1c104",
   "metadata": {},
   "outputs": [],
   "source": [
    "# Funcoes auxiiliares\n",
    "def split_csv(line):\n",
    "    return tuple(map(lambda x: x.replace('\"',''), line.split(\",\")))\n",
    "\n",
    "def check_empty_column(col):\n",
    "    return (F.col(col).isNull() | (F.col(col) == '') | F.col(col).rlike(REGEX_EMPTY_STR))"
   ]
  },
  {
   "cell_type": "markdown",
   "id": "22d4208c",
   "metadata": {},
   "source": [
    "# Airports"
   ]
  },
  {
   "cell_type": "markdown",
   "id": "05c683e4",
   "metadata": {},
   "source": [
    "# Pergunta 1"
   ]
  },
  {
   "cell_type": "code",
   "execution_count": null,
   "id": "3b4549c8",
   "metadata": {},
   "outputs": [],
   "source": [
    "df1 = df_airports.withColumn(\n",
    "    'qa_faa', \n",
    "    when(\n",
    "            (\n",
    "                (col('faa').isNull()) |\n",
    "                (col('faa') == \"NA\")\n",
    "            ), \"M\"\n",
    "        )\n",
    "    .when(~F.col(\"faa\").rlike(\"^(?=.*[0-9])(?=.*[a-zA-Z])(?=[A-Z0-9]).{3,5}$\"), \"F\")\n",
    ")"
   ]
  },
  {
   "cell_type": "markdown",
   "id": "a4be80ef",
   "metadata": {},
   "source": [
    "# Teste do resultado"
   ]
  },
  {
   "cell_type": "code",
   "execution_count": null,
   "id": "ee2a990a",
   "metadata": {},
   "outputs": [],
   "source": [
    "df1.groupBy('qa_faa').count().show()"
   ]
  },
  {
   "cell_type": "code",
   "execution_count": null,
   "id": "29d883c7",
   "metadata": {},
   "outputs": [],
   "source": [
    "df1.select('faa', 'qa_faa').where(col('qa_faa')=='F').show()"
   ]
  },
  {
   "cell_type": "markdown",
   "id": "3baab1f9",
   "metadata": {},
   "source": [
    "# Pergunta 2"
   ]
  },
  {
   "cell_type": "code",
   "execution_count": null,
   "id": "4b46fa40",
   "metadata": {},
   "outputs": [],
   "source": [
    "df2 = df1.withColumn(\n",
    "    'qa_name', \n",
    "    when(\n",
    "            (\n",
    "                (col('name').isNull()) |\n",
    "                (col('name') == \"NA\")\n",
    "            ), \"M\"\n",
    "        )\n",
    ")"
   ]
  },
  {
   "cell_type": "markdown",
   "id": "d52ed18d",
   "metadata": {},
   "source": [
    "# Teste do resultado"
   ]
  },
  {
   "cell_type": "code",
   "execution_count": null,
   "id": "a8651cc3",
   "metadata": {},
   "outputs": [],
   "source": [
    "df2.groupBy('qa_name').count().show()"
   ]
  },
  {
   "cell_type": "code",
   "execution_count": null,
   "id": "58b6fd65",
   "metadata": {},
   "outputs": [],
   "source": [
    "df2.select('name', 'qa_name').where(col('qa_name')=='M').show()"
   ]
  },
  {
   "cell_type": "markdown",
   "id": "3d2eadfd",
   "metadata": {},
   "source": [
    "# Pergunta 3"
   ]
  },
  {
   "cell_type": "code",
   "execution_count": null,
   "id": "7ffbac16",
   "metadata": {},
   "outputs": [],
   "source": [
    "df3 = df2.withColumn(\n",
    "    \"qa_lat\",\n",
    "    when(~col(\"lat\").between(-180, 180), \"I\")\n",
    "    .when(\n",
    "            (\n",
    "                (col('lat').isNull()) |\n",
    "                (col('lat') == \"NA\")\n",
    "            ), \"M\"\n",
    "        )\n",
    "    .when(col(\"lat\").rlike(REGEX_ALPHA), \"A\"))"
   ]
  },
  {
   "cell_type": "markdown",
   "id": "f42cf30e",
   "metadata": {},
   "source": [
    "# Teste do resultado"
   ]
  },
  {
   "cell_type": "code",
   "execution_count": null,
   "id": "ce83ce34",
   "metadata": {},
   "outputs": [],
   "source": [
    "df3.groupBy('qa_lat').count().show()"
   ]
  },
  {
   "cell_type": "markdown",
   "id": "26803051",
   "metadata": {},
   "source": [
    "# Pergunta 4"
   ]
  },
  {
   "cell_type": "code",
   "execution_count": null,
   "id": "ed3d4954",
   "metadata": {},
   "outputs": [],
   "source": [
    "df4 = df3.withColumn(\n",
    "    \"qa_lon\",\n",
    "    when(~col(\"lon\").between(-180, 180), \"I\")\n",
    "    .when(\n",
    "            (\n",
    "                (col('lon').isNull()) |\n",
    "                (col('lon') == \"NA\")\n",
    "            ), \"M\"\n",
    "        )\n",
    "    .when(col(\"lon\").rlike(REGEX_ALPHA), \"A\"))"
   ]
  },
  {
   "cell_type": "markdown",
   "id": "fe6e10bf",
   "metadata": {},
   "source": [
    "# Teste do resultado"
   ]
  },
  {
   "cell_type": "code",
   "execution_count": null,
   "id": "188ec229",
   "metadata": {},
   "outputs": [],
   "source": [
    "df4.groupBy('qa_lon').count().show()"
   ]
  },
  {
   "cell_type": "markdown",
   "id": "440b2459",
   "metadata": {},
   "source": [
    "# Pergunta 5"
   ]
  },
  {
   "cell_type": "code",
   "execution_count": null,
   "id": "07f54ead",
   "metadata": {},
   "outputs": [],
   "source": [
    "df5 = df4.withColumn(\n",
    "    \"qa_alt\",\n",
    "    when(col(\"alt\") < 0, \"I\")\n",
    "    .when(\n",
    "            (\n",
    "                (col('alt').isNull()) |\n",
    "                (col('alt') == \"NA\")\n",
    "            ), \"M\"\n",
    "          )\n",
    "    .when(~col(\"alt\").rlike(\"[0-9]+\"), \"A\")\n",
    ")"
   ]
  },
  {
   "cell_type": "markdown",
   "id": "0f8dfd5f",
   "metadata": {},
   "source": [
    "# Teste do resultado"
   ]
  },
  {
   "cell_type": "code",
   "execution_count": null,
   "id": "98a775b2",
   "metadata": {},
   "outputs": [],
   "source": [
    "df5.groupBy(col('qa_alt')).count().show()"
   ]
  },
  {
   "cell_type": "markdown",
   "id": "7892e640",
   "metadata": {},
   "source": [
    "# Pergunta 6"
   ]
  },
  {
   "cell_type": "code",
   "execution_count": null,
   "id": "5bf8df42",
   "metadata": {},
   "outputs": [],
   "source": [
    "df6 = df5.withColumn(\n",
    "    \"qa_tz\",\n",
    "    when(\n",
    "            (\n",
    "                (col('tz').isNull()) |\n",
    "                (col('tz') == \"NA\")\n",
    "            ), \"M\"\n",
    "        )\n",
    "    .when(~col('tz').between(-11, 14), \"I\")\n",
    "    .when(~F.col('tz').rlike(REGEX_INTEGER + '$'), 'A')\n",
    ")\n"
   ]
  },
  {
   "cell_type": "markdown",
   "id": "93055ac6",
   "metadata": {},
   "source": [
    "# Teste do resultado"
   ]
  },
  {
   "cell_type": "code",
   "execution_count": null,
   "id": "0dff97ec",
   "metadata": {},
   "outputs": [],
   "source": [
    "df6.groupBy(col('qa_tz')).count().show()"
   ]
  },
  {
   "cell_type": "markdown",
   "id": "e310a4df",
   "metadata": {},
   "source": [
    "# Pergunta 7"
   ]
  },
  {
   "cell_type": "code",
   "execution_count": null,
   "id": "c0b63bdf",
   "metadata": {},
   "outputs": [],
   "source": [
    "DST_CATEGORIES = ['E', 'A', 'S', 'O', 'Z', 'N', 'U']\n",
    "\n",
    "df7 = df6.withColumn(\n",
    "    \"qa_dst\",\n",
    "    when(\n",
    "            (\n",
    "                (col('dst').isNull()) |\n",
    "                (col('dst') == \"NA\")\n",
    "            ), \"M\"\n",
    "        )\n",
    "             .when(F.col('dst').rlike(REGEX_INTEGER), 'N')\n",
    "             .when(~F.col('dst').isin(DST_CATEGORIES), 'C')\n",
    ")"
   ]
  },
  {
   "cell_type": "markdown",
   "id": "3fc070a5",
   "metadata": {},
   "source": [
    "# Teste do resultado"
   ]
  },
  {
   "cell_type": "code",
   "execution_count": null,
   "id": "b7b2a4e2",
   "metadata": {},
   "outputs": [],
   "source": [
    "df7.groupBy(col('qa_dst')).count().show()"
   ]
  },
  {
   "cell_type": "markdown",
   "id": "407db58b",
   "metadata": {},
   "source": [
    "# Salvando o arquivo em parquet com as colunas qa e informações importantes"
   ]
  },
  {
   "cell_type": "code",
   "execution_count": null,
   "id": "a7ba29eb",
   "metadata": {},
   "outputs": [],
   "source": [
    "df7.select(\n",
    "    col('faa'), \n",
    "    col('name'), \n",
    "    col('qa_faa'), \n",
    "    col('qa_name'), \n",
    "    col('qa_lat'), \n",
    "    col('qa_lon'), \n",
    "    col('qa_alt'), \n",
    "    col('qa_tz'), \n",
    "    col('qa_dst')\n",
    ").write.parquet(\n",
    "    path = 'C:/Users/coskata/Downloads/Datasets/parquet/airports.parquet',\n",
    "    mode = 'overwrite'\n",
    ")"
   ]
  },
  {
   "cell_type": "markdown",
   "id": "d6e1c90b",
   "metadata": {},
   "source": [
    "# Salvando o arquivo em parquet"
   ]
  },
  {
   "cell_type": "code",
   "execution_count": null,
   "id": "7ad003b7",
   "metadata": {},
   "outputs": [],
   "source": [
    "df7.write.parquet(\n",
    "path = 'C:/Users/coskata/Downloads/Datasets/parquet/airports.parquet',\n",
    "mode = 'overwrite'\n",
    ")"
   ]
  },
  {
   "cell_type": "markdown",
   "id": "daaf9fa1",
   "metadata": {},
   "source": [
    "# Teste do resultado"
   ]
  },
  {
   "cell_type": "code",
   "execution_count": null,
   "id": "e8ef085f",
   "metadata": {},
   "outputs": [],
   "source": [
    "path = 'C:/Users/coskata/Downloads/Datasets/parquet/airports.parquet'\n",
    "airports_parquet = spark.read.parquet(path)"
   ]
  },
  {
   "cell_type": "code",
   "execution_count": null,
   "id": "9f491969",
   "metadata": {},
   "outputs": [],
   "source": [
    "airports_parquet.toPandas()"
   ]
  },
  {
   "cell_type": "markdown",
   "id": "f949469e",
   "metadata": {},
   "source": [
    "# Planes"
   ]
  },
  {
   "cell_type": "markdown",
   "id": "187a9154",
   "metadata": {},
   "source": [
    "# Pergunta 1"
   ]
  },
  {
   "cell_type": "code",
   "execution_count": null,
   "id": "7b691e78",
   "metadata": {},
   "outputs": [],
   "source": [
    "df1 = df_planes.withColumn('qa_tailnum', (\n",
    "        F.when(check_empty_column('tailnum'), 'M')\n",
    "         .when(~F.length(F.col('tailnum')).between(5, 6), 'S')\n",
    "         .when(~F.col('tailnum').startswith('N'), 'FN')\n",
    "         .when( F.col('tailnum').rlike(REGEX_NNUMBER_INVALID), 'FE')\n",
    "         .when(~F.col('tailnum').rlike(REGEX_NNUMBER), 'F')))"
   ]
  },
  {
   "cell_type": "markdown",
   "id": "4f8b07e2",
   "metadata": {},
   "source": [
    "# Teste do resultado"
   ]
  },
  {
   "cell_type": "code",
   "execution_count": null,
   "id": "3a6f401e",
   "metadata": {},
   "outputs": [],
   "source": [
    "df1.groupBy('qa_tailnum').count().show()"
   ]
  },
  {
   "cell_type": "markdown",
   "id": "5d04480d",
   "metadata": {},
   "source": [
    "# Pergunta 2"
   ]
  },
  {
   "cell_type": "code",
   "execution_count": null,
   "id": "4477bd6b",
   "metadata": {},
   "outputs": [],
   "source": [
    "df2 = df1.withColumn(\n",
    "    \"qa_year\",\n",
    "    when(\n",
    "            (\n",
    "                (col('year').isNull()) |\n",
    "                (col('year') == \"NA\")\n",
    "            ), \"M\"\n",
    "        )\n",
    "    .when(col('year') < 1950, \"I\")\n",
    ")"
   ]
  },
  {
   "cell_type": "markdown",
   "id": "c72b939d",
   "metadata": {},
   "source": [
    "# Teste do resultado"
   ]
  },
  {
   "cell_type": "code",
   "execution_count": null,
   "id": "9d6cac2e",
   "metadata": {},
   "outputs": [],
   "source": [
    "df2.groupBy('qa_year').count().show()"
   ]
  },
  {
   "cell_type": "markdown",
   "id": "97bb5abd",
   "metadata": {},
   "source": [
    "# Pergunta 3"
   ]
  },
  {
   "cell_type": "code",
   "execution_count": null,
   "id": "bc309ca9",
   "metadata": {},
   "outputs": [],
   "source": [
    "df3 = df2.withColumn(\n",
    "    \"qa_type\", \n",
    "    when(\n",
    "            (\n",
    "                (col('type').isNull()) |\n",
    "                (col('type') == \"NA\")\n",
    "            ), \"M\"\n",
    "        )\n",
    "    .when(~col(\"type\").rlike(\"[Fixed wing multi engine,\\\n",
    "                               Fixed wing single engine,\\\n",
    "                               Rotorcraft]\"), \"C\")\n",
    ")"
   ]
  },
  {
   "cell_type": "markdown",
   "id": "4bdd5f60",
   "metadata": {},
   "source": [
    "# Teste do resultado"
   ]
  },
  {
   "cell_type": "code",
   "execution_count": 15,
   "id": "cf49a59c",
   "metadata": {
    "collapsed": true
   },
   "outputs": [
    {
     "ename": "NameError",
     "evalue": "name 'df3' is not defined",
     "output_type": "error",
     "traceback": [
      "\u001b[1;31m---------------------------------------------------------------------------\u001b[0m",
      "\u001b[1;31mNameError\u001b[0m                                 Traceback (most recent call last)",
      "\u001b[1;32m~\\AppData\\Local\\Temp/ipykernel_6868/1018911136.py\u001b[0m in \u001b[0;36m<module>\u001b[1;34m\u001b[0m\n\u001b[1;32m----> 1\u001b[1;33m \u001b[0mdf3\u001b[0m\u001b[1;33m.\u001b[0m\u001b[0mgroupBy\u001b[0m\u001b[1;33m(\u001b[0m\u001b[1;34m'qa_type'\u001b[0m\u001b[1;33m)\u001b[0m\u001b[1;33m.\u001b[0m\u001b[0mcount\u001b[0m\u001b[1;33m(\u001b[0m\u001b[1;33m)\u001b[0m\u001b[1;33m.\u001b[0m\u001b[0mshow\u001b[0m\u001b[1;33m(\u001b[0m\u001b[1;33m)\u001b[0m\u001b[1;33m\u001b[0m\u001b[1;33m\u001b[0m\u001b[0m\n\u001b[0m",
      "\u001b[1;31mNameError\u001b[0m: name 'df3' is not defined"
     ]
    }
   ],
   "source": [
    "df3.groupBy('qa_type').count().show()"
   ]
  },
  {
   "cell_type": "markdown",
   "id": "fa2d79c5",
   "metadata": {},
   "source": [
    "# Pergunta 4"
   ]
  },
  {
   "cell_type": "code",
   "execution_count": null,
   "id": "10b54353",
   "metadata": {},
   "outputs": [],
   "source": [
    "df4 = df3.withColumn(\n",
    "    \"qa_manufacturer\",\n",
    "    when(\n",
    "            (\n",
    "                (col('manufacturer').isNull()) |\n",
    "                (col('manufacturer') == \"NA\")\n",
    "            ), \"M\"\n",
    "        )\n",
    "    .when(~col(\"manufacturer\").rlike(\"[AIRBUS,\\\n",
    "                                        BOEING,\\\n",
    "                                        BOMBARDIER,\\\n",
    "                                        CESSNA,\\\n",
    "                                        EMBRAER,\\\n",
    "                                        SIKORSKY,\\\n",
    "                                        CANADAIR,\\\n",
    "                                        PIPER,\\\n",
    "                                        MCDONNELL DOUGLAS,\\\n",
    "                                        CIRRUS,\\\n",
    "                                        BELL,\\\n",
    "                                        KILDALL GARY,\\\n",
    "                                        LAMBERT RICHARD,\\\n",
    "                                        BARKER JACK,\\\n",
    "                                        ROBINSON HELICOPTER,\\\n",
    "                                        GULFSTREAM,\\\n",
    "                                        MARZ BARRY]\"), \"C\"))"
   ]
  },
  {
   "cell_type": "markdown",
   "id": "1d12ea30",
   "metadata": {},
   "source": [
    "# Teste do resultado"
   ]
  },
  {
   "cell_type": "code",
   "execution_count": null,
   "id": "a3a00d6e",
   "metadata": {},
   "outputs": [],
   "source": [
    "df4.groupBy('qa_manufacturer').count().show()"
   ]
  },
  {
   "cell_type": "markdown",
   "id": "acb383bc",
   "metadata": {},
   "source": [
    "# Pergunta 5"
   ]
  },
  {
   "cell_type": "code",
   "execution_count": null,
   "id": "7aaf04ca",
   "metadata": {},
   "outputs": [],
   "source": [
    "df5 = df4.withColumn(\n",
    "    \"qa_model\", \n",
    "    when(\n",
    "            (\n",
    "                (col('model').isNull()) |\n",
    "                (col('model') == \"NA\")\n",
    "            ), \"M\"\n",
    "        )\n",
    "    .when(\n",
    "            (\n",
    "                (col('manufacturer') == \"AIRBUS\") & (~col('model').startswith(\"A\")) |\n",
    "                (col('manufacturer') == \"BOEING\") & (~col('model').startswith(\"7\")) |\n",
    "                (col('manufacturer') == \"BOMBARDIER\") & (~col('model').startswith(\"CL\")) |\n",
    "                (col('manufacturer') == \"MCDONNELL DOUGLAS\") & (~col('model').startswith(\"MD\") | col('model').startswith(\"DC\"))\n",
    "            ), \"F\"\n",
    "        )\n",
    ")"
   ]
  },
  {
   "cell_type": "markdown",
   "id": "3a1bc132",
   "metadata": {},
   "source": [
    "# Teste do resultado"
   ]
  },
  {
   "cell_type": "code",
   "execution_count": null,
   "id": "e13774c0",
   "metadata": {},
   "outputs": [],
   "source": [
    "df5.groupBy('qa_model').count().show()"
   ]
  },
  {
   "cell_type": "markdown",
   "id": "eef30c19",
   "metadata": {},
   "source": [
    "# Pergunta 6"
   ]
  },
  {
   "cell_type": "code",
   "execution_count": null,
   "id": "5993f91e",
   "metadata": {},
   "outputs": [],
   "source": [
    "df6 = df5.withColumn(\n",
    "    \"qa_engines\",\n",
    "    when(\n",
    "            (\n",
    "                (col('engines').isNull()) |\n",
    "                (col('engines') == \"NA\")\n",
    "            ), \"M\"\n",
    "        )\n",
    "    .when(~col('engines').between(1,4), \"I\")\n",
    "    .when(col('engines').rlike(\"^[0-9A-Z^]*$\"), \"A\")\n",
    ")"
   ]
  },
  {
   "cell_type": "markdown",
   "id": "14d55d00",
   "metadata": {},
   "source": [
    "# Teste do resultado"
   ]
  },
  {
   "cell_type": "code",
   "execution_count": null,
   "id": "899a757d",
   "metadata": {},
   "outputs": [],
   "source": [
    "df6.groupBy('qa_engines').count().show()"
   ]
  },
  {
   "cell_type": "markdown",
   "id": "ddc3d197",
   "metadata": {},
   "source": [
    "# Pergunta 7"
   ]
  },
  {
   "cell_type": "code",
   "execution_count": null,
   "id": "fac5d22c",
   "metadata": {},
   "outputs": [],
   "source": [
    "df7 = df6.withColumn(\n",
    "    \"qa_seats\",\n",
    "    when(\n",
    "            (\n",
    "                (col('seats').isNull()) |\n",
    "                (col('seats') == \"NA\")\n",
    "            ), \"M\"\n",
    "        )\n",
    "    .when(~col('seats').between(2,500), \"I\")\n",
    "    .when(col('seats').rlike(\"^[0-9A-Z^]*$\"), \"A\")\n",
    ")"
   ]
  },
  {
   "cell_type": "markdown",
   "id": "831f7e79",
   "metadata": {},
   "source": [
    "# Teste do resultado"
   ]
  },
  {
   "cell_type": "code",
   "execution_count": null,
   "id": "05d13a7e",
   "metadata": {},
   "outputs": [],
   "source": [
    "df7.groupBy('qa_seats').count().show()"
   ]
  },
  {
   "cell_type": "markdown",
   "id": "1216618f",
   "metadata": {},
   "source": [
    "# Pergunta 8"
   ]
  },
  {
   "cell_type": "code",
   "execution_count": null,
   "id": "d82c0925",
   "metadata": {},
   "outputs": [],
   "source": [
    "df8 = df7.withColumn(\n",
    "    \"qa_speed\",\n",
    "    when(\n",
    "            (\n",
    "                (col('speed').isNull()) |\n",
    "                (col('speed') == \"NA\")\n",
    "            ), \"M\"\n",
    "        )\n",
    "    .when(~col('speed').between(50,150), \"I\")\n",
    "    .when(col('speed').rlike(\"^[0-9A-Z^]*$\"), \"A\")\n",
    ")"
   ]
  },
  {
   "cell_type": "markdown",
   "id": "88062c63",
   "metadata": {},
   "source": [
    "# Teste do resultado"
   ]
  },
  {
   "cell_type": "code",
   "execution_count": null,
   "id": "c4ed35fa",
   "metadata": {},
   "outputs": [],
   "source": [
    "df8.groupBy('qa_speed').count().show()"
   ]
  },
  {
   "cell_type": "markdown",
   "id": "ea35b478",
   "metadata": {},
   "source": [
    "# Pergunta 9"
   ]
  },
  {
   "cell_type": "code",
   "execution_count": null,
   "id": "8e86da8a",
   "metadata": {},
   "outputs": [],
   "source": [
    "df9 = df8.withColumn(\n",
    "    \"qa_engine\",\n",
    "    when(\n",
    "            (\n",
    "                (col('engine').isNull()) |\n",
    "                (col('engine') == \"NA\")\n",
    "            ), \"M\"\n",
    "        )\n",
    "    .when(\n",
    "            (\n",
    "                (~col('engine').rlike(\"Turbo-fan\")) &\n",
    "                (~col('engine').rlike(\"Turbo-jet\")) &\n",
    "                (~col('engine').rlike(\"Turbo-prop\")) &\n",
    "                (~col('engine').rlike(\"Turbo-shaft\")) &\n",
    "                (~col('engine').rlike(\"4 CycleY\"))\n",
    "            ), \"C\"\n",
    "         )\n",
    ")"
   ]
  },
  {
   "cell_type": "markdown",
   "id": "ee96b594",
   "metadata": {},
   "source": [
    "# Teste do resultado"
   ]
  },
  {
   "cell_type": "code",
   "execution_count": null,
   "id": "7c4e083b",
   "metadata": {},
   "outputs": [],
   "source": [
    "df9.groupBy('qa_engine').count().show()"
   ]
  },
  {
   "cell_type": "markdown",
   "id": "814cc72f",
   "metadata": {},
   "source": [
    "# Salvando o arquivo em parquet com as colunas qa e informações importantes"
   ]
  },
  {
   "cell_type": "code",
   "execution_count": null,
   "id": "016e34e2",
   "metadata": {},
   "outputs": [],
   "source": [
    "df9.select(\n",
    "    col('tailnum'), \n",
    "    col('qa_tailnum'),\n",
    "    col('qa_year'), \n",
    "    col('qa_type'), \n",
    "    col('qa_manufacturer'), \n",
    "    col('qa_model'), \n",
    "    col('qa_engines'), \n",
    "    col('qa_seats'), \n",
    "    col('qa_speed'), \n",
    "    col('qa_engine')\n",
    "\n",
    ").write.parquet(\n",
    "    path = 'C:/Users/coskata/Downloads/Datasets/parquet/planes.parquet',\n",
    "    mode = 'overwrite'\n",
    ")"
   ]
  },
  {
   "cell_type": "markdown",
   "id": "8a846754",
   "metadata": {},
   "source": [
    "# Salvando o arquivo em parquet"
   ]
  },
  {
   "cell_type": "code",
   "execution_count": null,
   "id": "1d68e894",
   "metadata": {},
   "outputs": [],
   "source": [
    "df9.write.parquet(\n",
    "path = 'C:/Users/coskata/Downloads/Datasets/parquet/planes.parquet',\n",
    "mode = 'overwrite'\n",
    ")"
   ]
  },
  {
   "cell_type": "markdown",
   "id": "d6f6c569",
   "metadata": {},
   "source": [
    "# Teste do resultado"
   ]
  },
  {
   "cell_type": "code",
   "execution_count": null,
   "id": "c0bd2f0b",
   "metadata": {},
   "outputs": [],
   "source": [
    "path = 'C:/Users/coskata/Downloads/Datasets/parquet/planes.parquet'\n",
    "planes_parquet = spark.read.parquet(path)"
   ]
  },
  {
   "cell_type": "code",
   "execution_count": null,
   "id": "0aba9685",
   "metadata": {},
   "outputs": [],
   "source": [
    "planes_parquet.toPandas()"
   ]
  },
  {
   "cell_type": "markdown",
   "id": "2be33d20",
   "metadata": {},
   "source": [
    "# Airports"
   ]
  },
  {
   "cell_type": "markdown",
   "id": "876aae7e",
   "metadata": {},
   "source": [
    "# Pergunta 1"
   ]
  },
  {
   "cell_type": "code",
   "execution_count": null,
   "id": "255a7684",
   "metadata": {},
   "outputs": [],
   "source": [
    "df1 = df_airports.withColumn(\n",
    "    \"qa_year_month_day\", \n",
    "    when(\n",
    "            (\n",
    "                (col('year').isNull()) |\n",
    "                (col('year') == \"NA\")\n",
    "            ), \"MY\"\n",
    "        )\n",
    "    .when(\n",
    "            (\n",
    "                (col('month').isNull()) |\n",
    "                (col('month') == \"NA\")\n",
    "            ), \"MM\"\n",
    "        )\n",
    "    .when(\n",
    "            (\n",
    "                (col('day').isNull()) |\n",
    "                (col('day') == \"NA\")\n",
    "            ), \"MD\"\n",
    "        )\n",
    "    .when(col(\"year\") < 1950, \"IY\")\n",
    "    .when(~col(\"month\").between(1,12), \"IM\")\n",
    "    .when(\n",
    "            (~col('day').between(1,31)) | \n",
    "            (col(\"month\") == 2) & \n",
    "            (~col('day').between(1,29)), \"ID\"\n",
    "        )\n",
    "   )"
   ]
  },
  {
   "cell_type": "markdown",
   "id": "598eed4d",
   "metadata": {},
   "source": [
    "# Teste do resultado"
   ]
  },
  {
   "cell_type": "code",
   "execution_count": null,
   "id": "eeaeadd0",
   "metadata": {},
   "outputs": [],
   "source": [
    "df1.groupBy('qa_year_month_day').count().show()"
   ]
  },
  {
   "cell_type": "markdown",
   "id": "4a730ee8",
   "metadata": {},
   "source": [
    "# Pergunta 2"
   ]
  },
  {
   "cell_type": "code",
   "execution_count": null,
   "id": "8ad542cd",
   "metadata": {},
   "outputs": [],
   "source": [
    "df2 = df1.withColumn(\n",
    "    \"qa_hour_minute\",\n",
    "    when(\n",
    "            (\n",
    "                (col('hour').isNull()) |\n",
    "                (col('hour') == \"NA\")\n",
    "            ), \"MH\"\n",
    "        )\n",
    "    .when(\n",
    "            (\n",
    "                (col('minute').isNull()) |\n",
    "                (col('minute') == \"NA\")\n",
    "            ), \"MM\"\n",
    "        )\n",
    "    .when(~col('hour').between(0,24), \"IH\")\n",
    "    .when(~col('minute').between(0, 59), \"IM\")\n",
    ")"
   ]
  },
  {
   "cell_type": "markdown",
   "id": "62de6433",
   "metadata": {},
   "source": [
    "# Teste do resultado"
   ]
  },
  {
   "cell_type": "code",
   "execution_count": null,
   "id": "e989472f",
   "metadata": {},
   "outputs": [],
   "source": [
    "df2.groupBy('qa_hour_minute').count().show()"
   ]
  },
  {
   "cell_type": "markdown",
   "id": "aabf1d53",
   "metadata": {},
   "source": [
    "# Pergunta 3"
   ]
  },
  {
   "cell_type": "code",
   "execution_count": null,
   "id": "9be0cb5d",
   "metadata": {},
   "outputs": [],
   "source": [
    "# Usando dataframe\n",
    "df3 = df2.withColumn('qa_dep_arr_time', (\n",
    "        F.when(check_empty_column('dep_time'), 'MD')\n",
    "         .when(check_empty_column('arr_time'), 'MA')\n",
    "         .when(F.col('dep_time').rlike(REGEX_TIME_FMT), 'FD')\n",
    "         .when(F.col('arr_time').rlike(REGEX_TIME_FMT), 'FA')))"
   ]
  },
  {
   "cell_type": "markdown",
   "id": "c2f2b28b",
   "metadata": {},
   "source": [
    "# Teste do resultado"
   ]
  },
  {
   "cell_type": "code",
   "execution_count": null,
   "id": "1e0b09a2",
   "metadata": {},
   "outputs": [],
   "source": [
    "df3.groupBy('qa_dep_arr_time').count().show()"
   ]
  },
  {
   "cell_type": "markdown",
   "id": "5a8f563f",
   "metadata": {},
   "source": [
    "# Pergunta 4"
   ]
  },
  {
   "cell_type": "code",
   "execution_count": null,
   "id": "d5175c95",
   "metadata": {},
   "outputs": [],
   "source": [
    "df4 = df3.withColumn(\n",
    "    \"qa_dep_arr_delay\",\n",
    "    when(\n",
    "            (\n",
    "                (col('dep_delay').isNull()) |\n",
    "                (col('dep_delay') == \"NA\")\n",
    "            ), \"MD\"\n",
    "        )\n",
    "    .when(\n",
    "            (\n",
    "                (col('arr_delay').isNull()) |\n",
    "                (col('arr_delay') == \"NA\")\n",
    "            ), \"MA\"\n",
    "        )\n",
    ")"
   ]
  },
  {
   "cell_type": "markdown",
   "id": "1a12c04d",
   "metadata": {},
   "source": [
    "# Teste do resultado"
   ]
  },
  {
   "cell_type": "code",
   "execution_count": null,
   "id": "29c84e0e",
   "metadata": {},
   "outputs": [],
   "source": [
    "df4.groupBy('qa_dep_arr_delay').count().show()"
   ]
  },
  {
   "cell_type": "markdown",
   "id": "8e27e6c2",
   "metadata": {},
   "source": [
    "# Pergunta 5"
   ]
  },
  {
   "cell_type": "code",
   "execution_count": null,
   "id": "7b9bd6b8",
   "metadata": {},
   "outputs": [],
   "source": [
    "df5 = df4.withColumn(\n",
    "    \"qa_carrier\", \n",
    "    when(\n",
    "            (\n",
    "                (col('carrier').isNull()) |\n",
    "                (col('carrier') == \"NA\")\n",
    "            ), \"M\"\n",
    "        )\n",
    "    .when(~col('carrier').rlike(\"{2}(^[0-9][A-Z]|^[A-Z][0-9])$\"), \"F\")\n",
    ")"
   ]
  },
  {
   "cell_type": "markdown",
   "id": "791e1c84",
   "metadata": {},
   "source": [
    "# Teste do resultado"
   ]
  },
  {
   "cell_type": "code",
   "execution_count": null,
   "id": "1c183b61",
   "metadata": {},
   "outputs": [],
   "source": [
    "df5.groupBy('qa_carrier').count().show()"
   ]
  },
  {
   "cell_type": "markdown",
   "id": "dec19a7f",
   "metadata": {},
   "source": [
    "# Pergunta 6"
   ]
  },
  {
   "cell_type": "code",
   "execution_count": null,
   "id": "7e28e31a",
   "metadata": {},
   "outputs": [],
   "source": [
    "df6 = df5.withColumn('qa_tailnum', (\n",
    "        F.when(check_empty_column('tailnum'), 'M')\n",
    "         .when(~F.length(F.col('tailnum')).between(5, 6), 'S')\n",
    "         .when(~F.col('tailnum').startswith('N'), 'FN')\n",
    "         .when( F.col('tailnum').rlike(REGEX_NNUMBER_INVALID), 'FE')\n",
    "         .when(~F.col('tailnum').rlike(REGEX_NNUMBER), 'F')))"
   ]
  },
  {
   "cell_type": "markdown",
   "id": "21d33f25",
   "metadata": {},
   "source": [
    "# Teste do resultado"
   ]
  },
  {
   "cell_type": "code",
   "execution_count": null,
   "id": "2d06ac70",
   "metadata": {},
   "outputs": [],
   "source": [
    "df6.groupBy('qa_tailnum').count().show()"
   ]
  },
  {
   "cell_type": "markdown",
   "id": "135c94db",
   "metadata": {},
   "source": [
    "# Pergunta 7"
   ]
  },
  {
   "cell_type": "code",
   "execution_count": null,
   "id": "0ea5bffc",
   "metadata": {},
   "outputs": [],
   "source": [
    "df7 = df6.withColumn(\n",
    "    \"qa_flight\", \n",
    "    when(\n",
    "            (\n",
    "                (col('flight').isNull()) |\n",
    "                (col('flight') == \"NA\")\n",
    "            ), \"M\"\n",
    "        )\n",
    "    .when(~col(\"flight\").rlike(\"[0-9]{4}$\"), \"F\")\n",
    ")"
   ]
  },
  {
   "cell_type": "markdown",
   "id": "d8db0803",
   "metadata": {},
   "source": [
    "# Teste do resultado"
   ]
  },
  {
   "cell_type": "code",
   "execution_count": null,
   "id": "40431914",
   "metadata": {},
   "outputs": [],
   "source": [
    "df7.groupBy(col('qa_flight')).count().show()"
   ]
  },
  {
   "cell_type": "markdown",
   "id": "c1444527",
   "metadata": {},
   "source": [
    "# Pergunta 8"
   ]
  },
  {
   "cell_type": "code",
   "execution_count": null,
   "id": "4e4aa4be",
   "metadata": {},
   "outputs": [],
   "source": [
    "df8 = df7.withColumn(\n",
    "    \"qa_origin_dest\", \n",
    "    when(\n",
    "            (\n",
    "                (col('origin').isNull()) |\n",
    "                (col('origin') == \"NA\")\n",
    "            ), \"MO\"\n",
    "        )\n",
    "    .when(\n",
    "            (\n",
    "                (col('dest').isNull()) |\n",
    "                (col('dest') == \"NA\")\n",
    "            ), \"MD\"\n",
    "        )\n",
    "    .when(\n",
    "            (\n",
    "                (col('origin').rlike(\"^[A-Z]*\")) |\n",
    "                (col('origin').rlike(\"^[0-9]*\"))\n",
    "            ), \"FO\"\n",
    "        )\n",
    "    .when(\n",
    "            (\n",
    "                (col('dest').rlike(\"^[A-Z]*\")) |\n",
    "                (col('dest').rlike(\"^[0-9]*\"))\n",
    "            ), \"FD\"\n",
    "        )\n",
    ")"
   ]
  },
  {
   "cell_type": "markdown",
   "id": "f3f6fb68",
   "metadata": {},
   "source": [
    "# Teste do resultado"
   ]
  },
  {
   "cell_type": "code",
   "execution_count": null,
   "id": "a015755e",
   "metadata": {},
   "outputs": [],
   "source": [
    "df8.groupBy('qa_origin_dest').count().show()"
   ]
  },
  {
   "cell_type": "markdown",
   "id": "abd0a9a6",
   "metadata": {},
   "source": [
    "# Pergunta 9"
   ]
  },
  {
   "cell_type": "code",
   "execution_count": null,
   "id": "c2703786",
   "metadata": {},
   "outputs": [],
   "source": [
    "df9 = df8.withColumn(\n",
    "    \"qa_air_time\", \n",
    "    when(\n",
    "            (\n",
    "                (col('air_time').isNull()) |\n",
    "                (col('air_time') == \"NA\")\n",
    "            ), \"M\"\n",
    "        )\n",
    "    .when(~col(\"air_time\").between(20,500), \"I\")\n",
    ")"
   ]
  },
  {
   "cell_type": "markdown",
   "id": "7155c9a5",
   "metadata": {},
   "source": [
    "# Teste do resultado"
   ]
  },
  {
   "cell_type": "code",
   "execution_count": null,
   "id": "6c193374",
   "metadata": {},
   "outputs": [],
   "source": [
    "df9.groupBy('qa_air_time').count().show()"
   ]
  },
  {
   "cell_type": "markdown",
   "id": "ae826251",
   "metadata": {},
   "source": [
    "# Pergunta 10"
   ]
  },
  {
   "cell_type": "code",
   "execution_count": null,
   "id": "7016f92b",
   "metadata": {},
   "outputs": [],
   "source": [
    "df10 = df9.withColumn(\n",
    "    \"qa_distance\", \n",
    "    when(\n",
    "            (\n",
    "                (col('distance').isNull()) |\n",
    "                (col('distance') == \"NA\")\n",
    "            ), \"M\"\n",
    "        )\n",
    "    .when(~col(\"distance\").between(50,3000), \"I\")\n",
    ")"
   ]
  },
  {
   "cell_type": "markdown",
   "id": "dd1c5ee1",
   "metadata": {},
   "source": [
    "# Teste do resultado"
   ]
  },
  {
   "cell_type": "code",
   "execution_count": null,
   "id": "4085f342",
   "metadata": {},
   "outputs": [],
   "source": [
    "df10.groupBy('qa_distance').count().show()"
   ]
  },
  {
   "cell_type": "markdown",
   "id": "c26e8d07",
   "metadata": {},
   "source": [
    "# Pergunta 11"
   ]
  },
  {
   "cell_type": "code",
   "execution_count": null,
   "id": "3052e2f5",
   "metadata": {},
   "outputs": [],
   "source": [
    "df11 = df10.withColumn('qa_distance_airtime', (\n",
    "        F.when(check_empty_column('distance'), 'M')\n",
    "         .when((F.col('air_time') >= F.col('distance') * 0.1 + 30), 'TL')\n",
    "         .when((F.col('air_time') <= F.col('distance') * 0.1 + 10), 'TS')\n",
    "         .otherwise('TR')))"
   ]
  },
  {
   "cell_type": "markdown",
   "id": "710d9045",
   "metadata": {},
   "source": [
    "# Teste do resultado"
   ]
  },
  {
   "cell_type": "code",
   "execution_count": null,
   "id": "c34cb6f9",
   "metadata": {},
   "outputs": [],
   "source": [
    "df11.groupBy('qa_distance_airtime').count().show()"
   ]
  },
  {
   "cell_type": "markdown",
   "id": "82513fca",
   "metadata": {},
   "source": [
    "# Salvando o arquivo em parquet com as colunas qa e informações importantes"
   ]
  },
  {
   "cell_type": "code",
   "execution_count": null,
   "id": "777209ef",
   "metadata": {},
   "outputs": [],
   "source": [
    "df11.select(\n",
    "    col('tailnum'), \n",
    "    col('flight'), \n",
    "    col('origin'), \n",
    "    col('dest'), \n",
    "    col('distance'), \n",
    "    col('qa_year_month_day'), \n",
    "    col('qa_hour_minute'), \n",
    "    col('qa_dep_arr_time'), \n",
    "    col('qa_dep_arr_delay'),\n",
    "    col('qa_carrier'), \n",
    "    col('qa_tailnum'), \n",
    "    col('qa_flight'), \n",
    "    col('qa_origin_dest'), \n",
    "    col('qa_air_time'), \n",
    "    col('qa_distance_airtime')\n",
    ").write.parquet(\n",
    "    path = 'C:/Users/coskata/Downloads/Datasets/parquet/flights.parquet',\n",
    "    mode = 'overwrite'\n",
    ")"
   ]
  },
  {
   "cell_type": "markdown",
   "id": "492d149e",
   "metadata": {},
   "source": [
    "# Salvando o arquivo em parquet"
   ]
  },
  {
   "cell_type": "code",
   "execution_count": null,
   "id": "4e6c6f83",
   "metadata": {},
   "outputs": [],
   "source": [
    "df11.write.parquet(\n",
    "path = 'C:/Users/coskata/Downloads/Datasets/parquet/flights.parquet',\n",
    "mode = 'overwrite'\n",
    ")"
   ]
  },
  {
   "cell_type": "markdown",
   "id": "d4e578e6",
   "metadata": {},
   "source": [
    "# Teste do resultado"
   ]
  },
  {
   "cell_type": "code",
   "execution_count": null,
   "id": "ee35f662",
   "metadata": {},
   "outputs": [],
   "source": [
    "path = 'C:/Users/coskata/Downloads/Datasets/parquet/flights.parquet'\n",
    "flights_parquet = spark.read.parquet(path)"
   ]
  },
  {
   "cell_type": "code",
   "execution_count": null,
   "id": "002dc37b",
   "metadata": {},
   "outputs": [],
   "source": [
    "flights_parquet.toPandas()"
   ]
  }
 ],
 "metadata": {
  "kernelspec": {
   "display_name": "Python 3 (ipykernel)",
   "language": "python",
   "name": "python3"
  },
  "language_info": {
   "codemirror_mode": {
    "name": "ipython",
    "version": 3
   },
   "file_extension": ".py",
   "mimetype": "text/x-python",
   "name": "python",
   "nbconvert_exporter": "python",
   "pygments_lexer": "ipython3",
   "version": "3.9.7"
  }
 },
 "nbformat": 4,
 "nbformat_minor": 5
}
