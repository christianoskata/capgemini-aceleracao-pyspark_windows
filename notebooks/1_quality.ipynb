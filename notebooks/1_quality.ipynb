{
 "cells": [
  {
   "cell_type": "code",
   "execution_count": null,
   "id": "b0a1c352",
   "metadata": {},
   "outputs": [],
   "source": [
    "# Installing required packages\n",
    "!pip install pyspark\n",
    "!pip install findspark"
   ]
  },
  {
   "cell_type": "code",
   "execution_count": 3,
   "id": "21b7d315",
   "metadata": {},
   "outputs": [],
   "source": [
    "# starting spark\n",
    "import findspark\n",
    "findspark.init()"
   ]
  },
  {
   "cell_type": "code",
   "execution_count": 4,
   "id": "35aeb0eb",
   "metadata": {},
   "outputs": [],
   "source": [
    "# PySpark is the Spark API for Python. In this lab, we use PySpark to initialize the spark context. \n",
    "from pyspark import SparkContext, SparkConf\n",
    "from pyspark.sql import SparkSession\n",
    "from pyspark.sql.functions import when, col, lit, udf, length, substring, expr, regexp_replace, sum_distinct\n",
    "from pyspark.sql.types import StructType,StructField, StringType, IntegerType, FloatType\n",
    "from pyspark.sql import functions as F"
   ]
  },
  {
   "cell_type": "code",
   "execution_count": 5,
   "id": "0ff8c1a5",
   "metadata": {},
   "outputs": [],
   "source": [
    "# Creating a spark context class\n",
    "sc = SparkContext()\n",
    "\n",
    "# Creating a spark session\n",
    "spark = (SparkSession.builder\n",
    "                     .master(\"local[7]\")\n",
    "                     .appName(\"Aceleração PySpark - Capgemini\"))"
   ]
  },
  {
   "cell_type": "code",
   "execution_count": 6,
   "id": "964c084c",
   "metadata": {},
   "outputs": [],
   "source": [
    "schema_airports = StructType([\n",
    "    StructField(\"faa\",  StringType(),  True),\n",
    "    StructField(\"name\", StringType(),  True),\n",
    "    StructField(\"lat\",  FloatType(),   True),\n",
    "    StructField(\"lon\",  FloatType(),   True),\n",
    "    StructField(\"alt\",  IntegerType(), True),\n",
    "    StructField(\"tz\",   IntegerType(), True),\n",
    "    StructField(\"dst\",  StringType(),  True)\n",
    "])\n",
    "\n",
    "schema_planes = StructType([\n",
    "    StructField(\"tailnum\",      StringType(),  True),\n",
    "    StructField(\"year\",         IntegerType(), True),\n",
    "    StructField(\"type\",         StringType(),  True),\n",
    "    StructField(\"manufacturer\", StringType(),  True),\n",
    "    StructField(\"model\",        StringType(),  True),\n",
    "    StructField(\"engines\",      IntegerType(), True),\n",
    "    StructField(\"seats\",        IntegerType(), True),\n",
    "    StructField(\"speed\",        IntegerType(), True),\n",
    "    StructField(\"engine\",       StringType(),  True)\n",
    "])\n",
    "\n",
    "schema_flights = StructType([\n",
    "    StructField(\"year\",      IntegerType(), True),\n",
    "    StructField(\"month\",     IntegerType(), True),\n",
    "    StructField(\"day\",       IntegerType(), True),\n",
    "    StructField(\"dep_time\",  StringType(),  True),\n",
    "    StructField(\"dep_delay\", IntegerType(), True),\n",
    "    StructField(\"arr_time\",  StringType(),  True),\n",
    "    StructField(\"arr_delay\", IntegerType(), True),\n",
    "    StructField(\"carrier\",   StringType(),  True),\n",
    "    StructField(\"tailnum\",   StringType(),  True),\n",
    "    StructField(\"flight\",    StringType(),  True),\n",
    "    StructField(\"origin\",    StringType(),  True),\n",
    "    StructField(\"dest\",      StringType(),  True),\n",
    "    StructField(\"air_time\",  IntegerType(), True),\n",
    "    StructField(\"distance\",  IntegerType(), True),\n",
    "    StructField(\"hour\",      IntegerType(), True),\n",
    "    StructField(\"minute\",    IntegerType(), True),\n",
    "])"
   ]
  },
  {
   "cell_type": "code",
   "execution_count": 8,
   "id": "e1f89948",
   "metadata": {},
   "outputs": [],
   "source": [
    "df_airports = (spark.getOrCreate().read\n",
    "                  .format(\"csv\")\n",
    "                  .option(\"header\", \"true\")\n",
    "                  .schema(schema_airports)\n",
    "                  .load(\"../Data/airports.csv\"))\n",
    "\n",
    "df_planes = (spark.getOrCreate().read\n",
    "                  .format(\"csv\")\n",
    "                  .option(\"header\", \"true\")\n",
    "                  .schema(schema_planes)\n",
    "                  .load(\"../Data/planes.csv\"))\n",
    "\n",
    "df_flights = (spark.getOrCreate().read\n",
    "                  .format(\"csv\")\n",
    "                  .option(\"header\", \"true\")\n",
    "                  .schema(schema_flights)\n",
    "                  .load(\"../Data/flights.csv\"))"
   ]
  },
  {
   "cell_type": "code",
   "execution_count": 11,
   "id": "9739297f",
   "metadata": {},
   "outputs": [],
   "source": [
    "# Expressoes regulares comuns\n",
    "REGEX_ALPHA    = r'[a-zA-Z]+'\n",
    "REGEX_INTEGER  = r'[0-9]+'\n",
    "REGEX_FLOAT    = r'[0-9]+\\.[0-9]+'\n",
    "REGEX_ALPHANUM = r'[0-9a-zA-Z]+'\n",
    "REGEX_EMPTY_STR= r'[\\t ]+$'\n",
    "REGEX_SPECIAL  = r'[!@#$%&*\\(\\)_]+'\n",
    "REGEX_NNUMBER  = r'^N[1-9][0-9]{2,3}([ABCDEFGHJKLMNOPQRSTUVXWYZ]{1,2})'\n",
    "REGEX_NNUMBER_INVALID = r'(N0.*$)|(.*[IO].*)'\n",
    "REGEX_TIME_FMT = r'^(([0-1]?[0-9])|(2[0-3]))([0-5][0-9])$'"
   ]
  },
  {
   "cell_type": "code",
   "execution_count": 13,
   "id": "49d1c104",
   "metadata": {},
   "outputs": [],
   "source": [
    "# Funcoes auxiiliares\n",
    "def split_csv(line):\n",
    "    return tuple(map(lambda x: x.replace('\"',''), line.split(\",\")))\n",
    "\n",
    "def check_empty_column(col):\n",
    "    return (F.col(col).isNull() | (F.col(col) == '') | F.col(col).rlike(REGEX_EMPTY_STR))"
   ]
  },
  {
   "cell_type": "markdown",
   "id": "22d4208c",
   "metadata": {},
   "source": [
    "# Airports"
   ]
  },
  {
   "cell_type": "markdown",
   "id": "05c683e4",
   "metadata": {},
   "source": [
    "# Pergunta 1"
   ]
  },
  {
   "cell_type": "code",
   "execution_count": null,
   "id": "3b4549c8",
   "metadata": {},
   "outputs": [],
   "source": [
    "df1 = df_airports.withColumn(\n",
    "    'qa_faa', \n",
    "    when(\n",
    "            (\n",
    "                (col('faa').isNull()) |\n",
    "                (col('faa') == \"NA\")\n",
    "            ), \"M\"\n",
    "        )\n",
    "    .when(~F.col(\"faa\").rlike(\"^(?=.*[0-9])(?=.*[a-zA-Z])(?=[A-Z0-9]).{3,5}$\"), \"F\")\n",
    ")"
   ]
  },
  {
   "cell_type": "markdown",
   "id": "a4be80ef",
   "metadata": {},
   "source": [
    "# Teste do resultado"
   ]
  },
  {
   "cell_type": "code",
   "execution_count": 13,
   "id": "29d883c7",
   "metadata": {},
   "outputs": [
    {
     "name": "stdout",
     "output_type": "stream",
     "text": [
      "+---+------+\n",
      "|faa|qa_faa|\n",
      "+---+------+\n",
      "+---+------+\n",
      "\n"
     ]
    }
   ],
   "source": [
    "df_airports.select('faa', 'qa_faa').where(col('qa_faa')=='F').show()"
   ]
  },
  {
   "cell_type": "code",
   "execution_count": 15,
   "id": "ee2a990a",
   "metadata": {
    "collapsed": true
   },
   "outputs": [
    {
     "ename": "NameError",
     "evalue": "name 'df1' is not defined",
     "output_type": "error",
     "traceback": [
      "\u001b[1;31m---------------------------------------------------------------------------\u001b[0m",
      "\u001b[1;31mNameError\u001b[0m                                 Traceback (most recent call last)",
      "\u001b[1;32m~\\AppData\\Local\\Temp/ipykernel_19940/2148428218.py\u001b[0m in \u001b[0;36m<module>\u001b[1;34m\u001b[0m\n\u001b[1;32m----> 1\u001b[1;33m \u001b[0mdf1\u001b[0m\u001b[1;33m.\u001b[0m\u001b[0mgroupBy\u001b[0m\u001b[1;33m(\u001b[0m\u001b[1;34m'qa_faa'\u001b[0m\u001b[1;33m)\u001b[0m\u001b[1;33m.\u001b[0m\u001b[0mcount\u001b[0m\u001b[1;33m(\u001b[0m\u001b[1;33m)\u001b[0m\u001b[1;33m.\u001b[0m\u001b[0mshow\u001b[0m\u001b[1;33m(\u001b[0m\u001b[1;33m)\u001b[0m\u001b[1;33m\u001b[0m\u001b[1;33m\u001b[0m\u001b[0m\n\u001b[0m",
      "\u001b[1;31mNameError\u001b[0m: name 'df1' is not defined"
     ]
    }
   ],
   "source": [
    "df1.groupBy('qa_faa').count().show()"
   ]
  },
  {
   "cell_type": "markdown",
   "id": "9a05e750",
   "metadata": {},
   "source": [
    "### Pergunta 1 revisada \n",
    "- Utilizando o mesmo nome do Dataframe<br> \n",
    "- Utilizando função para realizar o tratamento"
   ]
  },
  {
   "cell_type": "code",
   "execution_count": 9,
   "id": "b5bf0b4f",
   "metadata": {},
   "outputs": [],
   "source": [
    "def check_empty_column(col):\n",
    "    return (F.col(col).isNull() | (F.col(col) =='') | F.col(col).rlike(REGEX_EMPTY_STR))"
   ]
  },
  {
   "cell_type": "code",
   "execution_count": 12,
   "id": "a9573c11",
   "metadata": {},
   "outputs": [],
   "source": [
    "df_airports = df_airports.withColumn('qa_faa',(\n",
    "        F.when(check_empty_column('faa'),'M')\n",
    "         .when(\n",
    "             (~F.length(F.col('faa')).between(3,5)  |\n"
   ]
  },
  {
   "cell_type": "code",
   "execution_count": 14,
   "id": "b56fcba0",
   "metadata": {},
   "outputs": [
    {
     "name": "stdout",
     "output_type": "stream",
     "text": [
      "+---+------+\n",
      "|faa|qa_faa|\n",
      "+---+------+\n",
      "+---+------+\n",
      "\n"
     ]
    }
   ],
   "source": [
    "df_airports.select('faa', 'qa_faa').where(col('qa_faa')=='F').show()"
   ]
  },
  {
   "cell_type": "markdown",
   "id": "3baab1f9",
   "metadata": {},
   "source": [
    "# Pergunta 2"
   ]
  },
  {
   "cell_type": "code",
   "execution_count": null,
   "id": "4b46fa40",
   "metadata": {},
   "outputs": [],
   "source": [
    "df2 = df1.withColumn(\n",
    "    'qa_name', \n",
    "    when(\n",
    "            (\n",
    "                (col('name').isNull()) |\n",
    "                (col('name') == \"NA\")\n",
    "            ), \"M\"\n",
    "        )\n",
    ")"
   ]
  },
  {
   "cell_type": "markdown",
   "id": "3da3a8ae",
   "metadata": {},
   "source": [
    "## Pergunta 2 revisada \n",
    "- Utilizando função para tratar valor nulo e na"
   ]
  },
  {
   "cell_type": "code",
   "execution_count": 16,
   "id": "82e677df",
   "metadata": {},
   "outputs": [
    {
     "name": "stdout",
     "output_type": "stream",
     "text": [
      "+---+--------------------+---------+---------+----+---+---+------+-------+\n",
      "|faa|                name|      lat|      lon| alt| tz|dst|qa_faa|qa_name|\n",
      "+---+--------------------+---------+---------+----+---+---+------+-------+\n",
      "|04G|   Lansdowne Airport|41.130474|-80.61958|1044| -5|  A|  null|   null|\n",
      "|06A|Moton Field Munic...| 32.46057|-85.68003| 264| -5|  A|  null|   null|\n",
      "|06C| Schaumburg Regional| 41.98934|-88.10124| 801| -6|  A|  null|   null|\n",
      "|06N|     Randall Airport| 41.43191|-74.39156| 523| -5|  A|  null|   null|\n",
      "|09J|Jekyll Island Air...|31.074472|-81.42778|  11| -4|  A|  null|   null|\n",
      "+---+--------------------+---------+---------+----+---+---+------+-------+\n",
      "only showing top 5 rows\n",
      "\n"
     ]
    }
   ],
   "source": [
    "# Usando dataframe\n",
    "df_airports = df_airports.withColumn('qa_name', F.when(check_empty_column('name'), 'M'))\n",
    "df_airports.show(5)"
   ]
  },
  {
   "cell_type": "markdown",
   "id": "d52ed18d",
   "metadata": {},
   "source": [
    "# Teste do resultado"
   ]
  },
  {
   "cell_type": "code",
   "execution_count": 19,
   "id": "a8651cc3",
   "metadata": {},
   "outputs": [
    {
     "name": "stdout",
     "output_type": "stream",
     "text": [
      "+-------+-----+\n",
      "|qa_name|count|\n",
      "+-------+-----+\n",
      "|   null| 1394|\n",
      "|      M|    3|\n",
      "+-------+-----+\n",
      "\n"
     ]
    }
   ],
   "source": [
    "df_airports.groupBy('qa_name').count().show()"
   ]
  },
  {
   "cell_type": "code",
   "execution_count": 20,
   "id": "58b6fd65",
   "metadata": {},
   "outputs": [
    {
     "name": "stdout",
     "output_type": "stream",
     "text": [
      "+--------------------+-------+\n",
      "|                name|qa_name|\n",
      "+--------------------+-------+\n",
      "|          Immokalee |      M|\n",
      "|Montgomery Region...|      M|\n",
      "|Chicago Rockford ...|      M|\n",
      "+--------------------+-------+\n",
      "\n"
     ]
    }
   ],
   "source": [
    "df_airports.select('name', 'qa_name').where(col('qa_name')=='M').show()"
   ]
  },
  {
   "cell_type": "markdown",
   "id": "3d2eadfd",
   "metadata": {},
   "source": [
    "# Pergunta 3"
   ]
  },
  {
   "cell_type": "code",
   "execution_count": null,
   "id": "7ffbac16",
   "metadata": {},
   "outputs": [],
   "source": [
    "df3 = df2.withColumn(\n",
    "    \"qa_lat\",\n",
    "    when(~col(\"lat\").between(-180, 180), \"I\")\n",
    "    .when(\n",
    "            (\n",
    "                (col('lat').isNull()) |\n",
    "                (col('lat') == \"NA\")\n",
    "            ), \"M\"\n",
    "        )\n",
    "    .when(col(\"lat\").rlike(REGEX_ALPHA), \"A\"))"
   ]
  },
  {
   "cell_type": "markdown",
   "id": "4cb841a2",
   "metadata": {},
   "source": [
    "### pergunta 3 revisada\n",
    "- O código está igual, só a formatação que está direferente da minha. "
   ]
  },
  {
   "cell_type": "code",
   "execution_count": 21,
   "id": "40d3bdf9",
   "metadata": {},
   "outputs": [
    {
     "name": "stdout",
     "output_type": "stream",
     "text": [
      "+---+--------------------+---------+---------+----+---+---+------+-------+------+\n",
      "|faa|                name|      lat|      lon| alt| tz|dst|qa_faa|qa_name|qa_lat|\n",
      "+---+--------------------+---------+---------+----+---+---+------+-------+------+\n",
      "|04G|   Lansdowne Airport|41.130474|-80.61958|1044| -5|  A|  null|   null|     I|\n",
      "|06A|Moton Field Munic...| 32.46057|-85.68003| 264| -5|  A|  null|   null|     I|\n",
      "|06C| Schaumburg Regional| 41.98934|-88.10124| 801| -6|  A|  null|   null|     I|\n",
      "|06N|     Randall Airport| 41.43191|-74.39156| 523| -5|  A|  null|   null|     I|\n",
      "|09J|Jekyll Island Air...|31.074472|-81.42778|  11| -4|  A|  null|   null|     I|\n",
      "+---+--------------------+---------+---------+----+---+---+------+-------+------+\n",
      "only showing top 5 rows\n",
      "\n"
     ]
    }
   ],
   "source": [
    "# Usando Dataframe\n",
    "df_airports = df_airports.withColumn('qa_lat',(\n",
    "      F.when(check_empty_column('lat'), 'M')\n",
    "       .when(F.col('lat').rlike(REGEX_ALPHA),'A')\n",
    "       .when(F.col('lat').between(-180,180),'I')))\n",
    "\n",
    "df_airports.show(5)"
   ]
  },
  {
   "cell_type": "code",
   "execution_count": null,
   "id": "d7445f7c",
   "metadata": {},
   "outputs": [],
   "source": []
  },
  {
   "cell_type": "markdown",
   "id": "f42cf30e",
   "metadata": {},
   "source": [
    "# Teste do resultado"
   ]
  },
  {
   "cell_type": "code",
   "execution_count": 22,
   "id": "ce83ce34",
   "metadata": {},
   "outputs": [
    {
     "name": "stdout",
     "output_type": "stream",
     "text": [
      "+------+-----+\n",
      "|qa_lat|count|\n",
      "+------+-----+\n",
      "|     I| 1397|\n",
      "+------+-----+\n",
      "\n"
     ]
    }
   ],
   "source": [
    "df_airports.groupBy('qa_lat').count().show()"
   ]
  },
  {
   "cell_type": "markdown",
   "id": "26803051",
   "metadata": {},
   "source": [
    "# Pergunta 4"
   ]
  },
  {
   "cell_type": "code",
   "execution_count": null,
   "id": "ed3d4954",
   "metadata": {},
   "outputs": [],
   "source": [
    "df4 = df3.withColumn(\n",
    "    \"qa_lon\",\n",
    "    when(~col(\"lon\").between(-180, 180), \"I\")\n",
    "    .when(\n",
    "            (\n",
    "                (col('lon').isNull()) |\n",
    "                (col('lon') == \"NA\")\n",
    "            ), \"M\"\n",
    "        )\n",
    "    .when(col(\"lon\").rlike(REGEX_ALPHA), \"A\"))"
   ]
  },
  {
   "cell_type": "code",
   "execution_count": null,
   "id": "839f6859",
   "metadata": {},
   "outputs": [],
   "source": []
  },
  {
   "cell_type": "markdown",
   "id": "b8acea61",
   "metadata": {},
   "source": [
    "# Pergunta 4 revisada\n",
    "- Código igual apenas a formatação diferente."
   ]
  },
  {
   "cell_type": "code",
   "execution_count": 24,
   "id": "c3c6754d",
   "metadata": {},
   "outputs": [
    {
     "name": "stdout",
     "output_type": "stream",
     "text": [
      "+---+--------------------+---------+---------+----+---+---+------+-------+------+------+\n",
      "|faa|                name|      lat|      lon| alt| tz|dst|qa_faa|qa_name|qa_lat|qa_lon|\n",
      "+---+--------------------+---------+---------+----+---+---+------+-------+------+------+\n",
      "|04G|   Lansdowne Airport|41.130474|-80.61958|1044| -5|  A|  null|   null|     I|  null|\n",
      "|06A|Moton Field Munic...| 32.46057|-85.68003| 264| -5|  A|  null|   null|     I|  null|\n",
      "|06C| Schaumburg Regional| 41.98934|-88.10124| 801| -6|  A|  null|   null|     I|  null|\n",
      "|06N|     Randall Airport| 41.43191|-74.39156| 523| -5|  A|  null|   null|     I|  null|\n",
      "|09J|Jekyll Island Air...|31.074472|-81.42778|  11| -4|  A|  null|   null|     I|  null|\n",
      "+---+--------------------+---------+---------+----+---+---+------+-------+------+------+\n",
      "only showing top 5 rows\n",
      "\n"
     ]
    }
   ],
   "source": [
    "# Usando dataframe\n",
    "df_airports = df_airports.withColumn(\"qa_lon\", (\n",
    "    F.when(check_empty_column(\"lon\"), \"M\")\n",
    "     .when(~F.col('lon').rlike(REGEX_FLOAT),\"A\")\n",
    "     .when(~F.col('lon').between(-180,180),\"I\")))\n",
    "\n",
    "df_airports.show(5)"
   ]
  },
  {
   "cell_type": "markdown",
   "id": "fe6e10bf",
   "metadata": {},
   "source": [
    "# Teste do resultado"
   ]
  },
  {
   "cell_type": "code",
   "execution_count": 25,
   "id": "188ec229",
   "metadata": {},
   "outputs": [
    {
     "name": "stdout",
     "output_type": "stream",
     "text": [
      "+------+-----+\n",
      "|qa_lon|count|\n",
      "+------+-----+\n",
      "|  null| 1397|\n",
      "+------+-----+\n",
      "\n"
     ]
    }
   ],
   "source": [
    "df_airports.groupBy('qa_lon').count().show()"
   ]
  },
  {
   "cell_type": "markdown",
   "id": "440b2459",
   "metadata": {},
   "source": [
    "# Pergunta 5"
   ]
  },
  {
   "cell_type": "code",
   "execution_count": null,
   "id": "07f54ead",
   "metadata": {},
   "outputs": [],
   "source": [
    "df5 = df4.withColumn(\n",
    "    \"qa_alt\",\n",
    "    when(col(\"alt\") < 0, \"I\")\n",
    "    .when(\n",
    "            (\n",
    "                (col('alt').isNull()) |\n",
    "                (col('alt') == \"NA\")\n",
    "            ), \"M\"\n",
    "          )\n",
    "    .when(~col(\"alt\").rlike(\"[0-9]+\"), \"A\")\n",
    ")"
   ]
  },
  {
   "cell_type": "markdown",
   "id": "fcf5282a",
   "metadata": {},
   "source": [
    "### Pergunta 5 revisada\n",
    "- código o mesmo apenas a formatação diferente."
   ]
  },
  {
   "cell_type": "code",
   "execution_count": 26,
   "id": "8b18852c",
   "metadata": {},
   "outputs": [
    {
     "name": "stdout",
     "output_type": "stream",
     "text": [
      "+---+--------------------+---------+---------+----+---+---+------+-------+------+------+------+\n",
      "|faa|                name|      lat|      lon| alt| tz|dst|qa_faa|qa_name|qa_lat|qa_lon|qa_alt|\n",
      "+---+--------------------+---------+---------+----+---+---+------+-------+------+------+------+\n",
      "|04G|   Lansdowne Airport|41.130474|-80.61958|1044| -5|  A|  null|   null|     I|  null|  null|\n",
      "|06A|Moton Field Munic...| 32.46057|-85.68003| 264| -5|  A|  null|   null|     I|  null|  null|\n",
      "|06C| Schaumburg Regional| 41.98934|-88.10124| 801| -6|  A|  null|   null|     I|  null|  null|\n",
      "|06N|     Randall Airport| 41.43191|-74.39156| 523| -5|  A|  null|   null|     I|  null|  null|\n",
      "|09J|Jekyll Island Air...|31.074472|-81.42778|  11| -4|  A|  null|   null|     I|  null|  null|\n",
      "+---+--------------------+---------+---------+----+---+---+------+-------+------+------+------+\n",
      "only showing top 5 rows\n",
      "\n"
     ]
    }
   ],
   "source": [
    "# Usando dataframe\n",
    "df_airports = df_airports.withColumn('qa_alt', (\n",
    "            F.when(check_empty_column('alt'), 'M')\n",
    "             .when(~F.col('alt').rlike(REGEX_INTEGER), 'A')             \n",
    "             .when(F.col('alt') < 0, 'I')))\n",
    "\n",
    "df_airports.show(5)"
   ]
  },
  {
   "cell_type": "code",
   "execution_count": null,
   "id": "9d3292dd",
   "metadata": {},
   "outputs": [],
   "source": []
  },
  {
   "cell_type": "code",
   "execution_count": null,
   "id": "9d40c83e",
   "metadata": {},
   "outputs": [],
   "source": []
  },
  {
   "cell_type": "markdown",
   "id": "0f8dfd5f",
   "metadata": {},
   "source": [
    "# Teste do resultado"
   ]
  },
  {
   "cell_type": "code",
   "execution_count": 27,
   "id": "98a775b2",
   "metadata": {},
   "outputs": [
    {
     "name": "stdout",
     "output_type": "stream",
     "text": [
      "+------+-----+\n",
      "|qa_alt|count|\n",
      "+------+-----+\n",
      "|  null| 1395|\n",
      "|     I|    2|\n",
      "+------+-----+\n",
      "\n"
     ]
    }
   ],
   "source": [
    "df_airports.groupBy(col('qa_alt')).count().show()"
   ]
  },
  {
   "cell_type": "markdown",
   "id": "7892e640",
   "metadata": {},
   "source": [
    "# Pergunta 6"
   ]
  },
  {
   "cell_type": "code",
   "execution_count": null,
   "id": "5bf8df42",
   "metadata": {},
   "outputs": [],
   "source": [
    "df6 = df5.withColumn(\n",
    "    \"qa_tz\",\n",
    "    when(\n",
    "            (\n",
    "                (col('tz').isNull()) |\n",
    "                (col('tz') == \"NA\")\n",
    "            ), \"M\"\n",
    "        )\n",
    "    .when(~col('tz').between(-11, 14), \"I\")\n",
    "    .when(~F.col('tz').rlike(REGEX_INTEGER + '$'), 'A')\n",
    ")\n"
   ]
  },
  {
   "cell_type": "markdown",
   "id": "00e39641",
   "metadata": {},
   "source": [
    "#  Pergunta 6 revisada\n",
    "- código o mesmo formatacao diferente"
   ]
  },
  {
   "cell_type": "code",
   "execution_count": 29,
   "id": "89cc573c",
   "metadata": {},
   "outputs": [
    {
     "name": "stdout",
     "output_type": "stream",
     "text": [
      "+---+--------------------+---------+---------+----+---+---+------+-------+------+------+------+-----+\n",
      "|faa|                name|      lat|      lon| alt| tz|dst|qa_faa|qa_name|qa_lat|qa_lon|qa_alt|qa_tz|\n",
      "+---+--------------------+---------+---------+----+---+---+------+-------+------+------+------+-----+\n",
      "|04G|   Lansdowne Airport|41.130474|-80.61958|1044| -5|  A|  null|   null|     I|  null|  null| null|\n",
      "|06A|Moton Field Munic...| 32.46057|-85.68003| 264| -5|  A|  null|   null|     I|  null|  null| null|\n",
      "|06C| Schaumburg Regional| 41.98934|-88.10124| 801| -6|  A|  null|   null|     I|  null|  null| null|\n",
      "|06N|     Randall Airport| 41.43191|-74.39156| 523| -5|  A|  null|   null|     I|  null|  null| null|\n",
      "|09J|Jekyll Island Air...|31.074472|-81.42778|  11| -4|  A|  null|   null|     I|  null|  null| null|\n",
      "+---+--------------------+---------+---------+----+---+---+------+-------+------+------+------+-----+\n",
      "only showing top 5 rows\n",
      "\n"
     ]
    }
   ],
   "source": [
    "# Usando dataframe\n",
    "df_airports = df_airports.withColumn('qa_tz', (\n",
    "            F.when(check_empty_column('tz'), 'M')\n",
    "             .when(~F.col('tz').rlike(REGEX_INTEGER + '$'), 'A')         \n",
    "             .when(~F.col('tz').between(-11, 14), 'I')))\n",
    "\n",
    "df_airports.show(5)"
   ]
  },
  {
   "cell_type": "code",
   "execution_count": null,
   "id": "44264b4a",
   "metadata": {},
   "outputs": [],
   "source": []
  },
  {
   "cell_type": "markdown",
   "id": "93055ac6",
   "metadata": {},
   "source": [
    "# Teste do resultado"
   ]
  },
  {
   "cell_type": "code",
   "execution_count": 30,
   "id": "0dff97ec",
   "metadata": {},
   "outputs": [
    {
     "name": "stdout",
     "output_type": "stream",
     "text": [
      "+-----+-----+\n",
      "|qa_tz|count|\n",
      "+-----+-----+\n",
      "| null| 1397|\n",
      "+-----+-----+\n",
      "\n"
     ]
    }
   ],
   "source": [
    "df_airports.groupBy(col('qa_tz')).count().show()"
   ]
  },
  {
   "cell_type": "markdown",
   "id": "e310a4df",
   "metadata": {},
   "source": [
    "# Pergunta 7"
   ]
  },
  {
   "cell_type": "code",
   "execution_count": null,
   "id": "c0b63bdf",
   "metadata": {},
   "outputs": [],
   "source": [
    "DST_CATEGORIES = ['E', 'A', 'S', 'O', 'Z', 'N', 'U']\n",
    "\n",
    "df7 = df6.withColumn(\n",
    "    \"qa_dst\",\n",
    "    when(\n",
    "            (\n",
    "                (col('dst').isNull()) |\n",
    "                (col('dst') == \"NA\")\n",
    "            ), \"M\"\n",
    "        )\n",
    "             .when(F.col('dst').rlike(REGEX_INTEGER), 'N')\n",
    "             .when(~F.col('dst').isin(DST_CATEGORIES), 'C')\n",
    ")"
   ]
  },
  {
   "cell_type": "code",
   "execution_count": null,
   "id": "9417bb33",
   "metadata": {},
   "outputs": [],
   "source": []
  },
  {
   "cell_type": "markdown",
   "id": "d404e999",
   "metadata": {},
   "source": [
    "# Pergunta 7 revisada\n",
    "- código o mesmo, formatação diferente."
   ]
  },
  {
   "cell_type": "code",
   "execution_count": 33,
   "id": "9459dbf9",
   "metadata": {},
   "outputs": [
    {
     "name": "stdout",
     "output_type": "stream",
     "text": [
      "+---+--------------------+---------+---------+----+---+---+------+-------+------+------+------+-----+------+\n",
      "|faa|                name|      lat|      lon| alt| tz|dst|qa_faa|qa_name|qa_lat|qa_lon|qa_alt|qa_tz|qa_dst|\n",
      "+---+--------------------+---------+---------+----+---+---+------+-------+------+------+------+-----+------+\n",
      "|04G|   Lansdowne Airport|41.130474|-80.61958|1044| -5|  A|  null|   null|     I|  null|  null| null|  null|\n",
      "|06A|Moton Field Munic...| 32.46057|-85.68003| 264| -5|  A|  null|   null|     I|  null|  null| null|  null|\n",
      "|06C| Schaumburg Regional| 41.98934|-88.10124| 801| -6|  A|  null|   null|     I|  null|  null| null|  null|\n",
      "|06N|     Randall Airport| 41.43191|-74.39156| 523| -5|  A|  null|   null|     I|  null|  null| null|  null|\n",
      "|09J|Jekyll Island Air...|31.074472|-81.42778|  11| -4|  A|  null|   null|     I|  null|  null| null|  null|\n",
      "+---+--------------------+---------+---------+----+---+---+------+-------+------+------+------+-----+------+\n",
      "only showing top 5 rows\n",
      "\n"
     ]
    }
   ],
   "source": [
    "DST_CATEGORIES = ['E', 'A', 'S', 'O', 'Z', 'N', 'U']\n",
    "\n",
    "# Usando dataframe\n",
    "df_airports = df_airports.withColumn('qa_dst', (\n",
    "            F.when(check_empty_column('dst'), 'M')\n",
    "             .when(F.col('dst').rlike(REGEX_INTEGER), 'N')\n",
    "             .when(~F.col('dst').isin(DST_CATEGORIES), 'C')))\n",
    "\n",
    "df_airports.show(5)"
   ]
  },
  {
   "cell_type": "code",
   "execution_count": null,
   "id": "053141b4",
   "metadata": {},
   "outputs": [],
   "source": []
  },
  {
   "cell_type": "code",
   "execution_count": null,
   "id": "ccb76998",
   "metadata": {},
   "outputs": [],
   "source": []
  },
  {
   "cell_type": "markdown",
   "id": "3fc070a5",
   "metadata": {},
   "source": [
    "# Teste do resultado"
   ]
  },
  {
   "cell_type": "code",
   "execution_count": 34,
   "id": "b7b2a4e2",
   "metadata": {},
   "outputs": [
    {
     "name": "stdout",
     "output_type": "stream",
     "text": [
      "+------+-----+\n",
      "|qa_dst|count|\n",
      "+------+-----+\n",
      "|  null| 1397|\n",
      "+------+-----+\n",
      "\n"
     ]
    }
   ],
   "source": [
    "df_airports.groupBy(col('qa_dst')).count().show()"
   ]
  },
  {
   "cell_type": "markdown",
   "id": "407db58b",
   "metadata": {},
   "source": [
    "# Salvando o arquivo em parquet com as colunas qa e informações importantes"
   ]
  },
  {
   "cell_type": "code",
   "execution_count": null,
   "id": "a7ba29eb",
   "metadata": {},
   "outputs": [],
   "source": [
    "df7.select(\n",
    "    col('faa'), \n",
    "    col('name'), \n",
    "    col('qa_faa'), \n",
    "    col('qa_name'), \n",
    "    col('qa_lat'), \n",
    "    col('qa_lon'), \n",
    "    col('qa_alt'), \n",
    "    col('qa_tz'), \n",
    "    col('qa_dst')\n",
    ").write.parquet(\n",
    "    path = 'C:/Users/coskata/Downloads/Datasets/parquet/airports.parquet',\n",
    "    mode = 'overwrite'\n",
    ")"
   ]
  },
  {
   "cell_type": "markdown",
   "id": "cc03adb5",
   "metadata": {},
   "source": [
    "# Salvando de um modo diferente sem passar todas as colunas."
   ]
  },
  {
   "cell_type": "code",
   "execution_count": null,
   "id": "7b13b2a3",
   "metadata": {},
   "outputs": [],
   "source": [
    "(df_airports.select(df_airports.colRegex(\"`^qa_.*`\"))\n",
    "            .repartition(1) # coalesce\n",
    "            .write.format(\"parquet\")\n",
    "            .mode('overwrite')\n",
    "            .option(\"header\", \"true\")\n",
    "            .save(\"Datasets/airports_qa.parquet\"))"
   ]
  },
  {
   "cell_type": "code",
   "execution_count": null,
   "id": "dec742d9",
   "metadata": {},
   "outputs": [],
   "source": []
  },
  {
   "cell_type": "markdown",
   "id": "d6e1c90b",
   "metadata": {},
   "source": [
    "# Salvando o arquivo em parquet"
   ]
  },
  {
   "cell_type": "code",
   "execution_count": null,
   "id": "7ad003b7",
   "metadata": {},
   "outputs": [],
   "source": [
    "df7.write.parquet(\n",
    "path = 'C:/Users/coskata/Downloads/Datasets/parquet/airports.parquet',\n",
    "mode = 'overwrite'\n",
    ")"
   ]
  },
  {
   "cell_type": "markdown",
   "id": "daaf9fa1",
   "metadata": {},
   "source": [
    "# Teste do resultado"
   ]
  },
  {
   "cell_type": "code",
   "execution_count": null,
   "id": "e8ef085f",
   "metadata": {},
   "outputs": [],
   "source": [
    "path = 'C:/Users/coskata/Downloads/Datasets/parquet/airports.parquet'\n",
    "airports_parquet = spark.read.parquet(path)"
   ]
  },
  {
   "cell_type": "code",
   "execution_count": null,
   "id": "9f491969",
   "metadata": {},
   "outputs": [],
   "source": [
    "airports_parquet.toPandas()"
   ]
  },
  {
   "cell_type": "markdown",
   "id": "f949469e",
   "metadata": {},
   "source": [
    "# Planes"
   ]
  },
  {
   "cell_type": "markdown",
   "id": "187a9154",
   "metadata": {},
   "source": [
    "# Pergunta 1"
   ]
  },
  {
   "cell_type": "code",
   "execution_count": null,
   "id": "7b691e78",
   "metadata": {},
   "outputs": [],
   "source": [
    "df1 = df_planes.withColumn('qa_tailnum', (\n",
    "        F.when(check_empty_column('tailnum'), 'M')\n",
    "         .when(~F.length(F.col('tailnum')).between(5, 6), 'S')\n",
    "         .when(~F.col('tailnum').startswith('N'), 'FN')\n",
    "         .when( F.col('tailnum').rlike(REGEX_NNUMBER_INVALID), 'FE')\n",
    "         .when(~F.col('tailnum').rlike(REGEX_NNUMBER), 'F')))"
   ]
  },
  {
   "cell_type": "markdown",
   "id": "4f8b07e2",
   "metadata": {},
   "source": [
    "# Teste do resultado"
   ]
  },
  {
   "cell_type": "code",
   "execution_count": null,
   "id": "3a6f401e",
   "metadata": {},
   "outputs": [],
   "source": [
    "df1.groupBy('qa_tailnum').count().show()"
   ]
  },
  {
   "cell_type": "markdown",
   "id": "5d04480d",
   "metadata": {},
   "source": [
    "# Pergunta 2"
   ]
  },
  {
   "cell_type": "code",
   "execution_count": null,
   "id": "4477bd6b",
   "metadata": {},
   "outputs": [],
   "source": [
    "df2 = df1.withColumn(\n",
    "    \"qa_year\",\n",
    "    when(\n",
    "            (\n",
    "                (col('year').isNull()) |\n",
    "                (col('year') == \"NA\")\n",
    "            ), \"M\"\n",
    "        )\n",
    "    .when(col('year') < 1950, \"I\")\n",
    ")"
   ]
  },
  {
   "cell_type": "markdown",
   "id": "b8921498",
   "metadata": {},
   "source": [
    "# Pergunta 2 revisada\n",
    "- O código é o mesmo, alterando apenas a formatação. \n"
   ]
  },
  {
   "cell_type": "code",
   "execution_count": 36,
   "id": "0ddb69dc",
   "metadata": {},
   "outputs": [
    {
     "name": "stdout",
     "output_type": "stream",
     "text": [
      "+-------+----+--------------------+----------------+--------+-------+-----+-----+---------+-------+\n",
      "|tailnum|year|                type|    manufacturer|   model|engines|seats|speed|   engine|qa_year|\n",
      "+-------+----+--------------------+----------------+--------+-------+-----+-----+---------+-------+\n",
      "| N102UW|1998|Fixed wing multi ...|AIRBUS INDUSTRIE|A320-214|      2|  182| null|Turbo-fan|   null|\n",
      "| N103US|1999|Fixed wing multi ...|AIRBUS INDUSTRIE|A320-214|      2|  182| null|Turbo-fan|   null|\n",
      "| N104UW|1999|Fixed wing multi ...|AIRBUS INDUSTRIE|A320-214|      2|  182| null|Turbo-fan|   null|\n",
      "| N105UW|1999|Fixed wing multi ...|AIRBUS INDUSTRIE|A320-214|      2|  182| null|Turbo-fan|   null|\n",
      "| N107US|1999|Fixed wing multi ...|AIRBUS INDUSTRIE|A320-214|      2|  182| null|Turbo-fan|   null|\n",
      "+-------+----+--------------------+----------------+--------+-------+-----+-----+---------+-------+\n",
      "only showing top 5 rows\n",
      "\n"
     ]
    }
   ],
   "source": [
    "# Usando dataframe\n",
    "df_planes = df_planes.withColumn('qa_year', (\n",
    "        F.when(check_empty_column('year'), 'M')\n",
    "         .when(F.col('year') < 1950, 'I')))\n",
    "\n",
    "df_planes.show(5)"
   ]
  },
  {
   "cell_type": "code",
   "execution_count": null,
   "id": "33d92eaa",
   "metadata": {},
   "outputs": [],
   "source": []
  },
  {
   "cell_type": "markdown",
   "id": "c72b939d",
   "metadata": {},
   "source": [
    "# Teste do resultado"
   ]
  },
  {
   "cell_type": "code",
   "execution_count": null,
   "id": "9d6cac2e",
   "metadata": {},
   "outputs": [],
   "source": [
    "df2.groupBy('qa_year').count().show()"
   ]
  },
  {
   "cell_type": "markdown",
   "id": "97bb5abd",
   "metadata": {},
   "source": [
    "# Pergunta 3"
   ]
  },
  {
   "cell_type": "code",
   "execution_count": null,
   "id": "bc309ca9",
   "metadata": {},
   "outputs": [],
   "source": [
    "df3 = df2.withColumn(\n",
    "    \"qa_type\", \n",
    "    when(\n",
    "            (\n",
    "                (col('type').isNull()) |\n",
    "                (col('type') == \"NA\")\n",
    "            ), \"M\"\n",
    "        )\n",
    "    .when(~col(\"type\").rlike(\"[Fixed wing multi engine,\\\n",
    "                               Fixed wing single engine,\\\n",
    "                               Rotorcraft]\"), \"C\")\n",
    ")"
   ]
  },
  {
   "cell_type": "markdown",
   "id": "32dede03",
   "metadata": {},
   "source": [
    "## Pergunta 3 revisada\n",
    "- mesmo código de forma diferente "
   ]
  },
  {
   "cell_type": "code",
   "execution_count": 37,
   "id": "0ab6d306",
   "metadata": {},
   "outputs": [
    {
     "name": "stdout",
     "output_type": "stream",
     "text": [
      "+-------+----+--------------------+----------------+--------+-------+-----+-----+---------+-------+-------+\n",
      "|tailnum|year|                type|    manufacturer|   model|engines|seats|speed|   engine|qa_year|qa_type|\n",
      "+-------+----+--------------------+----------------+--------+-------+-----+-----+---------+-------+-------+\n",
      "| N102UW|1998|Fixed wing multi ...|AIRBUS INDUSTRIE|A320-214|      2|  182| null|Turbo-fan|   null|   null|\n",
      "| N103US|1999|Fixed wing multi ...|AIRBUS INDUSTRIE|A320-214|      2|  182| null|Turbo-fan|   null|   null|\n",
      "| N104UW|1999|Fixed wing multi ...|AIRBUS INDUSTRIE|A320-214|      2|  182| null|Turbo-fan|   null|   null|\n",
      "| N105UW|1999|Fixed wing multi ...|AIRBUS INDUSTRIE|A320-214|      2|  182| null|Turbo-fan|   null|   null|\n",
      "| N107US|1999|Fixed wing multi ...|AIRBUS INDUSTRIE|A320-214|      2|  182| null|Turbo-fan|   null|   null|\n",
      "+-------+----+--------------------+----------------+--------+-------+-----+-----+---------+-------+-------+\n",
      "only showing top 5 rows\n",
      "\n"
     ]
    }
   ],
   "source": [
    "# Usando dataframe\n",
    "PLANE_TYPES = [\"Fixed wing multi engine\", \"Fixed wing single engine\", \"Rotorcraft\"]\n",
    "df_planes = df_planes.withColumn('qa_type', (\n",
    "        F.when(check_empty_column('type'), 'M')\n",
    "         .when(~F.col('type').isin(PLANE_TYPES), 'C')))\n",
    "\n",
    "df_planes.show(5)"
   ]
  },
  {
   "cell_type": "markdown",
   "id": "4bdd5f60",
   "metadata": {},
   "source": [
    "# Teste do resultado"
   ]
  },
  {
   "cell_type": "code",
   "execution_count": 15,
   "id": "cf49a59c",
   "metadata": {
    "collapsed": true
   },
   "outputs": [
    {
     "ename": "NameError",
     "evalue": "name 'df3' is not defined",
     "output_type": "error",
     "traceback": [
      "\u001b[1;31m---------------------------------------------------------------------------\u001b[0m",
      "\u001b[1;31mNameError\u001b[0m                                 Traceback (most recent call last)",
      "\u001b[1;32m~\\AppData\\Local\\Temp/ipykernel_6868/1018911136.py\u001b[0m in \u001b[0;36m<module>\u001b[1;34m\u001b[0m\n\u001b[1;32m----> 1\u001b[1;33m \u001b[0mdf3\u001b[0m\u001b[1;33m.\u001b[0m\u001b[0mgroupBy\u001b[0m\u001b[1;33m(\u001b[0m\u001b[1;34m'qa_type'\u001b[0m\u001b[1;33m)\u001b[0m\u001b[1;33m.\u001b[0m\u001b[0mcount\u001b[0m\u001b[1;33m(\u001b[0m\u001b[1;33m)\u001b[0m\u001b[1;33m.\u001b[0m\u001b[0mshow\u001b[0m\u001b[1;33m(\u001b[0m\u001b[1;33m)\u001b[0m\u001b[1;33m\u001b[0m\u001b[1;33m\u001b[0m\u001b[0m\n\u001b[0m",
      "\u001b[1;31mNameError\u001b[0m: name 'df3' is not defined"
     ]
    }
   ],
   "source": [
    "df3.groupBy('qa_type').count().show()"
   ]
  },
  {
   "cell_type": "markdown",
   "id": "fa2d79c5",
   "metadata": {},
   "source": [
    "# Pergunta 4"
   ]
  },
  {
   "cell_type": "code",
   "execution_count": null,
   "id": "10b54353",
   "metadata": {},
   "outputs": [],
   "source": [
    "df4 = df3.withColumn(\n",
    "    \"qa_manufacturer\",\n",
    "    when(\n",
    "            (\n",
    "                (col('manufacturer').isNull()) |\n",
    "                (col('manufacturer') == \"NA\")\n",
    "            ), \"M\"\n",
    "        )\n",
    "    .when(~col(\"manufacturer\").rlike(\"[AIRBUS,\\\n",
    "                                        BOEING,\\\n",
    "                                        BOMBARDIER,\\\n",
    "                                        CESSNA,\\\n",
    "                                        EMBRAER,\\\n",
    "                                        SIKORSKY,\\\n",
    "                                        CANADAIR,\\\n",
    "                                        PIPER,\\\n",
    "                                        MCDONNELL DOUGLAS,\\\n",
    "                                        CIRRUS,\\\n",
    "                                        BELL,\\\n",
    "                                        KILDALL GARY,\\\n",
    "                                        LAMBERT RICHARD,\\\n",
    "                                        BARKER JACK,\\\n",
    "                                        ROBINSON HELICOPTER,\\\n",
    "                                        GULFSTREAM,\\\n",
    "                                        MARZ BARRY]\"), \"C\"))"
   ]
  },
  {
   "cell_type": "markdown",
   "id": "c3290312",
   "metadata": {},
   "source": [
    "# Pergunta 4 revisada \n",
    "- De forma diferente utilizando expressao lambda e rlike"
   ]
  },
  {
   "cell_type": "code",
   "execution_count": 39,
   "id": "da6d66bf",
   "metadata": {},
   "outputs": [
    {
     "name": "stdout",
     "output_type": "stream",
     "text": [
      "-RECORD 0-------------------------------\n",
      " tailnum         | N102UW               \n",
      " year            | 1998                 \n",
      " type            | Fixed wing multi ... \n",
      " manufacturer    | AIRBUS INDUSTRIE     \n",
      " model           | A320-214             \n",
      " engines         | 2                    \n",
      " seats           | 182                  \n",
      " speed           | null                 \n",
      " engine          | Turbo-fan            \n",
      " qa_year         | null                 \n",
      " qa_type         | null                 \n",
      " qa_manufacturer | null                 \n",
      "-RECORD 1-------------------------------\n",
      " tailnum         | N103US               \n",
      " year            | 1999                 \n",
      " type            | Fixed wing multi ... \n",
      " manufacturer    | AIRBUS INDUSTRIE     \n",
      " model           | A320-214             \n",
      " engines         | 2                    \n",
      " seats           | 182                  \n",
      " speed           | null                 \n",
      " engine          | Turbo-fan            \n",
      " qa_year         | null                 \n",
      " qa_type         | null                 \n",
      " qa_manufacturer | null                 \n",
      "-RECORD 2-------------------------------\n",
      " tailnum         | N104UW               \n",
      " year            | 1999                 \n",
      " type            | Fixed wing multi ... \n",
      " manufacturer    | AIRBUS INDUSTRIE     \n",
      " model           | A320-214             \n",
      " engines         | 2                    \n",
      " seats           | 182                  \n",
      " speed           | null                 \n",
      " engine          | Turbo-fan            \n",
      " qa_year         | null                 \n",
      " qa_type         | null                 \n",
      " qa_manufacturer | null                 \n",
      "only showing top 3 rows\n",
      "\n"
     ]
    }
   ],
   "source": [
    "\n",
    "\n",
    "\n",
    "# Usando dataframe\n",
    "PLANES_MANUFACTURERS = [\"AIRBUS\",\"BOEING\",\"BOMBARDIER\",\"CESSNA\",\"EMBRAER\",\"SIKORSKY\",\"CANADAIR\",\"PIPER\",\"MCDONNELL DOUGLAS\",\"CIRRUS\",\"BELL\",\"KILDALL GARY\",\"LAMBERT RICHARD\",\"BARKER JACK\",\"ROBINSON HELICOPTER\",\"GULFSTREAM\",\"MARZ BARRY\"]\n",
    "REGEX_MANUFACTURERS = r'|'.join(map(lambda x : f\".*({x}).*\", PLANES_MANUFACTURERS))\n",
    "\n",
    "df_planes = df_planes.withColumn('qa_manufacturer', (\n",
    "        F.when(check_empty_column('manufacturer'), 'M')\n",
    "         .when(~F.col('manufacturer').rlike(REGEX_MANUFACTURERS), 'C')))\n",
    "\n",
    "df_planes.show(3,vertical=True)"
   ]
  },
  {
   "cell_type": "markdown",
   "id": "1d12ea30",
   "metadata": {},
   "source": [
    "# Teste do resultado"
   ]
  },
  {
   "cell_type": "code",
   "execution_count": null,
   "id": "a3a00d6e",
   "metadata": {},
   "outputs": [],
   "source": [
    "df4.groupBy('qa_manufacturer').count().show()"
   ]
  },
  {
   "cell_type": "markdown",
   "id": "acb383bc",
   "metadata": {},
   "source": [
    "# Pergunta 5"
   ]
  },
  {
   "cell_type": "code",
   "execution_count": null,
   "id": "7aaf04ca",
   "metadata": {},
   "outputs": [],
   "source": [
    "df5 = df4.withColumn(\n",
    "    \"qa_model\", \n",
    "    when(\n",
    "            (\n",
    "                (col('model').isNull()) |\n",
    "                (col('model') == \"NA\")\n",
    "            ), \"M\"\n",
    "        )\n",
    "    .when(\n",
    "            (\n",
    "                (col('manufacturer') == \"AIRBUS\") & (~col('model').startswith(\"A\")) |\n",
    "                (col('manufacturer') == \"BOEING\") & (~col('model').startswith(\"7\")) |\n",
    "                (col('manufacturer') == \"BOMBARDIER\") & (~col('model').startswith(\"CL\")) |\n",
    "                (col('manufacturer') == \"MCDONNELL DOUGLAS\") & (~col('model').startswith(\"MD\") | col('model').startswith(\"DC\"))\n",
    "            ), \"F\"\n",
    "        )\n",
    ")"
   ]
  },
  {
   "cell_type": "markdown",
   "id": "a08505b7",
   "metadata": {},
   "source": [
    "# Pergunta 5 revisada\n",
    "- Mesmo código, formatação diferente\n",
    "\n"
   ]
  },
  {
   "cell_type": "code",
   "execution_count": 40,
   "id": "1c1f3593",
   "metadata": {},
   "outputs": [
    {
     "name": "stdout",
     "output_type": "stream",
     "text": [
      "+-------+----+--------------------+----------------+--------+-------+-----+-----+---------+-------+-------+---------------+--------+\n",
      "|tailnum|year|                type|    manufacturer|   model|engines|seats|speed|   engine|qa_year|qa_type|qa_manufacturer|qa_model|\n",
      "+-------+----+--------------------+----------------+--------+-------+-----+-----+---------+-------+-------+---------------+--------+\n",
      "| N102UW|1998|Fixed wing multi ...|AIRBUS INDUSTRIE|A320-214|      2|  182| null|Turbo-fan|   null|   null|           null|    null|\n",
      "| N103US|1999|Fixed wing multi ...|AIRBUS INDUSTRIE|A320-214|      2|  182| null|Turbo-fan|   null|   null|           null|    null|\n",
      "| N104UW|1999|Fixed wing multi ...|AIRBUS INDUSTRIE|A320-214|      2|  182| null|Turbo-fan|   null|   null|           null|    null|\n",
      "| N105UW|1999|Fixed wing multi ...|AIRBUS INDUSTRIE|A320-214|      2|  182| null|Turbo-fan|   null|   null|           null|    null|\n",
      "| N107US|1999|Fixed wing multi ...|AIRBUS INDUSTRIE|A320-214|      2|  182| null|Turbo-fan|   null|   null|           null|    null|\n",
      "+-------+----+--------------------+----------------+--------+-------+-----+-----+---------+-------+-------+---------------+--------+\n",
      "only showing top 5 rows\n",
      "\n"
     ]
    }
   ],
   "source": [
    "# Usando dataframe\n",
    "df_planes = df_planes.withColumn('qa_model', (\n",
    "        F.when(check_empty_column('model'), 'M')\n",
    "         .when(\n",
    "             ((F.col('manufacturer').rlike(r'.*AIRBUS.*') & ~F.col('model').startswith('A')) |\n",
    "              (F.col('manufacturer').rlike(r'.*BOEING.*') & ~F.col('model').startswith('7')) |\n",
    "              (F.col('manufacturer').rlike(r'.*(BOMBARDIER|CANADAIR).*') & ~F.col('model').startswith('CL')) |\n",
    "              (F.col('manufacturer').rlike(r'.*MCDONNELL DOUGLAS.*') &  ~(F.col('model').startswith('MD') | F.col('model').startswith('DC')) )), 'F')))\n",
    "\n",
    "df_planes.show(5)"
   ]
  },
  {
   "cell_type": "code",
   "execution_count": null,
   "id": "c33419b9",
   "metadata": {},
   "outputs": [],
   "source": []
  },
  {
   "cell_type": "markdown",
   "id": "3a1bc132",
   "metadata": {},
   "source": [
    "# Teste do resultado"
   ]
  },
  {
   "cell_type": "code",
   "execution_count": 41,
   "id": "e13774c0",
   "metadata": {},
   "outputs": [
    {
     "name": "stdout",
     "output_type": "stream",
     "text": [
      "+--------+-----+\n",
      "|qa_model|count|\n",
      "+--------+-----+\n",
      "|       F|   15|\n",
      "|    null| 2613|\n",
      "+--------+-----+\n",
      "\n"
     ]
    }
   ],
   "source": [
    "df_planes.groupBy('qa_model').count().show()"
   ]
  },
  {
   "cell_type": "markdown",
   "id": "eef30c19",
   "metadata": {},
   "source": [
    "# Pergunta 6"
   ]
  },
  {
   "cell_type": "code",
   "execution_count": null,
   "id": "5993f91e",
   "metadata": {},
   "outputs": [],
   "source": [
    "df6 = df5.withColumn(\n",
    "    \"qa_engines\",\n",
    "    when(\n",
    "            (\n",
    "                (col('engines').isNull()) |\n",
    "                (col('engines') == \"NA\")\n",
    "            ), \"M\"\n",
    "        )\n",
    "    .when(~col('engines').between(1,4), \"I\")\n",
    "    .when(col('engines').rlike(\"^[0-9A-Z^]*$\"), \"A\")\n",
    ")"
   ]
  },
  {
   "cell_type": "markdown",
   "id": "a4dc402b",
   "metadata": {},
   "source": [
    "### Pergunta 6 revisada\n",
    "- Mesmo código, formatação diferente"
   ]
  },
  {
   "cell_type": "code",
   "execution_count": 42,
   "id": "59eec042",
   "metadata": {},
   "outputs": [
    {
     "name": "stdout",
     "output_type": "stream",
     "text": [
      "-RECORD 0-------------------------------\n",
      " tailnum         | N102UW               \n",
      " year            | 1998                 \n",
      " type            | Fixed wing multi ... \n",
      " manufacturer    | AIRBUS INDUSTRIE     \n",
      " model           | A320-214             \n",
      " engines         | 2                    \n",
      " seats           | 182                  \n",
      " speed           | null                 \n",
      " engine          | Turbo-fan            \n",
      " qa_year         | null                 \n",
      " qa_type         | null                 \n",
      " qa_manufacturer | null                 \n",
      " qa_model        | null                 \n",
      " qa_engines      | I                    \n",
      "-RECORD 1-------------------------------\n",
      " tailnum         | N103US               \n",
      " year            | 1999                 \n",
      " type            | Fixed wing multi ... \n",
      " manufacturer    | AIRBUS INDUSTRIE     \n",
      " model           | A320-214             \n",
      " engines         | 2                    \n",
      " seats           | 182                  \n",
      " speed           | null                 \n",
      " engine          | Turbo-fan            \n",
      " qa_year         | null                 \n",
      " qa_type         | null                 \n",
      " qa_manufacturer | null                 \n",
      " qa_model        | null                 \n",
      " qa_engines      | I                    \n",
      "only showing top 2 rows\n",
      "\n"
     ]
    }
   ],
   "source": [
    "df_planes = df_planes.withColumn('qa_engines', (\n",
    "        F.when(check_empty_column('engines'), 'M')\n",
    "         .when(F.col(\"engines\").between(1,4),'I')\n",
    "         .when(F.col(\"engines\").rlike(REGEX_ALPHA),'A')\n",
    "))\n",
    "\n",
    "\n",
    "\n",
    "\n",
    "\n",
    "\n",
    "df_planes.show(2,vertical=True)"
   ]
  },
  {
   "cell_type": "code",
   "execution_count": null,
   "id": "fb7f66e4",
   "metadata": {},
   "outputs": [],
   "source": []
  },
  {
   "cell_type": "code",
   "execution_count": null,
   "id": "054dc129",
   "metadata": {},
   "outputs": [],
   "source": []
  },
  {
   "cell_type": "markdown",
   "id": "14d55d00",
   "metadata": {},
   "source": [
    "# Teste do resultado"
   ]
  },
  {
   "cell_type": "code",
   "execution_count": 43,
   "id": "899a757d",
   "metadata": {},
   "outputs": [
    {
     "name": "stdout",
     "output_type": "stream",
     "text": [
      "+----------+-----+\n",
      "|qa_engines|count|\n",
      "+----------+-----+\n",
      "|         I| 2628|\n",
      "+----------+-----+\n",
      "\n"
     ]
    }
   ],
   "source": [
    "df_planes.groupBy('qa_engines').count().show()"
   ]
  },
  {
   "cell_type": "markdown",
   "id": "ddc3d197",
   "metadata": {},
   "source": [
    "# Pergunta 7"
   ]
  },
  {
   "cell_type": "code",
   "execution_count": null,
   "id": "fac5d22c",
   "metadata": {},
   "outputs": [],
   "source": [
    "df7 = df6.withColumn(\n",
    "    \"qa_seats\",\n",
    "    when(\n",
    "            (\n",
    "                (col('seats').isNull()) |\n",
    "                (col('seats') == \"NA\")\n",
    "            ), \"M\"\n",
    "        )\n",
    "    .when(~col('seats').between(2,500), \"I\")\n",
    "    .when(col('seats').rlike(\"^[0-9A-Z^]*$\"), \"A\")\n",
    ")"
   ]
  },
  {
   "cell_type": "markdown",
   "id": "831f7e79",
   "metadata": {},
   "source": [
    "# Teste do resultado"
   ]
  },
  {
   "cell_type": "code",
   "execution_count": null,
   "id": "05d13a7e",
   "metadata": {},
   "outputs": [],
   "source": [
    "df7.groupBy('qa_seats').count().show()"
   ]
  },
  {
   "cell_type": "markdown",
   "id": "1216618f",
   "metadata": {},
   "source": [
    "# Pergunta 8"
   ]
  },
  {
   "cell_type": "code",
   "execution_count": null,
   "id": "d82c0925",
   "metadata": {},
   "outputs": [],
   "source": [
    "df8 = df7.withColumn(\n",
    "    \"qa_speed\",\n",
    "    when(\n",
    "            (\n",
    "                (col('speed').isNull()) |\n",
    "                (col('speed') == \"NA\")\n",
    "            ), \"M\"\n",
    "        )\n",
    "    .when(~col('speed').between(50,150), \"I\")\n",
    "    .when(col('speed').rlike(\"^[0-9A-Z^]*$\"), \"A\")\n",
    ")"
   ]
  },
  {
   "cell_type": "code",
   "execution_count": null,
   "id": "b76116c3",
   "metadata": {},
   "outputs": [],
   "source": []
  },
  {
   "cell_type": "markdown",
   "id": "1f194256",
   "metadata": {},
   "source": [
    "# pergunta 8 revisada\n",
    "- Mesmo codigo, formatacao diferente"
   ]
  },
  {
   "cell_type": "code",
   "execution_count": null,
   "id": "ccf84acd",
   "metadata": {},
   "outputs": [],
   "source": []
  },
  {
   "cell_type": "code",
   "execution_count": 46,
   "id": "d6e02906",
   "metadata": {},
   "outputs": [
    {
     "name": "stdout",
     "output_type": "stream",
     "text": [
      "-RECORD 0-------------------------------\n",
      " tailnum         | N102UW               \n",
      " year            | 1998                 \n",
      " type            | Fixed wing multi ... \n",
      " manufacturer    | AIRBUS INDUSTRIE     \n",
      " model           | A320-214             \n",
      " engines         | 2                    \n",
      " seats           | 182                  \n",
      " speed           | null                 \n",
      " engine          | Turbo-fan            \n",
      " qa_year         | null                 \n",
      " qa_type         | null                 \n",
      " qa_manufacturer | null                 \n",
      " qa_model        | null                 \n",
      " qa_engines      | I                    \n",
      " qa_seats        | I                    \n",
      " qa_speed        | M                    \n",
      "-RECORD 1-------------------------------\n",
      " tailnum         | N103US               \n",
      " year            | 1999                 \n",
      " type            | Fixed wing multi ... \n",
      " manufacturer    | AIRBUS INDUSTRIE     \n",
      " model           | A320-214             \n",
      " engines         | 2                    \n",
      " seats           | 182                  \n",
      " speed           | null                 \n",
      " engine          | Turbo-fan            \n",
      " qa_year         | null                 \n",
      " qa_type         | null                 \n",
      " qa_manufacturer | null                 \n",
      " qa_model        | null                 \n",
      " qa_engines      | I                    \n",
      " qa_seats        | I                    \n",
      " qa_speed        | M                    \n",
      "only showing top 2 rows\n",
      "\n"
     ]
    }
   ],
   "source": [
    "df_planes = df_planes.withColumn('qa_speed', (\n",
    "        F.when(check_empty_column('speed'), 'M')\n",
    "         .when(F.col('speed').between(50, 150), 'I')\n",
    "         .when(F.col('speed').rlike(REGEX_ALPHANUM), 'A')\n",
    "))\n",
    "\n",
    "df_planes.show(2,vertical=True)"
   ]
  },
  {
   "cell_type": "code",
   "execution_count": null,
   "id": "be0659e0",
   "metadata": {},
   "outputs": [],
   "source": []
  },
  {
   "cell_type": "markdown",
   "id": "88062c63",
   "metadata": {},
   "source": [
    "# Teste do resultado"
   ]
  },
  {
   "cell_type": "code",
   "execution_count": 47,
   "id": "c4ed35fa",
   "metadata": {},
   "outputs": [
    {
     "name": "stdout",
     "output_type": "stream",
     "text": [
      "+--------+-----+\n",
      "|qa_speed|count|\n",
      "+--------+-----+\n",
      "|       M| 2622|\n",
      "|       I|    6|\n",
      "+--------+-----+\n",
      "\n"
     ]
    }
   ],
   "source": [
    "df_planes.groupBy('qa_speed').count().show()"
   ]
  },
  {
   "cell_type": "markdown",
   "id": "ea35b478",
   "metadata": {},
   "source": [
    "# Pergunta 9"
   ]
  },
  {
   "cell_type": "code",
   "execution_count": null,
   "id": "8e86da8a",
   "metadata": {},
   "outputs": [],
   "source": [
    "df9 = df8.withColumn(\n",
    "    \"qa_engine\",\n",
    "    when(\n",
    "            (\n",
    "                (col('engine').isNull()) |\n",
    "                (col('engine') == \"NA\")\n",
    "            ), \"M\"\n",
    "        )\n",
    "    .when(\n",
    "            (\n",
    "                (~col('engine').rlike(\"Turbo-fan\")) &\n",
    "                (~col('engine').rlike(\"Turbo-jet\")) &\n",
    "                (~col('engine').rlike(\"Turbo-prop\")) &\n",
    "                (~col('engine').rlike(\"Turbo-shaft\")) &\n",
    "                (~col('engine').rlike(\"4 CycleY\"))\n",
    "            ), \"C\"\n",
    "         )\n",
    ")"
   ]
  },
  {
   "cell_type": "markdown",
   "id": "25f54d22",
   "metadata": {},
   "source": [
    "# Pergunta 9 revisada\n",
    "- Mesmo código formatação diferente"
   ]
  },
  {
   "cell_type": "code",
   "execution_count": 48,
   "id": "7d3b3c59",
   "metadata": {},
   "outputs": [
    {
     "name": "stdout",
     "output_type": "stream",
     "text": [
      "-RECORD 0-------------------------------\n",
      " tailnum         | N102UW               \n",
      " year            | 1998                 \n",
      " type            | Fixed wing multi ... \n",
      " manufacturer    | AIRBUS INDUSTRIE     \n",
      " model           | A320-214             \n",
      " engines         | 2                    \n",
      " seats           | 182                  \n",
      " speed           | null                 \n",
      " engine          | Turbo-fan            \n",
      " qa_year         | null                 \n",
      " qa_type         | null                 \n",
      " qa_manufacturer | null                 \n",
      " qa_model        | null                 \n",
      " qa_engines      | I                    \n",
      " qa_seats        | I                    \n",
      " qa_speed        | M                    \n",
      " qa_engine       | null                 \n",
      "-RECORD 1-------------------------------\n",
      " tailnum         | N103US               \n",
      " year            | 1999                 \n",
      " type            | Fixed wing multi ... \n",
      " manufacturer    | AIRBUS INDUSTRIE     \n",
      " model           | A320-214             \n",
      " engines         | 2                    \n",
      " seats           | 182                  \n",
      " speed           | null                 \n",
      " engine          | Turbo-fan            \n",
      " qa_year         | null                 \n",
      " qa_type         | null                 \n",
      " qa_manufacturer | null                 \n",
      " qa_model        | null                 \n",
      " qa_engines      | I                    \n",
      " qa_seats        | I                    \n",
      " qa_speed        | M                    \n",
      " qa_engine       | null                 \n",
      "only showing top 2 rows\n",
      "\n"
     ]
    }
   ],
   "source": [
    "nome = [\"Turbo-fan\",\"Turbo-jet\",\"Turbo-prop\",\"Turbo-shaft\",\"4 Cycle\"]\n",
    "\n",
    "df_planes = df_planes.withColumn('qa_engine', (\n",
    "        F.when(check_empty_column('engine'), 'M')\n",
    "         .when(~F.col('engine').isin(nome), 'C')))\n",
    "\n",
    "df_planes.show(2,vertical=True)"
   ]
  },
  {
   "cell_type": "code",
   "execution_count": null,
   "id": "60813fb1",
   "metadata": {},
   "outputs": [],
   "source": []
  },
  {
   "cell_type": "markdown",
   "id": "ee96b594",
   "metadata": {},
   "source": [
    "# Teste do resultado"
   ]
  },
  {
   "cell_type": "code",
   "execution_count": 49,
   "id": "7c4e083b",
   "metadata": {},
   "outputs": [
    {
     "name": "stdout",
     "output_type": "stream",
     "text": [
      "+---------+-----+\n",
      "|qa_engine|count|\n",
      "+---------+-----+\n",
      "|     null| 2618|\n",
      "|        C|   10|\n",
      "+---------+-----+\n",
      "\n"
     ]
    }
   ],
   "source": [
    "df_planes.groupBy('qa_engine').count().show()"
   ]
  },
  {
   "cell_type": "markdown",
   "id": "814cc72f",
   "metadata": {},
   "source": [
    "# Salvando o arquivo em parquet com as colunas qa e informações importantes"
   ]
  },
  {
   "cell_type": "code",
   "execution_count": null,
   "id": "016e34e2",
   "metadata": {},
   "outputs": [],
   "source": [
    "df9.select(\n",
    "    col('tailnum'), \n",
    "    col('qa_tailnum'),\n",
    "    col('qa_year'), \n",
    "    col('qa_type'), \n",
    "    col('qa_manufacturer'), \n",
    "    col('qa_model'), \n",
    "    col('qa_engines'), \n",
    "    col('qa_seats'), \n",
    "    col('qa_speed'), \n",
    "    col('qa_engine')\n",
    "\n",
    ").write.parquet(\n",
    "    path = 'C:/Users/coskata/Downloads/Datasets/parquet/planes.parquet',\n",
    "    mode = 'overwrite'\n",
    ")"
   ]
  },
  {
   "cell_type": "markdown",
   "id": "befba936",
   "metadata": {},
   "source": [
    "# Salvando de outra maneira sem passar todas as colunas\n"
   ]
  },
  {
   "cell_type": "code",
   "execution_count": null,
   "id": "9d555e7f",
   "metadata": {},
   "outputs": [],
   "source": [
    "(df_airports.select(df_airports.colRegex(\"`^qa_.*`\"))\n",
    "            .repartition(1) # coalesce\n",
    "            .write.format(\"parquet\")\n",
    "            .mode('overwrite')\n",
    "            .option(\"header\", \"true\")\n",
    "            .save(\"Datasets/airports_qa.parquet\"))"
   ]
  },
  {
   "cell_type": "markdown",
   "id": "8a846754",
   "metadata": {},
   "source": [
    "# Salvando o arquivo em parquet"
   ]
  },
  {
   "cell_type": "code",
   "execution_count": null,
   "id": "1d68e894",
   "metadata": {},
   "outputs": [],
   "source": [
    "df9.write.parquet(\n",
    "path = 'C:/Users/coskata/Downloads/Datasets/parquet/planes.parquet',\n",
    "mode = 'overwrite'\n",
    ")"
   ]
  },
  {
   "cell_type": "markdown",
   "id": "d6f6c569",
   "metadata": {},
   "source": [
    "# Teste do resultado"
   ]
  },
  {
   "cell_type": "code",
   "execution_count": null,
   "id": "c0bd2f0b",
   "metadata": {},
   "outputs": [],
   "source": [
    "path = 'C:/Users/coskata/Downloads/Datasets/parquet/planes.parquet'\n",
    "planes_parquet = spark.read.parquet(path)"
   ]
  },
  {
   "cell_type": "code",
   "execution_count": null,
   "id": "0aba9685",
   "metadata": {},
   "outputs": [],
   "source": [
    "planes_parquet.toPandas()"
   ]
  },
  {
   "cell_type": "markdown",
   "id": "2be33d20",
   "metadata": {},
   "source": [
    "# Airports"
   ]
  },
  {
   "cell_type": "markdown",
   "id": "876aae7e",
   "metadata": {},
   "source": [
    "# Pergunta 1"
   ]
  },
  {
   "cell_type": "code",
   "execution_count": 56,
   "id": "255a7684",
   "metadata": {
    "collapsed": true
   },
   "outputs": [
    {
     "ename": "AnalysisException",
     "evalue": "cannot resolve 'year' given input columns: [alt, dst, faa, lat, lon, name, qa_alt, qa_dst, qa_faa, qa_lat, qa_lon, qa_name, qa_tz, tz];\n'Project [faa#0, name#1, lat#2, lon#3, alt#4, tz#5, dst#6, qa_faa#64, qa_name#97, qa_lat#188, qa_lon#285, qa_alt#376, qa_tz#487, qa_dst#590, CASE WHEN (isnull('year) OR ('year = NA)) THEN MY WHEN (isnull('month) OR ('month = NA)) THEN MM WHEN (isnull('day) OR ('day = NA)) THEN MD WHEN ('year < 1950) THEN IY WHEN NOT (('month >= 1) AND ('month <= 12)) THEN IM WHEN (NOT (('day >= 1) AND ('day <= 31)) OR (('month = 2) AND NOT (('day >= 1) AND ('day <= 29)))) THEN ID END AS qa_year_month_day#1628]\n+- Project [faa#0, name#1, lat#2, lon#3, alt#4, tz#5, dst#6, qa_faa#64, qa_name#97, qa_lat#188, qa_lon#285, qa_alt#376, qa_tz#487, CASE WHEN ((isnull(dst#6) OR (dst#6 = )) OR RLIKE(dst#6, [\\t ]+$)) THEN M WHEN RLIKE(dst#6, [0-9]+) THEN N WHEN NOT dst#6 IN (E,A,S,O,Z,N,U) THEN C END AS qa_dst#590]\n   +- Project [faa#0, name#1, lat#2, lon#3, alt#4, tz#5, dst#6, qa_faa#64, qa_name#97, qa_lat#188, qa_lon#285, qa_alt#376, CASE WHEN ((isnull(tz#5) OR (tz#5 = cast( as int))) OR RLIKE(cast(tz#5 as string), [\\t ]+$)) THEN M WHEN NOT RLIKE(cast(tz#5 as string), [0-9]+$) THEN A WHEN NOT ((tz#5 >= -11) AND (tz#5 <= 14)) THEN I END AS qa_tz#487]\n      +- Project [faa#0, name#1, lat#2, lon#3, alt#4, tz#5, dst#6, qa_faa#64, qa_name#97, qa_lat#188, qa_lon#285, CASE WHEN ((isnull(alt#4) OR (alt#4 = cast( as int))) OR RLIKE(cast(alt#4 as string), [\\t ]+$)) THEN M WHEN NOT RLIKE(cast(alt#4 as string), [0-9]+) THEN A WHEN (alt#4 < 0) THEN I END AS qa_alt#376]\n         +- Project [faa#0, name#1, lat#2, lon#3, alt#4, tz#5, dst#6, qa_faa#64, qa_name#97, qa_lat#188, CASE WHEN ((isnull(lon#3) OR (lon#3 = cast( as float))) OR RLIKE(cast(lon#3 as string), [\\t ]+$)) THEN M WHEN NOT RLIKE(cast(lon#3 as string), [0-9]+\\.[0-9]+) THEN A WHEN NOT ((lon#3 >= cast(-180 as float)) AND (lon#3 <= cast(180 as float))) THEN I END AS qa_lon#285]\n            +- Project [faa#0, name#1, lat#2, lon#3, alt#4, tz#5, dst#6, qa_faa#64, qa_name#97, CASE WHEN ((isnull(lat#2) OR (lat#2 = cast( as float))) OR RLIKE(cast(lat#2 as string), [\\t ]+$)) THEN M WHEN RLIKE(cast(lat#2 as string), [a-zA-Z]+) THEN A WHEN ((lat#2 >= cast(-180 as float)) AND (lat#2 <= cast(180 as float))) THEN I END AS qa_lat#188]\n               +- Project [faa#0, name#1, lat#2, lon#3, alt#4, tz#5, dst#6, qa_faa#64, CASE WHEN ((isnull(name#1) OR (name#1 = )) OR RLIKE(name#1, [\\t ]+$)) THEN M END AS qa_name#97]\n                  +- Project [faa#0, name#1, lat#2, lon#3, alt#4, tz#5, dst#6, CASE WHEN ((isnull(faa#0) OR (faa#0 = )) OR RLIKE(faa#0, [\\t ]+$)) THEN M WHEN (NOT ((length(faa#0) >= 3) AND (length(faa#0) <= 5)) OR NOT RLIKE(faa#0, [0-9a-zA-Z]+)) THEN F END AS qa_faa#64]\n                     +- Relation [faa#0,name#1,lat#2,lon#3,alt#4,tz#5,dst#6] csv\n",
     "output_type": "error",
     "traceback": [
      "\u001b[1;31m---------------------------------------------------------------------------\u001b[0m",
      "\u001b[1;31mAnalysisException\u001b[0m                         Traceback (most recent call last)",
      "\u001b[1;32m~\\AppData\\Local\\Temp/ipykernel_19940/4051254819.py\u001b[0m in \u001b[0;36m<module>\u001b[1;34m\u001b[0m\n\u001b[1;32m----> 1\u001b[1;33m df_airports = df_airports.withColumn(\n\u001b[0m\u001b[0;32m      2\u001b[0m     \u001b[1;34m\"qa_year_month_day\"\u001b[0m\u001b[1;33m,\u001b[0m\u001b[1;33m\u001b[0m\u001b[1;33m\u001b[0m\u001b[0m\n\u001b[0;32m      3\u001b[0m     when(\n\u001b[0;32m      4\u001b[0m             (\n\u001b[0;32m      5\u001b[0m                 \u001b[1;33m(\u001b[0m\u001b[0mcol\u001b[0m\u001b[1;33m(\u001b[0m\u001b[1;34m'year'\u001b[0m\u001b[1;33m)\u001b[0m\u001b[1;33m.\u001b[0m\u001b[0misNull\u001b[0m\u001b[1;33m(\u001b[0m\u001b[1;33m)\u001b[0m\u001b[1;33m)\u001b[0m \u001b[1;33m|\u001b[0m\u001b[1;33m\u001b[0m\u001b[1;33m\u001b[0m\u001b[0m\n",
      "\u001b[1;32mC:\\spark-3.2.1-bin-hadoop2.7\\python\\pyspark\\sql\\dataframe.py\u001b[0m in \u001b[0;36mwithColumn\u001b[1;34m(self, colName, col)\u001b[0m\n\u001b[0;32m   2476\u001b[0m         \u001b[1;32mif\u001b[0m \u001b[1;32mnot\u001b[0m \u001b[0misinstance\u001b[0m\u001b[1;33m(\u001b[0m\u001b[0mcol\u001b[0m\u001b[1;33m,\u001b[0m \u001b[0mColumn\u001b[0m\u001b[1;33m)\u001b[0m\u001b[1;33m:\u001b[0m\u001b[1;33m\u001b[0m\u001b[1;33m\u001b[0m\u001b[0m\n\u001b[0;32m   2477\u001b[0m             \u001b[1;32mraise\u001b[0m \u001b[0mTypeError\u001b[0m\u001b[1;33m(\u001b[0m\u001b[1;34m\"col should be Column\"\u001b[0m\u001b[1;33m)\u001b[0m\u001b[1;33m\u001b[0m\u001b[1;33m\u001b[0m\u001b[0m\n\u001b[1;32m-> 2478\u001b[1;33m         \u001b[1;32mreturn\u001b[0m \u001b[0mDataFrame\u001b[0m\u001b[1;33m(\u001b[0m\u001b[0mself\u001b[0m\u001b[1;33m.\u001b[0m\u001b[0m_jdf\u001b[0m\u001b[1;33m.\u001b[0m\u001b[0mwithColumn\u001b[0m\u001b[1;33m(\u001b[0m\u001b[0mcolName\u001b[0m\u001b[1;33m,\u001b[0m \u001b[0mcol\u001b[0m\u001b[1;33m.\u001b[0m\u001b[0m_jc\u001b[0m\u001b[1;33m)\u001b[0m\u001b[1;33m,\u001b[0m \u001b[0mself\u001b[0m\u001b[1;33m.\u001b[0m\u001b[0msql_ctx\u001b[0m\u001b[1;33m)\u001b[0m\u001b[1;33m\u001b[0m\u001b[1;33m\u001b[0m\u001b[0m\n\u001b[0m\u001b[0;32m   2479\u001b[0m \u001b[1;33m\u001b[0m\u001b[0m\n\u001b[0;32m   2480\u001b[0m     \u001b[1;32mdef\u001b[0m \u001b[0mwithColumnRenamed\u001b[0m\u001b[1;33m(\u001b[0m\u001b[0mself\u001b[0m\u001b[1;33m,\u001b[0m \u001b[0mexisting\u001b[0m\u001b[1;33m,\u001b[0m \u001b[0mnew\u001b[0m\u001b[1;33m)\u001b[0m\u001b[1;33m:\u001b[0m\u001b[1;33m\u001b[0m\u001b[1;33m\u001b[0m\u001b[0m\n",
      "\u001b[1;32mC:\\spark-3.2.1-bin-hadoop2.7\\python\\lib\\py4j-0.10.9.3-src.zip\\py4j\\java_gateway.py\u001b[0m in \u001b[0;36m__call__\u001b[1;34m(self, *args)\u001b[0m\n\u001b[0;32m   1319\u001b[0m \u001b[1;33m\u001b[0m\u001b[0m\n\u001b[0;32m   1320\u001b[0m         \u001b[0manswer\u001b[0m \u001b[1;33m=\u001b[0m \u001b[0mself\u001b[0m\u001b[1;33m.\u001b[0m\u001b[0mgateway_client\u001b[0m\u001b[1;33m.\u001b[0m\u001b[0msend_command\u001b[0m\u001b[1;33m(\u001b[0m\u001b[0mcommand\u001b[0m\u001b[1;33m)\u001b[0m\u001b[1;33m\u001b[0m\u001b[1;33m\u001b[0m\u001b[0m\n\u001b[1;32m-> 1321\u001b[1;33m         return_value = get_return_value(\n\u001b[0m\u001b[0;32m   1322\u001b[0m             answer, self.gateway_client, self.target_id, self.name)\n\u001b[0;32m   1323\u001b[0m \u001b[1;33m\u001b[0m\u001b[0m\n",
      "\u001b[1;32mC:\\spark-3.2.1-bin-hadoop2.7\\python\\pyspark\\sql\\utils.py\u001b[0m in \u001b[0;36mdeco\u001b[1;34m(*a, **kw)\u001b[0m\n\u001b[0;32m    115\u001b[0m                 \u001b[1;31m# Hide where the exception came from that shows a non-Pythonic\u001b[0m\u001b[1;33m\u001b[0m\u001b[1;33m\u001b[0m\u001b[0m\n\u001b[0;32m    116\u001b[0m                 \u001b[1;31m# JVM exception message.\u001b[0m\u001b[1;33m\u001b[0m\u001b[1;33m\u001b[0m\u001b[0m\n\u001b[1;32m--> 117\u001b[1;33m                 \u001b[1;32mraise\u001b[0m \u001b[0mconverted\u001b[0m \u001b[1;32mfrom\u001b[0m \u001b[1;32mNone\u001b[0m\u001b[1;33m\u001b[0m\u001b[1;33m\u001b[0m\u001b[0m\n\u001b[0m\u001b[0;32m    118\u001b[0m             \u001b[1;32melse\u001b[0m\u001b[1;33m:\u001b[0m\u001b[1;33m\u001b[0m\u001b[1;33m\u001b[0m\u001b[0m\n\u001b[0;32m    119\u001b[0m                 \u001b[1;32mraise\u001b[0m\u001b[1;33m\u001b[0m\u001b[1;33m\u001b[0m\u001b[0m\n",
      "\u001b[1;31mAnalysisException\u001b[0m: cannot resolve 'year' given input columns: [alt, dst, faa, lat, lon, name, qa_alt, qa_dst, qa_faa, qa_lat, qa_lon, qa_name, qa_tz, tz];\n'Project [faa#0, name#1, lat#2, lon#3, alt#4, tz#5, dst#6, qa_faa#64, qa_name#97, qa_lat#188, qa_lon#285, qa_alt#376, qa_tz#487, qa_dst#590, CASE WHEN (isnull('year) OR ('year = NA)) THEN MY WHEN (isnull('month) OR ('month = NA)) THEN MM WHEN (isnull('day) OR ('day = NA)) THEN MD WHEN ('year < 1950) THEN IY WHEN NOT (('month >= 1) AND ('month <= 12)) THEN IM WHEN (NOT (('day >= 1) AND ('day <= 31)) OR (('month = 2) AND NOT (('day >= 1) AND ('day <= 29)))) THEN ID END AS qa_year_month_day#1628]\n+- Project [faa#0, name#1, lat#2, lon#3, alt#4, tz#5, dst#6, qa_faa#64, qa_name#97, qa_lat#188, qa_lon#285, qa_alt#376, qa_tz#487, CASE WHEN ((isnull(dst#6) OR (dst#6 = )) OR RLIKE(dst#6, [\\t ]+$)) THEN M WHEN RLIKE(dst#6, [0-9]+) THEN N WHEN NOT dst#6 IN (E,A,S,O,Z,N,U) THEN C END AS qa_dst#590]\n   +- Project [faa#0, name#1, lat#2, lon#3, alt#4, tz#5, dst#6, qa_faa#64, qa_name#97, qa_lat#188, qa_lon#285, qa_alt#376, CASE WHEN ((isnull(tz#5) OR (tz#5 = cast( as int))) OR RLIKE(cast(tz#5 as string), [\\t ]+$)) THEN M WHEN NOT RLIKE(cast(tz#5 as string), [0-9]+$) THEN A WHEN NOT ((tz#5 >= -11) AND (tz#5 <= 14)) THEN I END AS qa_tz#487]\n      +- Project [faa#0, name#1, lat#2, lon#3, alt#4, tz#5, dst#6, qa_faa#64, qa_name#97, qa_lat#188, qa_lon#285, CASE WHEN ((isnull(alt#4) OR (alt#4 = cast( as int))) OR RLIKE(cast(alt#4 as string), [\\t ]+$)) THEN M WHEN NOT RLIKE(cast(alt#4 as string), [0-9]+) THEN A WHEN (alt#4 < 0) THEN I END AS qa_alt#376]\n         +- Project [faa#0, name#1, lat#2, lon#3, alt#4, tz#5, dst#6, qa_faa#64, qa_name#97, qa_lat#188, CASE WHEN ((isnull(lon#3) OR (lon#3 = cast( as float))) OR RLIKE(cast(lon#3 as string), [\\t ]+$)) THEN M WHEN NOT RLIKE(cast(lon#3 as string), [0-9]+\\.[0-9]+) THEN A WHEN NOT ((lon#3 >= cast(-180 as float)) AND (lon#3 <= cast(180 as float))) THEN I END AS qa_lon#285]\n            +- Project [faa#0, name#1, lat#2, lon#3, alt#4, tz#5, dst#6, qa_faa#64, qa_name#97, CASE WHEN ((isnull(lat#2) OR (lat#2 = cast( as float))) OR RLIKE(cast(lat#2 as string), [\\t ]+$)) THEN M WHEN RLIKE(cast(lat#2 as string), [a-zA-Z]+) THEN A WHEN ((lat#2 >= cast(-180 as float)) AND (lat#2 <= cast(180 as float))) THEN I END AS qa_lat#188]\n               +- Project [faa#0, name#1, lat#2, lon#3, alt#4, tz#5, dst#6, qa_faa#64, CASE WHEN ((isnull(name#1) OR (name#1 = )) OR RLIKE(name#1, [\\t ]+$)) THEN M END AS qa_name#97]\n                  +- Project [faa#0, name#1, lat#2, lon#3, alt#4, tz#5, dst#6, CASE WHEN ((isnull(faa#0) OR (faa#0 = )) OR RLIKE(faa#0, [\\t ]+$)) THEN M WHEN (NOT ((length(faa#0) >= 3) AND (length(faa#0) <= 5)) OR NOT RLIKE(faa#0, [0-9a-zA-Z]+)) THEN F END AS qa_faa#64]\n                     +- Relation [faa#0,name#1,lat#2,lon#3,alt#4,tz#5,dst#6] csv\n"
     ]
    }
   ],
   "source": [
    "df1 = df_airports.withColumn(\n",
    "    \"qa_year_month_day\", \n",
    "    when(\n",
    "            (\n",
    "                (col('year').isNull()) |\n",
    "                (col('year') == \"NA\")\n",
    "            ), \"MY\"\n",
    "        )\n",
    "    .when(\n",
    "            (\n",
    "                (col('month').isNull()) |\n",
    "                (col('month') == \"NA\")\n",
    "            ), \"MM\"\n",
    "        )\n",
    "    .when(\n",
    "            (\n",
    "                (col('day').isNull()) |\n",
    "                (col('day') == \"NA\")\n",
    "            ), \"MD\"\n",
    "        )\n",
    "    .when(col(\"year\") < 1950, \"IY\")\n",
    "    .when(~col(\"month\").between(1,12), \"IM\")\n",
    "    .when(\n",
    "            (~col('day').between(1,31)) | \n",
    "            (col(\"month\") == 2) & \n",
    "            (~col('day').between(1,29)), \"ID\"\n",
    "        )\n",
    "   )"
   ]
  },
  {
   "cell_type": "markdown",
   "id": "77e09490",
   "metadata": {},
   "source": [
    "# Pergunta 1 revisada\n",
    "-- mesmo código, formatado de forma diferente"
   ]
  },
  {
   "cell_type": "code",
   "execution_count": 59,
   "id": "a7eb6049",
   "metadata": {},
   "outputs": [],
   "source": [
    "df_flights = df_flights.withColumn('qa_year_month_day',(\n",
    "        F.when(check_empty_column('year'),'MY')\n",
    "         .when(check_empty_column('month'),'MM')\n",
    "         .when(check_empty_column('day'),'MD')\n",
    "         .when((F.col('year') > 1950),'IY')\n",
    "         .when((F.col('month').between(1,12)),'IM')\n",
    "         .when((F.col('day').between(1,31)) &(F.col('day') =='2'),'ID')\n",
    "         ))"
   ]
  },
  {
   "cell_type": "code",
   "execution_count": null,
   "id": "79b5a554",
   "metadata": {},
   "outputs": [],
   "source": []
  },
  {
   "cell_type": "code",
   "execution_count": null,
   "id": "4c452290",
   "metadata": {},
   "outputs": [],
   "source": []
  },
  {
   "cell_type": "markdown",
   "id": "598eed4d",
   "metadata": {},
   "source": [
    "# Teste do resultado"
   ]
  },
  {
   "cell_type": "code",
   "execution_count": null,
   "id": "d5142e14",
   "metadata": {},
   "outputs": [],
   "source": []
  },
  {
   "cell_type": "code",
   "execution_count": null,
   "id": "6004cda4",
   "metadata": {},
   "outputs": [],
   "source": []
  },
  {
   "cell_type": "code",
   "execution_count": 60,
   "id": "eeaeadd0",
   "metadata": {},
   "outputs": [
    {
     "name": "stdout",
     "output_type": "stream",
     "text": [
      "+-----------------+-----+\n",
      "|qa_year_month_day|count|\n",
      "+-----------------+-----+\n",
      "|               IY|10000|\n",
      "+-----------------+-----+\n",
      "\n"
     ]
    }
   ],
   "source": [
    "df_flights.groupBy('qa_year_month_day').count().show()"
   ]
  },
  {
   "cell_type": "markdown",
   "id": "4a730ee8",
   "metadata": {},
   "source": [
    "# Pergunta 2"
   ]
  },
  {
   "cell_type": "code",
   "execution_count": null,
   "id": "8ad542cd",
   "metadata": {},
   "outputs": [],
   "source": [
    "df2 = df1.withColumn(\n",
    "    \"qa_hour_minute\",\n",
    "    when(\n",
    "            (\n",
    "                (col('hour').isNull()) |\n",
    "                (col('hour') == \"NA\")\n",
    "            ), \"MH\"\n",
    "        )\n",
    "    .when(\n",
    "            (\n",
    "                (col('minute').isNull()) |\n",
    "                (col('minute') == \"NA\")\n",
    "            ), \"MM\"\n",
    "        )\n",
    "    .when(~col('hour').between(0,24), \"IH\")\n",
    "    .when(~col('minute').between(0, 59), \"IM\")\n",
    ")"
   ]
  },
  {
   "cell_type": "markdown",
   "id": "62de6433",
   "metadata": {},
   "source": [
    "# Teste do resultado"
   ]
  },
  {
   "cell_type": "code",
   "execution_count": null,
   "id": "e989472f",
   "metadata": {},
   "outputs": [],
   "source": [
    "df2.groupBy('qa_hour_minute').count().show()"
   ]
  },
  {
   "cell_type": "markdown",
   "id": "aabf1d53",
   "metadata": {},
   "source": [
    "# Pergunta 3"
   ]
  },
  {
   "cell_type": "code",
   "execution_count": null,
   "id": "9be0cb5d",
   "metadata": {},
   "outputs": [],
   "source": [
    "# Usando dataframe\n",
    "df3 = df2.withColumn('qa_dep_arr_time', (\n",
    "        F.when(check_empty_column('dep_time'), 'MD')\n",
    "         .when(check_empty_column('arr_time'), 'MA')\n",
    "         .when(F.col('dep_time').rlike(REGEX_TIME_FMT), 'FD')\n",
    "         .when(F.col('arr_time').rlike(REGEX_TIME_FMT), 'FA')))"
   ]
  },
  {
   "cell_type": "markdown",
   "id": "c2f2b28b",
   "metadata": {},
   "source": [
    "# Teste do resultado"
   ]
  },
  {
   "cell_type": "code",
   "execution_count": null,
   "id": "1e0b09a2",
   "metadata": {},
   "outputs": [],
   "source": [
    "df3.groupBy('qa_dep_arr_time').count().show()"
   ]
  },
  {
   "cell_type": "markdown",
   "id": "5a8f563f",
   "metadata": {},
   "source": [
    "# Pergunta 4"
   ]
  },
  {
   "cell_type": "code",
   "execution_count": null,
   "id": "d5175c95",
   "metadata": {},
   "outputs": [],
   "source": [
    "df4 = df3.withColumn(\n",
    "    \"qa_dep_arr_delay\",\n",
    "    when(\n",
    "            (\n",
    "                (col('dep_delay').isNull()) |\n",
    "                (col('dep_delay') == \"NA\")\n",
    "            ), \"MD\"\n",
    "        )\n",
    "    .when(\n",
    "            (\n",
    "                (col('arr_delay').isNull()) |\n",
    "                (col('arr_delay') == \"NA\")\n",
    "            ), \"MA\"\n",
    "        )\n",
    ")"
   ]
  },
  {
   "cell_type": "markdown",
   "id": "1187ee41",
   "metadata": {},
   "source": [
    "# Pergunta 4 revisada\n",
    "- mesmo código formatacao diferente"
   ]
  },
  {
   "cell_type": "code",
   "execution_count": 63,
   "id": "446d7d16",
   "metadata": {},
   "outputs": [],
   "source": [
    "df_flights = df_flights.withColumn('qa_dep_arr_delay', (\n",
    "        F.when((F.col('dep_delay').isNull()) |\n",
    "               (F.col('dep_delay') == ''), 'MD')\n",
    "        .when((F.col('arr_delay').isNull())  |\n",
    "              (F.col('arr_delay') == ''), 'MA')\n",
    "        \n",
    "))"
   ]
  },
  {
   "cell_type": "code",
   "execution_count": null,
   "id": "eaa65b79",
   "metadata": {},
   "outputs": [],
   "source": []
  },
  {
   "cell_type": "markdown",
   "id": "1a12c04d",
   "metadata": {},
   "source": [
    "# Teste do resultado"
   ]
  },
  {
   "cell_type": "code",
   "execution_count": 64,
   "id": "29c84e0e",
   "metadata": {},
   "outputs": [
    {
     "name": "stdout",
     "output_type": "stream",
     "text": [
      "+----------------+-----+\n",
      "|qa_dep_arr_delay|count|\n",
      "+----------------+-----+\n",
      "|            null| 9925|\n",
      "|              MD|   48|\n",
      "|              MA|   27|\n",
      "+----------------+-----+\n",
      "\n"
     ]
    }
   ],
   "source": [
    "df_flights.groupBy('qa_dep_arr_delay').count().show()"
   ]
  },
  {
   "cell_type": "markdown",
   "id": "8e27e6c2",
   "metadata": {},
   "source": [
    "# Pergunta 5"
   ]
  },
  {
   "cell_type": "code",
   "execution_count": null,
   "id": "7b9bd6b8",
   "metadata": {},
   "outputs": [],
   "source": [
    "df5 = df4.withColumn(\n",
    "    \"qa_carrier\", \n",
    "    when(\n",
    "            (\n",
    "                (col('carrier').isNull()) |\n",
    "                (col('carrier') == \"NA\")\n",
    "            ), \"M\"\n",
    "        )\n",
    "    .when(~col('carrier').rlike(\"{2}(^[0-9][A-Z]|^[A-Z][0-9])$\"), \"F\")\n",
    ")"
   ]
  },
  {
   "cell_type": "markdown",
   "id": "791e1c84",
   "metadata": {},
   "source": [
    "# Teste do resultado"
   ]
  },
  {
   "cell_type": "code",
   "execution_count": null,
   "id": "1c183b61",
   "metadata": {},
   "outputs": [],
   "source": [
    "df5.groupBy('qa_carrier').count().show()"
   ]
  },
  {
   "cell_type": "markdown",
   "id": "dec19a7f",
   "metadata": {},
   "source": [
    "# Pergunta 6"
   ]
  },
  {
   "cell_type": "code",
   "execution_count": null,
   "id": "7e28e31a",
   "metadata": {},
   "outputs": [],
   "source": [
    "df6 = df5.withColumn('qa_tailnum', (\n",
    "        F.when(check_empty_column('tailnum'), 'M')\n",
    "         .when(~F.length(F.col('tailnum')).between(5, 6), 'S')\n",
    "         .when(~F.col('tailnum').startswith('N'), 'FN')\n",
    "         .when( F.col('tailnum').rlike(REGEX_NNUMBER_INVALID), 'FE')\n",
    "         .when(~F.col('tailnum').rlike(REGEX_NNUMBER), 'F')))"
   ]
  },
  {
   "cell_type": "markdown",
   "id": "21d33f25",
   "metadata": {},
   "source": [
    "# Teste do resultado"
   ]
  },
  {
   "cell_type": "code",
   "execution_count": null,
   "id": "2d06ac70",
   "metadata": {},
   "outputs": [],
   "source": [
    "df6.groupBy('qa_tailnum').count().show()"
   ]
  },
  {
   "cell_type": "markdown",
   "id": "135c94db",
   "metadata": {},
   "source": [
    "# Pergunta 7"
   ]
  },
  {
   "cell_type": "code",
   "execution_count": null,
   "id": "0ea5bffc",
   "metadata": {},
   "outputs": [],
   "source": [
    "df7 = df6.withColumn(\n",
    "    \"qa_flight\", \n",
    "    when(\n",
    "            (\n",
    "                (col('flight').isNull()) |\n",
    "                (col('flight') == \"NA\")\n",
    "            ), \"M\"\n",
    "        )\n",
    "    .when(~col(\"flight\").rlike(\"[0-9]{4}$\"), \"F\")\n",
    ")"
   ]
  },
  {
   "cell_type": "markdown",
   "id": "6f3786aa",
   "metadata": {},
   "source": [
    "# Pergunta 7 Revisada\n",
    "- mesmo código formatacao diferente"
   ]
  },
  {
   "cell_type": "code",
   "execution_count": 65,
   "id": "28a7b2a9",
   "metadata": {},
   "outputs": [],
   "source": [
    "df_flights = df_flights.withColumn ('qa_flight',   (\n",
    "    F.when(\n",
    "         (F.col('flight').isNull()) | \n",
    "         (F.col('flight') == ''), 'M')\n",
    "     .when(\n",
    "         (~F.col('flight').rlike(\"[0-9]{4}\")),'F')\n",
    "    \n",
    "))"
   ]
  },
  {
   "cell_type": "code",
   "execution_count": null,
   "id": "586129e6",
   "metadata": {},
   "outputs": [],
   "source": []
  },
  {
   "cell_type": "markdown",
   "id": "d8db0803",
   "metadata": {},
   "source": [
    "# Teste do resultado"
   ]
  },
  {
   "cell_type": "code",
   "execution_count": 66,
   "id": "40431914",
   "metadata": {},
   "outputs": [
    {
     "name": "stdout",
     "output_type": "stream",
     "text": [
      "+---------+-----+\n",
      "|qa_flight|count|\n",
      "+---------+-----+\n",
      "|        F| 6158|\n",
      "|     null| 3842|\n",
      "+---------+-----+\n",
      "\n"
     ]
    }
   ],
   "source": [
    "df_flights.groupBy(col('qa_flight')).count().show()"
   ]
  },
  {
   "cell_type": "markdown",
   "id": "c1444527",
   "metadata": {},
   "source": [
    "# Pergunta 8"
   ]
  },
  {
   "cell_type": "code",
   "execution_count": null,
   "id": "4e4aa4be",
   "metadata": {},
   "outputs": [],
   "source": [
    "df8 = df7.withColumn(\n",
    "    \"qa_origin_dest\", \n",
    "    when(\n",
    "            (\n",
    "                (col('origin').isNull()) |\n",
    "                (col('origin') == \"NA\")\n",
    "            ), \"MO\"\n",
    "        )\n",
    "    .when(\n",
    "            (\n",
    "                (col('dest').isNull()) |\n",
    "                (col('dest') == \"NA\")\n",
    "            ), \"MD\"\n",
    "        )\n",
    "    .when(\n",
    "            (\n",
    "                (col('origin').rlike(\"^[A-Z]*\")) |\n",
    "                (col('origin').rlike(\"^[0-9]*\"))\n",
    "            ), \"FO\"\n",
    "        )\n",
    "    .when(\n",
    "            (\n",
    "                (col('dest').rlike(\"^[A-Z]*\")) |\n",
    "                (col('dest').rlike(\"^[0-9]*\"))\n",
    "            ), \"FD\"\n",
    "        )\n",
    ")"
   ]
  },
  {
   "cell_type": "markdown",
   "id": "e8ea382c",
   "metadata": {},
   "source": [
    "### pergunta 8 revisada\n",
    "- mesmo código formatacao diferente"
   ]
  },
  {
   "cell_type": "code",
   "execution_count": null,
   "id": "b9ab41a7",
   "metadata": {},
   "outputs": [],
   "source": [
    "df_flights = df_flights.withColumn('qa_origin_dest', (\n",
    "    F.when((F.col('origin').isNull()) | (F.col('origin') == ''), 'MO')\n",
    "     .when((F.col('dest').isNull())| (F.col('dest') == ''), 'MD')\n",
    "     .when((F.col('origin').rlike(\"[0-9a-zA-Z]{3}\")),'FO')                            \n",
    "     .when((F.col('dest').rlike(\"[0-9a-zA-Z]{3}\")),'FD')\n",
    "    \n",
    "))"
   ]
  },
  {
   "cell_type": "markdown",
   "id": "f3f6fb68",
   "metadata": {},
   "source": [
    "# Teste do resultado"
   ]
  },
  {
   "cell_type": "code",
   "execution_count": null,
   "id": "a015755e",
   "metadata": {},
   "outputs": [],
   "source": [
    "df8.groupBy('qa_origin_dest').count().show()"
   ]
  },
  {
   "cell_type": "markdown",
   "id": "abd0a9a6",
   "metadata": {},
   "source": [
    "# Pergunta 9"
   ]
  },
  {
   "cell_type": "code",
   "execution_count": null,
   "id": "c2703786",
   "metadata": {},
   "outputs": [],
   "source": [
    "df9 = df8.withColumn(\n",
    "    \"qa_air_time\", \n",
    "    when(\n",
    "            (\n",
    "                (col('air_time').isNull()) |\n",
    "                (col('air_time') == \"NA\")\n",
    "            ), \"M\"\n",
    "        )\n",
    "    .when(~col(\"air_time\").between(20,500), \"I\")\n",
    ")"
   ]
  },
  {
   "cell_type": "markdown",
   "id": "7155c9a5",
   "metadata": {},
   "source": [
    "# Teste do resultado"
   ]
  },
  {
   "cell_type": "code",
   "execution_count": null,
   "id": "6c193374",
   "metadata": {},
   "outputs": [],
   "source": [
    "df9.groupBy('qa_air_time').count().show()"
   ]
  },
  {
   "cell_type": "markdown",
   "id": "ae826251",
   "metadata": {},
   "source": [
    "# Pergunta 10"
   ]
  },
  {
   "cell_type": "code",
   "execution_count": null,
   "id": "7016f92b",
   "metadata": {},
   "outputs": [],
   "source": [
    "df10 = df9.withColumn(\n",
    "    \"qa_distance\", \n",
    "    when(\n",
    "            (\n",
    "                (col('distance').isNull()) |\n",
    "                (col('distance') == \"NA\")\n",
    "            ), \"M\"\n",
    "        )\n",
    "    .when(~col(\"distance\").between(50,3000), \"I\")\n",
    ")"
   ]
  },
  {
   "cell_type": "markdown",
   "id": "dd1c5ee1",
   "metadata": {},
   "source": [
    "# Teste do resultado"
   ]
  },
  {
   "cell_type": "code",
   "execution_count": null,
   "id": "4085f342",
   "metadata": {},
   "outputs": [],
   "source": [
    "df10.groupBy('qa_distance').count().show()"
   ]
  },
  {
   "cell_type": "markdown",
   "id": "c26e8d07",
   "metadata": {},
   "source": [
    "# Pergunta 11"
   ]
  },
  {
   "cell_type": "code",
   "execution_count": null,
   "id": "3052e2f5",
   "metadata": {},
   "outputs": [],
   "source": [
    "df11 = df10.withColumn('qa_distance_airtime', (\n",
    "        F.when(check_empty_column('distance'), 'M')\n",
    "         .when((F.col('air_time') >= F.col('distance') * 0.1 + 30), 'TL')\n",
    "         .when((F.col('air_time') <= F.col('distance') * 0.1 + 10), 'TS')\n",
    "         .otherwise('TR')))"
   ]
  },
  {
   "cell_type": "markdown",
   "id": "710d9045",
   "metadata": {},
   "source": [
    "# Teste do resultado"
   ]
  },
  {
   "cell_type": "code",
   "execution_count": null,
   "id": "c34cb6f9",
   "metadata": {},
   "outputs": [],
   "source": [
    "df11.groupBy('qa_distance_airtime').count().show()"
   ]
  },
  {
   "cell_type": "markdown",
   "id": "82513fca",
   "metadata": {},
   "source": [
    "# Salvando o arquivo em parquet com as colunas qa e informações importantes"
   ]
  },
  {
   "cell_type": "code",
   "execution_count": null,
   "id": "777209ef",
   "metadata": {},
   "outputs": [],
   "source": [
    "df11.select(\n",
    "    col('tailnum'), \n",
    "    col('flight'), \n",
    "    col('origin'), \n",
    "    col('dest'), \n",
    "    col('distance'), \n",
    "    col('qa_year_month_day'), \n",
    "    col('qa_hour_minute'), \n",
    "    col('qa_dep_arr_time'), \n",
    "    col('qa_dep_arr_delay'),\n",
    "    col('qa_carrier'), \n",
    "    col('qa_tailnum'), \n",
    "    col('qa_flight'), \n",
    "    col('qa_origin_dest'), \n",
    "    col('qa_air_time'), \n",
    "    col('qa_distance_airtime')\n",
    ").write.parquet(\n",
    "    path = 'C:/Users/coskata/Downloads/Datasets/parquet/flights.parquet',\n",
    "    mode = 'overwrite'\n",
    ")"
   ]
  },
  {
   "cell_type": "markdown",
   "id": "492d149e",
   "metadata": {},
   "source": [
    "# Salvando o arquivo em parquet"
   ]
  },
  {
   "cell_type": "code",
   "execution_count": null,
   "id": "4e6c6f83",
   "metadata": {},
   "outputs": [],
   "source": [
    "df11.write.parquet(\n",
    "path = 'C:/Users/coskata/Downloads/Datasets/parquet/flights.parquet',\n",
    "mode = 'overwrite'\n",
    ")"
   ]
  },
  {
   "cell_type": "markdown",
   "id": "d4e578e6",
   "metadata": {},
   "source": [
    "# Teste do resultado"
   ]
  },
  {
   "cell_type": "code",
   "execution_count": null,
   "id": "ee35f662",
   "metadata": {},
   "outputs": [],
   "source": [
    "path = 'C:/Users/coskata/Downloads/Datasets/parquet/flights.parquet'\n",
    "flights_parquet = spark.read.parquet(path)"
   ]
  },
  {
   "cell_type": "code",
   "execution_count": null,
   "id": "002dc37b",
   "metadata": {},
   "outputs": [],
   "source": [
    "flights_parquet.toPandas()"
   ]
  }
 ],
 "metadata": {
  "kernelspec": {
   "display_name": "Python 3 (ipykernel)",
   "language": "python",
   "name": "python3"
  },
  "language_info": {
   "codemirror_mode": {
    "name": "ipython",
    "version": 3
   },
   "file_extension": ".py",
   "mimetype": "text/x-python",
   "name": "python",
   "nbconvert_exporter": "python",
   "pygments_lexer": "ipython3",
   "version": "3.9.7"
  }
 },
 "nbformat": 4,
 "nbformat_minor": 5
}
